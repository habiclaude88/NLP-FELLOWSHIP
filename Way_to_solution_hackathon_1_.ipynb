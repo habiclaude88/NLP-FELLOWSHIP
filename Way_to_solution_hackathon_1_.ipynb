{
  "nbformat": 4,
  "nbformat_minor": 0,
  "metadata": {
    "colab": {
      "provenance": [],
      "collapsed_sections": [
        "_izFPZptBbqy"
      ],
      "include_colab_link": true
    },
    "kernelspec": {
      "name": "python3",
      "display_name": "Python 3"
    },
    "language_info": {
      "name": "python"
    },
    "gpuClass": "standard"
  },
  "cells": [
    {
      "cell_type": "markdown",
      "metadata": {
        "id": "view-in-github",
        "colab_type": "text"
      },
      "source": [
        "<a href=\"https://colab.research.google.com/github/habiclaude88/NLP-FELLOWSHIP/blob/main/Way_to_solution_hackathon_1_.ipynb\" target=\"_parent\"><img src=\"https://colab.research.google.com/assets/colab-badge.svg\" alt=\"Open In Colab\"/></a>"
      ]
    },
    {
      "cell_type": "code",
      "source": [
        "import re\n",
        "import requests"
      ],
      "metadata": {
        "id": "g_Q-XJFqeY2T"
      },
      "execution_count": null,
      "outputs": []
    },
    {
      "cell_type": "code",
      "source": [
        "from google.colab import drive\n",
        "drive.mount('/content/drive')"
      ],
      "metadata": {
        "id": "SKaVL6Hve_cm"
      },
      "execution_count": null,
      "outputs": []
    },
    {
      "cell_type": "code",
      "source": [
        "content_featured = requests.get('https://www.jobinrwanda.com').content "
      ],
      "metadata": {
        "id": "Vc-HexneeYlN"
      },
      "execution_count": null,
      "outputs": []
    },
    {
      "cell_type": "code",
      "source": [
        "page_featured = BeautifulSoup(content_featured, 'html.parser')\n",
        "adverts_all = page_featured.find_all('div', class_='card-body p-2')"
      ],
      "metadata": {
        "id": "74qxZaiYeiy9"
      },
      "execution_count": null,
      "outputs": []
    },
    {
      "cell_type": "code",
      "source": [
        "adverts_all[10].find_all('p')[0].find('span').getText()"
      ],
      "metadata": {
        "id": "mA53HOwJewmO",
        "colab": {
          "base_uri": "https://localhost:8080/",
          "height": 35
        },
        "outputId": "7b646ea7-09a1-4356-9479-ed9c04e4d21c"
      },
      "execution_count": null,
      "outputs": [
        {
          "output_type": "execute_result",
          "data": {
            "text/plain": [
              "'Consultancy'"
            ],
            "application/vnd.google.colaboratory.intrinsic+json": {
              "type": "string"
            }
          },
          "metadata": {},
          "execution_count": 34
        }
      ]
    },
    {
      "cell_type": "code",
      "source": [],
      "metadata": {
        "id": "b745-iHUfwnr"
      },
      "execution_count": null,
      "outputs": []
    },
    {
      "cell_type": "code",
      "source": [
        "\n"
      ],
      "metadata": {
        "id": "rHFaTIMifyxG"
      },
      "execution_count": null,
      "outputs": []
    },
    {
      "cell_type": "markdown",
      "source": [
        "# Job in Rwanda"
      ],
      "metadata": {
        "id": "kcoELpuPeZdG"
      }
    },
    {
      "cell_type": "code",
      "execution_count": null,
      "metadata": {
        "id": "jsw4t2JGbIYS"
      },
      "outputs": [],
      "source": [
        "import requests #Fetch HTML Pages from the Web\n",
        "from bs4 import BeautifulSoup #Extract information from HTML pages\n",
        "import pandas as pd #organise our data into tabular/tables"
      ]
    },
    {
      "cell_type": "markdown",
      "source": [],
      "metadata": {
        "id": "Vm7Bqjeirq50"
      }
    },
    {
      "cell_type": "code",
      "source": [
        "#Fetch Website HTML content using request library\n",
        "content_jobs = requests.get('https://www.jobinrwanda.com').content #Jobss"
      ],
      "metadata": {
        "id": "jMGAjc1Jd9GU"
      },
      "execution_count": null,
      "outputs": []
    },
    {
      "cell_type": "code",
      "source": [
        "content_jobs #SHow the raw html content of jobs"
      ],
      "metadata": {
        "id": "n0CiXf4zgkCn"
      },
      "execution_count": null,
      "outputs": []
    },
    {
      "cell_type": "code",
      "source": [
        "page = BeautifulSoup(content_jobs, 'html.parser')"
      ],
      "metadata": {
        "id": "r3KovX6ehiTF"
      },
      "execution_count": null,
      "outputs": []
    },
    {
      "cell_type": "code",
      "source": [
        "adverts = page.find_all('div', class_='card-body p-2')"
      ],
      "metadata": {
        "id": "u3uxp0oPhuu9"
      },
      "execution_count": null,
      "outputs": []
    },
    {
      "cell_type": "code",
      "source": [
        "adverts[0]"
      ],
      "metadata": {
        "colab": {
          "base_uri": "https://localhost:8080/"
        },
        "id": "CB9QeiP4iFfa",
        "outputId": "3eb355eb-6545-4295-a3b7-f7ecae247c5a"
      },
      "execution_count": null,
      "outputs": [
        {
          "output_type": "execute_result",
          "data": {
            "text/plain": [
              "<div class=\"card-body p-2\">\n",
              "<a href=\"/job/organizational-development-and-accountability-advisor\"><h5 class=\"card-title\"><span class=\"field field--name-title field--type-string field--label-hidden\">​​​​​​​Organizational Development and Accountability Advisor</span>\n",
              "</h5></a>\n",
              "<p class=\"card-text\">\n",
              "<a href=\"/employer/trocaire\">Trócaire</a>  |\n",
              "              Published on 17-11-2022 |\n",
              "              Deadline <time class=\"datetime\" datetime=\"2022-11-30T15:00:00Z\">30-11-2022</time>\n",
              "<br/>\n",
              "                              Senior (5+ years of experience)<br/>\n",
              "<span class=\"badge badge-primary\">Job</span>\n",
              "</p>\n",
              "</div>"
            ]
          },
          "metadata": {},
          "execution_count": 40
        }
      ]
    },
    {
      "cell_type": "code",
      "source": [
        "# <div class=\"card-body p-2\">\n",
        "#   <a href=\"/job/procurement-manager-7\">\n",
        "#     <h5 class=\"card-title\">\n",
        "#       <span class=\"field field--name-title field--type-string field--label-hidden\"> Procurement Manager</span>\n",
        "#     </h5>\n",
        "#   </a>\n",
        "#   <p class=\"card-text\">\n",
        "#     <a href=\"/employer/access-finance-rwanda-afr\">Access to Finance Rwanda (AFR)</a> | Published on 31-10-2022 | Deadline <time class=\"datetime\" datetime=\"2022-11-10T17:00:00Z\">10-11-2022</time>\n",
        "#     <br /> Senior (5+ years of experience) <br />\n",
        "#     <span class=\"badge badge-primary\">Job</span>\n",
        "#   </p>\n",
        "# </div>"
      ],
      "metadata": {
        "id": "EZWq4Xcwr5FW"
      },
      "execution_count": null,
      "outputs": []
    },
    {
      "cell_type": "code",
      "source": [
        "text = adverts[0].find('p').getText()\n",
        "pub = text.split('\\n')"
      ],
      "metadata": {
        "id": "mbFbpPbQtXd5"
      },
      "execution_count": null,
      "outputs": []
    },
    {
      "cell_type": "code",
      "source": [
        "pub[2]"
      ],
      "metadata": {
        "id": "nn5Ca-kMuzcZ",
        "colab": {
          "base_uri": "https://localhost:8080/",
          "height": 35
        },
        "outputId": "a04fd437-d3a6-41be-f61c-01d778eb5b48"
      },
      "execution_count": null,
      "outputs": [
        {
          "output_type": "execute_result",
          "data": {
            "text/plain": [
              "'              Published on 17-11-2022 |'"
            ],
            "application/vnd.google.colaboratory.intrinsic+json": {
              "type": "string"
            }
          },
          "metadata": {},
          "execution_count": 43
        }
      ]
    },
    {
      "cell_type": "code",
      "source": [
        "adverts[0].find('span').getText() #Title of Each Job advert\n",
        "\n",
        "adverts[0].find('a')['href']  #Link to the content of each job title\n",
        "\n",
        "adverts[0].find('p').find('a')['href'] #Link to the Institution that has posted the advert\n",
        "\n",
        "adverts[0].find('p').find('a').getText() #This is the name of the company"
      ],
      "metadata": {
        "id": "4zyHAy9zk7S6",
        "colab": {
          "base_uri": "https://localhost:8080/",
          "height": 35
        },
        "outputId": "8f152fa4-c4ae-49fb-b990-64d749da00c2"
      },
      "execution_count": null,
      "outputs": [
        {
          "output_type": "execute_result",
          "data": {
            "text/plain": [
              "'Trócaire'"
            ],
            "application/vnd.google.colaboratory.intrinsic+json": {
              "type": "string"
            }
          },
          "metadata": {},
          "execution_count": 44
        }
      ]
    },
    {
      "cell_type": "code",
      "source": [
        "df = pd.DataFrame(columns=['link', 'title', 'company_link', 'company', 'type'])\n",
        "# df['link'] = None\n",
        "# df['title'] = None\n",
        "# df['company_link'] = None\n",
        "# df['company'] = None\n",
        "# df['type'] = None"
      ],
      "metadata": {
        "id": "nVT42-1YowJZ"
      },
      "execution_count": null,
      "outputs": []
    },
    {
      "cell_type": "code",
      "source": [
        "df"
      ],
      "metadata": {
        "id": "VsyQAHpKwI1z",
        "colab": {
          "base_uri": "https://localhost:8080/",
          "height": 49
        },
        "outputId": "68a4f0c6-1b4e-470f-b6a7-13c3a4d20f69"
      },
      "execution_count": null,
      "outputs": [
        {
          "output_type": "execute_result",
          "data": {
            "text/plain": [
              "Empty DataFrame\n",
              "Columns: [link, title, company_link, company, type]\n",
              "Index: []"
            ],
            "text/html": [
              "\n",
              "  <div id=\"df-41252608-f92f-489a-9e74-083163ce4f08\">\n",
              "    <div class=\"colab-df-container\">\n",
              "      <div>\n",
              "<style scoped>\n",
              "    .dataframe tbody tr th:only-of-type {\n",
              "        vertical-align: middle;\n",
              "    }\n",
              "\n",
              "    .dataframe tbody tr th {\n",
              "        vertical-align: top;\n",
              "    }\n",
              "\n",
              "    .dataframe thead th {\n",
              "        text-align: right;\n",
              "    }\n",
              "</style>\n",
              "<table border=\"1\" class=\"dataframe\">\n",
              "  <thead>\n",
              "    <tr style=\"text-align: right;\">\n",
              "      <th></th>\n",
              "      <th>link</th>\n",
              "      <th>title</th>\n",
              "      <th>company_link</th>\n",
              "      <th>company</th>\n",
              "      <th>type</th>\n",
              "    </tr>\n",
              "  </thead>\n",
              "  <tbody>\n",
              "  </tbody>\n",
              "</table>\n",
              "</div>\n",
              "      <button class=\"colab-df-convert\" onclick=\"convertToInteractive('df-41252608-f92f-489a-9e74-083163ce4f08')\"\n",
              "              title=\"Convert this dataframe to an interactive table.\"\n",
              "              style=\"display:none;\">\n",
              "        \n",
              "  <svg xmlns=\"http://www.w3.org/2000/svg\" height=\"24px\"viewBox=\"0 0 24 24\"\n",
              "       width=\"24px\">\n",
              "    <path d=\"M0 0h24v24H0V0z\" fill=\"none\"/>\n",
              "    <path d=\"M18.56 5.44l.94 2.06.94-2.06 2.06-.94-2.06-.94-.94-2.06-.94 2.06-2.06.94zm-11 1L8.5 8.5l.94-2.06 2.06-.94-2.06-.94L8.5 2.5l-.94 2.06-2.06.94zm10 10l.94 2.06.94-2.06 2.06-.94-2.06-.94-.94-2.06-.94 2.06-2.06.94z\"/><path d=\"M17.41 7.96l-1.37-1.37c-.4-.4-.92-.59-1.43-.59-.52 0-1.04.2-1.43.59L10.3 9.45l-7.72 7.72c-.78.78-.78 2.05 0 2.83L4 21.41c.39.39.9.59 1.41.59.51 0 1.02-.2 1.41-.59l7.78-7.78 2.81-2.81c.8-.78.8-2.07 0-2.86zM5.41 20L4 18.59l7.72-7.72 1.47 1.35L5.41 20z\"/>\n",
              "  </svg>\n",
              "      </button>\n",
              "      \n",
              "  <style>\n",
              "    .colab-df-container {\n",
              "      display:flex;\n",
              "      flex-wrap:wrap;\n",
              "      gap: 12px;\n",
              "    }\n",
              "\n",
              "    .colab-df-convert {\n",
              "      background-color: #E8F0FE;\n",
              "      border: none;\n",
              "      border-radius: 50%;\n",
              "      cursor: pointer;\n",
              "      display: none;\n",
              "      fill: #1967D2;\n",
              "      height: 32px;\n",
              "      padding: 0 0 0 0;\n",
              "      width: 32px;\n",
              "    }\n",
              "\n",
              "    .colab-df-convert:hover {\n",
              "      background-color: #E2EBFA;\n",
              "      box-shadow: 0px 1px 2px rgba(60, 64, 67, 0.3), 0px 1px 3px 1px rgba(60, 64, 67, 0.15);\n",
              "      fill: #174EA6;\n",
              "    }\n",
              "\n",
              "    [theme=dark] .colab-df-convert {\n",
              "      background-color: #3B4455;\n",
              "      fill: #D2E3FC;\n",
              "    }\n",
              "\n",
              "    [theme=dark] .colab-df-convert:hover {\n",
              "      background-color: #434B5C;\n",
              "      box-shadow: 0px 1px 3px 1px rgba(0, 0, 0, 0.15);\n",
              "      filter: drop-shadow(0px 1px 2px rgba(0, 0, 0, 0.3));\n",
              "      fill: #FFFFFF;\n",
              "    }\n",
              "  </style>\n",
              "\n",
              "      <script>\n",
              "        const buttonEl =\n",
              "          document.querySelector('#df-41252608-f92f-489a-9e74-083163ce4f08 button.colab-df-convert');\n",
              "        buttonEl.style.display =\n",
              "          google.colab.kernel.accessAllowed ? 'block' : 'none';\n",
              "\n",
              "        async function convertToInteractive(key) {\n",
              "          const element = document.querySelector('#df-41252608-f92f-489a-9e74-083163ce4f08');\n",
              "          const dataTable =\n",
              "            await google.colab.kernel.invokeFunction('convertToInteractive',\n",
              "                                                     [key], {});\n",
              "          if (!dataTable) return;\n",
              "\n",
              "          const docLinkHtml = 'Like what you see? Visit the ' +\n",
              "            '<a target=\"_blank\" href=https://colab.research.google.com/notebooks/data_table.ipynb>data table notebook</a>'\n",
              "            + ' to learn more about interactive tables.';\n",
              "          element.innerHTML = '';\n",
              "          dataTable['output_type'] = 'display_data';\n",
              "          await google.colab.output.renderOutput(dataTable, element);\n",
              "          const docLink = document.createElement('div');\n",
              "          docLink.innerHTML = docLinkHtml;\n",
              "          element.appendChild(docLink);\n",
              "        }\n",
              "      </script>\n",
              "    </div>\n",
              "  </div>\n",
              "  "
            ]
          },
          "metadata": {},
          "execution_count": 46
        }
      ]
    },
    {
      "cell_type": "code",
      "source": [
        "items = ['a', 'v', 'b']\n",
        "for position, item in enumerate(items):\n",
        "  print('My index is',position,'And letter is', item)\n",
        "\n",
        "#Short INtro to Enumerate"
      ],
      "metadata": {
        "id": "iMMzMezNp_Zb",
        "colab": {
          "base_uri": "https://localhost:8080/"
        },
        "outputId": "4412f383-bb31-457c-e7b7-3c9b860bde3d"
      },
      "execution_count": null,
      "outputs": [
        {
          "output_type": "stream",
          "name": "stdout",
          "text": [
            "My index is 0 And letter is a\n",
            "My index is 1 And letter is v\n",
            "My index is 2 And letter is b\n"
          ]
        }
      ]
    },
    {
      "cell_type": "code",
      "source": [
        "adverts[0].find('p').find('span').getText()"
      ],
      "metadata": {
        "id": "RRQXZvixq0ts",
        "colab": {
          "base_uri": "https://localhost:8080/",
          "height": 35
        },
        "outputId": "ff6d75ed-f3c8-4593-9c7f-ccd161d28f92"
      },
      "execution_count": null,
      "outputs": [
        {
          "output_type": "execute_result",
          "data": {
            "text/plain": [
              "'Job'"
            ],
            "application/vnd.google.colaboratory.intrinsic+json": {
              "type": "string"
            }
          },
          "metadata": {},
          "execution_count": 48
        }
      ]
    },
    {
      "cell_type": "code",
      "source": [
        "def parse_content(adverts):\n",
        "  link = []\n",
        "  title = []\n",
        "  company = []\n",
        "  company_link = []\n",
        "  job_type = []\n",
        "  for item in adverts:\n",
        "    dlink = 'https://www.jobinrwanda.com' +  item.find('a')['href']\n",
        "    link.append(dlink)\n",
        "\n",
        "    title.append(item.find('span').getText()) #GEt the title from\n",
        "\n",
        "    company.append(item.find('p').find('a').getText())\n",
        "\n",
        "    company_link.append(item.find('p').find('a'))\n",
        "\n",
        "    job_type.append(item.find('p').find('span').text) #Whether its a job/consultacy/tender\n",
        "  return link, title, company, company_link, job_type"
      ],
      "metadata": {
        "id": "Km0FtmidpPbj"
      },
      "execution_count": null,
      "outputs": []
    },
    {
      "cell_type": "code",
      "source": [
        "#Jobs Advert\n",
        "\n",
        "content_jobs = requests.get('https://www.jobinrwanda.com').content #Jobss\n",
        "\n",
        "content_jobs_bs = BeautifulSoup(content_jobs, 'html.parser')\n",
        "\n",
        "content_jobs_titles = content_jobs_bs.find_all('div', class_='card-body p-2') #Getting each title\n",
        "\n",
        "df['link'], df['title'], df['company'], df['company_link'], df['type']= parse_content(content_jobs_titles)"
      ],
      "metadata": {
        "id": "2yfV0LUPrrsX"
      },
      "execution_count": null,
      "outputs": []
    },
    {
      "cell_type": "code",
      "source": [
        "df"
      ],
      "metadata": {
        "id": "dBOvDmKTwS7r",
        "colab": {
          "base_uri": "https://localhost:8080/",
          "height": 424
        },
        "outputId": "b0f5e2fb-9c01-4c91-855a-eaba23e3ed54"
      },
      "execution_count": null,
      "outputs": [
        {
          "output_type": "execute_result",
          "data": {
            "text/plain": [
              "                                                  link  \\\n",
              "0    https://www.jobinrwanda.com/job/organizational...   \n",
              "1    https://www.jobinrwanda.com/job/monitoring-inc...   \n",
              "2    https://www.jobinrwanda.com/job/resource-mobil...   \n",
              "3    https://www.jobinrwanda.com/job/request-propos...   \n",
              "4    https://www.jobinrwanda.com/job/finance-manage...   \n",
              "..                                                 ...   \n",
              "174   https://www.jobinrwanda.com/job/rwanda-tree-lead   \n",
              "175  https://www.jobinrwanda.com/index.php/job/rwan...   \n",
              "176  https://www.jobinrwanda.com/job/it-operations-...   \n",
              "177  https://www.jobinrwanda.com/job/rwanda-seed-in...   \n",
              "178  https://www.jobinrwanda.com/job/senior-busines...   \n",
              "\n",
              "                                                 title  \\\n",
              "0    ​​​​​​​Organizational Development and Accounta...   \n",
              "1           Monitoring, Inclusion and Learning Advisor   \n",
              "2              Resource Mobilization and Grant Manager   \n",
              "3    Request for Proposals for Electronic Logistics...   \n",
              "4                                      Finance Manager   \n",
              "..                                                 ...   \n",
              "174                                   Rwanda Tree Lead   \n",
              "175                  Rwanda Potato Seed Venture ﻿﻿Lead   \n",
              "176                       IT Operations Senior Manager   \n",
              "177                 Rwanda Seed Innovation Centre Lead   \n",
              "178                            Senior Business Analyst   \n",
              "\n",
              "                        company_link                        company    type  \n",
              "0                         [Trócaire]                       Trócaire     Job  \n",
              "1                         [Trócaire]                       Trócaire     Job  \n",
              "2                         [Trócaire]                       Trócaire     Job  \n",
              "3    [Chemonics International Inc. ]  Chemonics International Inc.   Tender  \n",
              "4               [The Women's Bakery]             The Women's Bakery     Job  \n",
              "..                               ...                            ...     ...  \n",
              "174                  [One Acre Fund]                  One Acre Fund     Job  \n",
              "175                  [One Acre Fund]                  One Acre Fund     Job  \n",
              "176                  [One Acre Fund]                  One Acre Fund     Job  \n",
              "177                  [One Acre Fund]                  One Acre Fund     Job  \n",
              "178                  [One Acre Fund]                  One Acre Fund     Job  \n",
              "\n",
              "[179 rows x 5 columns]"
            ],
            "text/html": [
              "\n",
              "  <div id=\"df-140ff9aa-5a26-46b8-b11c-598fdc937528\">\n",
              "    <div class=\"colab-df-container\">\n",
              "      <div>\n",
              "<style scoped>\n",
              "    .dataframe tbody tr th:only-of-type {\n",
              "        vertical-align: middle;\n",
              "    }\n",
              "\n",
              "    .dataframe tbody tr th {\n",
              "        vertical-align: top;\n",
              "    }\n",
              "\n",
              "    .dataframe thead th {\n",
              "        text-align: right;\n",
              "    }\n",
              "</style>\n",
              "<table border=\"1\" class=\"dataframe\">\n",
              "  <thead>\n",
              "    <tr style=\"text-align: right;\">\n",
              "      <th></th>\n",
              "      <th>link</th>\n",
              "      <th>title</th>\n",
              "      <th>company_link</th>\n",
              "      <th>company</th>\n",
              "      <th>type</th>\n",
              "    </tr>\n",
              "  </thead>\n",
              "  <tbody>\n",
              "    <tr>\n",
              "      <th>0</th>\n",
              "      <td>https://www.jobinrwanda.com/job/organizational...</td>\n",
              "      <td>​​​​​​​Organizational Development and Accounta...</td>\n",
              "      <td>[Trócaire]</td>\n",
              "      <td>Trócaire</td>\n",
              "      <td>Job</td>\n",
              "    </tr>\n",
              "    <tr>\n",
              "      <th>1</th>\n",
              "      <td>https://www.jobinrwanda.com/job/monitoring-inc...</td>\n",
              "      <td>Monitoring, Inclusion and Learning Advisor</td>\n",
              "      <td>[Trócaire]</td>\n",
              "      <td>Trócaire</td>\n",
              "      <td>Job</td>\n",
              "    </tr>\n",
              "    <tr>\n",
              "      <th>2</th>\n",
              "      <td>https://www.jobinrwanda.com/job/resource-mobil...</td>\n",
              "      <td>Resource Mobilization and Grant Manager</td>\n",
              "      <td>[Trócaire]</td>\n",
              "      <td>Trócaire</td>\n",
              "      <td>Job</td>\n",
              "    </tr>\n",
              "    <tr>\n",
              "      <th>3</th>\n",
              "      <td>https://www.jobinrwanda.com/job/request-propos...</td>\n",
              "      <td>Request for Proposals for Electronic Logistics...</td>\n",
              "      <td>[Chemonics International Inc. ]</td>\n",
              "      <td>Chemonics International Inc.</td>\n",
              "      <td>Tender</td>\n",
              "    </tr>\n",
              "    <tr>\n",
              "      <th>4</th>\n",
              "      <td>https://www.jobinrwanda.com/job/finance-manage...</td>\n",
              "      <td>Finance Manager</td>\n",
              "      <td>[The Women's Bakery]</td>\n",
              "      <td>The Women's Bakery</td>\n",
              "      <td>Job</td>\n",
              "    </tr>\n",
              "    <tr>\n",
              "      <th>...</th>\n",
              "      <td>...</td>\n",
              "      <td>...</td>\n",
              "      <td>...</td>\n",
              "      <td>...</td>\n",
              "      <td>...</td>\n",
              "    </tr>\n",
              "    <tr>\n",
              "      <th>174</th>\n",
              "      <td>https://www.jobinrwanda.com/job/rwanda-tree-lead</td>\n",
              "      <td>Rwanda Tree Lead</td>\n",
              "      <td>[One Acre Fund]</td>\n",
              "      <td>One Acre Fund</td>\n",
              "      <td>Job</td>\n",
              "    </tr>\n",
              "    <tr>\n",
              "      <th>175</th>\n",
              "      <td>https://www.jobinrwanda.com/index.php/job/rwan...</td>\n",
              "      <td>Rwanda Potato Seed Venture ﻿﻿Lead</td>\n",
              "      <td>[One Acre Fund]</td>\n",
              "      <td>One Acre Fund</td>\n",
              "      <td>Job</td>\n",
              "    </tr>\n",
              "    <tr>\n",
              "      <th>176</th>\n",
              "      <td>https://www.jobinrwanda.com/job/it-operations-...</td>\n",
              "      <td>IT Operations Senior Manager</td>\n",
              "      <td>[One Acre Fund]</td>\n",
              "      <td>One Acre Fund</td>\n",
              "      <td>Job</td>\n",
              "    </tr>\n",
              "    <tr>\n",
              "      <th>177</th>\n",
              "      <td>https://www.jobinrwanda.com/job/rwanda-seed-in...</td>\n",
              "      <td>Rwanda Seed Innovation Centre Lead</td>\n",
              "      <td>[One Acre Fund]</td>\n",
              "      <td>One Acre Fund</td>\n",
              "      <td>Job</td>\n",
              "    </tr>\n",
              "    <tr>\n",
              "      <th>178</th>\n",
              "      <td>https://www.jobinrwanda.com/job/senior-busines...</td>\n",
              "      <td>Senior Business Analyst</td>\n",
              "      <td>[One Acre Fund]</td>\n",
              "      <td>One Acre Fund</td>\n",
              "      <td>Job</td>\n",
              "    </tr>\n",
              "  </tbody>\n",
              "</table>\n",
              "<p>179 rows × 5 columns</p>\n",
              "</div>\n",
              "      <button class=\"colab-df-convert\" onclick=\"convertToInteractive('df-140ff9aa-5a26-46b8-b11c-598fdc937528')\"\n",
              "              title=\"Convert this dataframe to an interactive table.\"\n",
              "              style=\"display:none;\">\n",
              "        \n",
              "  <svg xmlns=\"http://www.w3.org/2000/svg\" height=\"24px\"viewBox=\"0 0 24 24\"\n",
              "       width=\"24px\">\n",
              "    <path d=\"M0 0h24v24H0V0z\" fill=\"none\"/>\n",
              "    <path d=\"M18.56 5.44l.94 2.06.94-2.06 2.06-.94-2.06-.94-.94-2.06-.94 2.06-2.06.94zm-11 1L8.5 8.5l.94-2.06 2.06-.94-2.06-.94L8.5 2.5l-.94 2.06-2.06.94zm10 10l.94 2.06.94-2.06 2.06-.94-2.06-.94-.94-2.06-.94 2.06-2.06.94z\"/><path d=\"M17.41 7.96l-1.37-1.37c-.4-.4-.92-.59-1.43-.59-.52 0-1.04.2-1.43.59L10.3 9.45l-7.72 7.72c-.78.78-.78 2.05 0 2.83L4 21.41c.39.39.9.59 1.41.59.51 0 1.02-.2 1.41-.59l7.78-7.78 2.81-2.81c.8-.78.8-2.07 0-2.86zM5.41 20L4 18.59l7.72-7.72 1.47 1.35L5.41 20z\"/>\n",
              "  </svg>\n",
              "      </button>\n",
              "      \n",
              "  <style>\n",
              "    .colab-df-container {\n",
              "      display:flex;\n",
              "      flex-wrap:wrap;\n",
              "      gap: 12px;\n",
              "    }\n",
              "\n",
              "    .colab-df-convert {\n",
              "      background-color: #E8F0FE;\n",
              "      border: none;\n",
              "      border-radius: 50%;\n",
              "      cursor: pointer;\n",
              "      display: none;\n",
              "      fill: #1967D2;\n",
              "      height: 32px;\n",
              "      padding: 0 0 0 0;\n",
              "      width: 32px;\n",
              "    }\n",
              "\n",
              "    .colab-df-convert:hover {\n",
              "      background-color: #E2EBFA;\n",
              "      box-shadow: 0px 1px 2px rgba(60, 64, 67, 0.3), 0px 1px 3px 1px rgba(60, 64, 67, 0.15);\n",
              "      fill: #174EA6;\n",
              "    }\n",
              "\n",
              "    [theme=dark] .colab-df-convert {\n",
              "      background-color: #3B4455;\n",
              "      fill: #D2E3FC;\n",
              "    }\n",
              "\n",
              "    [theme=dark] .colab-df-convert:hover {\n",
              "      background-color: #434B5C;\n",
              "      box-shadow: 0px 1px 3px 1px rgba(0, 0, 0, 0.15);\n",
              "      filter: drop-shadow(0px 1px 2px rgba(0, 0, 0, 0.3));\n",
              "      fill: #FFFFFF;\n",
              "    }\n",
              "  </style>\n",
              "\n",
              "      <script>\n",
              "        const buttonEl =\n",
              "          document.querySelector('#df-140ff9aa-5a26-46b8-b11c-598fdc937528 button.colab-df-convert');\n",
              "        buttonEl.style.display =\n",
              "          google.colab.kernel.accessAllowed ? 'block' : 'none';\n",
              "\n",
              "        async function convertToInteractive(key) {\n",
              "          const element = document.querySelector('#df-140ff9aa-5a26-46b8-b11c-598fdc937528');\n",
              "          const dataTable =\n",
              "            await google.colab.kernel.invokeFunction('convertToInteractive',\n",
              "                                                     [key], {});\n",
              "          if (!dataTable) return;\n",
              "\n",
              "          const docLinkHtml = 'Like what you see? Visit the ' +\n",
              "            '<a target=\"_blank\" href=https://colab.research.google.com/notebooks/data_table.ipynb>data table notebook</a>'\n",
              "            + ' to learn more about interactive tables.';\n",
              "          element.innerHTML = '';\n",
              "          dataTable['output_type'] = 'display_data';\n",
              "          await google.colab.output.renderOutput(dataTable, element);\n",
              "          const docLink = document.createElement('div');\n",
              "          docLink.innerHTML = docLinkHtml;\n",
              "          element.appendChild(docLink);\n",
              "        }\n",
              "      </script>\n",
              "    </div>\n",
              "  </div>\n",
              "  "
            ]
          },
          "metadata": {},
          "execution_count": 51
        }
      ]
    },
    {
      "cell_type": "code",
      "source": [
        "df"
      ],
      "metadata": {
        "id": "mED1Cut34gEE"
      },
      "execution_count": null,
      "outputs": []
    },
    {
      "cell_type": "code",
      "source": [
        "dlink"
      ],
      "metadata": {
        "id": "dYrj8OVB5HNE",
        "colab": {
          "base_uri": "https://localhost:8080/",
          "height": 35
        },
        "outputId": "6f486f84-f439-4005-837d-eeb461c4510d"
      },
      "execution_count": null,
      "outputs": [
        {
          "output_type": "execute_result",
          "data": {
            "text/plain": [
              "'https://www.jobinrwanda.comhttps://www.jobinrwanda.com/job/organizational-development-and-accountability-advisor'"
            ],
            "application/vnd.google.colaboratory.intrinsic+json": {
              "type": "string"
            }
          },
          "metadata": {},
          "execution_count": 53
        }
      ]
    },
    {
      "cell_type": "code",
      "source": [],
      "metadata": {
        "id": "iYDccsW1vC57"
      },
      "execution_count": null,
      "outputs": []
    },
    {
      "cell_type": "code",
      "source": [
        "job_description_raw_content = requests.get('https://www.jobinrwanda.com/job/global-remote-sensing-manager').content"
      ],
      "metadata": {
        "id": "yswm2DYHxaOU"
      },
      "execution_count": null,
      "outputs": []
    },
    {
      "cell_type": "code",
      "source": [
        "job_description_raw_content"
      ],
      "metadata": {
        "id": "4vL5sqxox5as"
      },
      "execution_count": null,
      "outputs": []
    },
    {
      "cell_type": "code",
      "source": [
        "job_description_bs = BeautifulSoup(job_description_raw_content, 'html.parser')"
      ],
      "metadata": {
        "id": "BG0ddhWrxsHD"
      },
      "execution_count": null,
      "outputs": []
    },
    {
      "cell_type": "code",
      "source": [
        "job_description_bs.find_all('div', class_='employer-description') #Employer Description"
      ],
      "metadata": {
        "id": "U7IBFmzJyCJh",
        "colab": {
          "base_uri": "https://localhost:8080/"
        },
        "outputId": "acd584c3-9d52-4f0a-a5ad-24ea4f6800e1"
      },
      "execution_count": null,
      "outputs": [
        {
          "output_type": "execute_result",
          "data": {
            "text/plain": [
              "[<div class=\"employer-description\" style=\"overflow: hidden\">\n",
              " <p class=\"rtejustify\">Founded in 2006, One Acre Fund supplies 1 million smallholder farmers with the agricultural services they need to make their farms vastly more productive. Our 8,000+ team is drawn from diverse backgrounds and professions. With operations across six core countries in Africa, we make farmers more prosperous by providing quality farm supplies on credit, delivered within walking distance of farmers’ homes, and agricultural training to improve harvests. On average, the farmers we serve harvest 50 percent more food after working with One Acre Fund. </p>\n",
              " <p class=\"rtejustify\">To learn more about our work, take a look at our <a href=\"https://oneacrefund.org/work-with-us/why-work-here/why-work-here/\" target=\"_blank\">Why Work Here</a> blog for more information.</p>\n",
              " </div>]"
            ]
          },
          "metadata": {},
          "execution_count": 57
        }
      ]
    },
    {
      "cell_type": "code",
      "source": [
        "describe = job_description_bs.find_all('div', class_=\"clearfix text-formatted field field--name-field-job-full-description field--type-text-long field--label-hidden field__item\") #Employer Description"
      ],
      "metadata": {
        "id": "C1z3mjb4yS-F"
      },
      "execution_count": null,
      "outputs": []
    },
    {
      "cell_type": "code",
      "source": [
        "df['description'] = ''\n",
        "df['employeer_description'] = ''"
      ],
      "metadata": {
        "id": "yBumTVKi2dEI"
      },
      "execution_count": null,
      "outputs": []
    },
    {
      "cell_type": "code",
      "source": [
        "def get_description(job_link):\n",
        "  job_description_raw_content = requests.get(job_link).content #request raw content\n",
        "\n",
        "  job_description_bs = BeautifulSoup(job_description_raw_content, 'html.parser')  #pass the html raw content to beautifull soup\n",
        "  \n",
        "  employeer_description = job_description_bs.find_all('div', class_='employer-description') #Employer Description\n",
        "  #Get the entire job description\n",
        "  \n",
        "  describe = job_description_bs.find_all('div', class_=\"clearfix text-formatted field field--name-field-job-full-description field--type-text-long field--label-hidden field__item\") #Employer Description\n",
        "  \n",
        "  return describe, employeer_description"
      ],
      "metadata": {
        "id": "cltQod3qz04c"
      },
      "execution_count": null,
      "outputs": []
    },
    {
      "cell_type": "code",
      "source": [
        "description = []\n",
        "employer = []\n",
        "for position, link in enumerate(df['link']):\n",
        "  description_, employeer_  = get_description(job_link=link)\n",
        "  employer.append(employeer_)\n",
        "  description.append(description_)"
      ],
      "metadata": {
        "id": "1WxjoH3N0u2e"
      },
      "execution_count": null,
      "outputs": []
    },
    {
      "cell_type": "code",
      "source": [
        "description[30][0].getText()"
      ],
      "metadata": {
        "colab": {
          "base_uri": "https://localhost:8080/",
          "height": 140
        },
        "id": "qW2Y7a_x9IjO",
        "outputId": "8d735bb2-37c0-48f1-de6b-8a3cbc284c96"
      },
      "execution_count": null,
      "outputs": [
        {
          "output_type": "execute_result",
          "data": {
            "text/plain": [
              "'L’École Belge de Kigali recherche un\\xa0professeur de\\xa0langues germaniques\\xa0\\n-\\xa0Anglais -\\nL’École Belge de Kigali\\nL’École Belge de Kigali est une école privée internationale. Elle existe depuis plus de 55 ans. Créée par la coopération belge, elle est à présent gérée par une ASBL de droit rwandais. Elle est financée essentiellement par le minerval payé par les parents. Toutes les sections suivent les programmes de la Fédération Wallonie-Bruxelles. L’école reçoit périodiquement l’inspection, et ses diplômes sont reconnus par la Fédération. Ainsi, ses liens historiques avec la Belgique se maintiennent.\\nLa marque distinctive de l’école est celle d’un enseignement de qualité, et d’un environnement humain et bienveillant. Pour que le meilleur soit donné à nos élèves, nous sommes exigeants avec nos enseignants\\xa0! Nous attendons d’eux dynamisme, inventivité, implication, empathie, et aussi adaptation et souplesse.\\nNous accueillons à l’école des profils très différents\\xa0: aussi bien de jeunes diplômés que des personnes d’expérience ou des familles avec enfants.\\nNous recherchons pour janvier 2023\\xa0:\\nUn professeur d’anglais (AESI ou AESS)\\nNous privilégions les personnes porteuses d’un titre requis délivré par la FWB, et dotées d’une expérience de l’enseignement selon les programmes de la FWB.\\nVotre tâche\\nVous assurez le cours d’anglais standard à temps plein de la M3 à la P6.\\nVous travaillez en collaboration avec les autres professeurs d’anglais.\\nVous effectuez toutes les tâches liées à votre charge de professeur et participez à la vie de l’école.\\nVous veillez à assurer un niveau excellent en anglais\\xa0; notamment, vous organisez les tests Cambridge pour l’année 2022-2023.\\nProfil du candidat\\nÊtre titulaire d’un diplôme de type AESS ou AESI langues germaniques option anglais.\\nS’exprimer correctement en français, à l’oral comme à l’écrit\\xa0;\\nParler un anglais irréprochable.\\nPouvoir s’intégrer dans une équipe\\xa0;\\nFaire preuve de leadership, d’empathie, de capacité à se réinventer, de fermeté, d’adaptation et de sens de la communication.\\nLa procédure de recrutement\\nVeuillez envoyer votre CV, accompagné d’une lettre de motivation, à l’adresse suivante\\xa0:\\xa0recrutement@ebkrw.org\\nSi votre profil nous intéresse, nous vous demanderons de compléter un questionnaire plus approfondi, puis nous vous inviterons à une entrevue par vidéoconférence.\\nAttention\\xa0: si vous ne répondez pas au profil, nous vous prions de vous abstenir de postuler.\\n'"
            ],
            "application/vnd.google.colaboratory.intrinsic+json": {
              "type": "string"
            }
          },
          "metadata": {},
          "execution_count": 62
        }
      ]
    },
    {
      "cell_type": "code",
      "source": [
        "employer[30][0].getText()"
      ],
      "metadata": {
        "colab": {
          "base_uri": "https://localhost:8080/",
          "height": 165
        },
        "id": "SjEyTgpb-OIM",
        "outputId": "d8909cdf-47dc-44ac-c533-b5c4a2303a37"
      },
      "execution_count": null,
      "outputs": [
        {
          "output_type": "error",
          "ename": "IndexError",
          "evalue": "ignored",
          "traceback": [
            "\u001b[0;31m---------------------------------------------------------------------------\u001b[0m",
            "\u001b[0;31mIndexError\u001b[0m                                Traceback (most recent call last)",
            "\u001b[0;32m<ipython-input-63-a337dd7dffea>\u001b[0m in \u001b[0;36m<module>\u001b[0;34m\u001b[0m\n\u001b[0;32m----> 1\u001b[0;31m \u001b[0memployer\u001b[0m\u001b[0;34m[\u001b[0m\u001b[0;36m30\u001b[0m\u001b[0;34m]\u001b[0m\u001b[0;34m[\u001b[0m\u001b[0;36m0\u001b[0m\u001b[0;34m]\u001b[0m\u001b[0;34m.\u001b[0m\u001b[0mgetText\u001b[0m\u001b[0;34m(\u001b[0m\u001b[0;34m)\u001b[0m\u001b[0;34m\u001b[0m\u001b[0;34m\u001b[0m\u001b[0m\n\u001b[0m",
            "\u001b[0;31mIndexError\u001b[0m: list index out of range"
          ]
        }
      ]
    },
    {
      "cell_type": "code",
      "source": [
        "len(employer)"
      ],
      "metadata": {
        "colab": {
          "base_uri": "https://localhost:8080/"
        },
        "id": "uz8Q8fByyN1R",
        "outputId": "f3f9cedf-844c-452f-9598-38a1d486ca82"
      },
      "execution_count": null,
      "outputs": [
        {
          "output_type": "execute_result",
          "data": {
            "text/plain": [
              "179"
            ]
          },
          "metadata": {},
          "execution_count": 64
        }
      ]
    },
    {
      "cell_type": "code",
      "source": [
        "for row in range(len(df)):\n",
        "  try:\n",
        "    df.loc[row]['description'] = description[row][0].getText()\n",
        "    df.loc[row]['employeer_description'] = employer[row][0].getText()\n",
        "  except IndexError:\n",
        "    df.loc[row]['employeer_description'] = ''"
      ],
      "metadata": {
        "id": "v2dQbgrC23uc"
      },
      "execution_count": null,
      "outputs": []
    },
    {
      "cell_type": "code",
      "source": [
        "df.iloc[1]['description']"
      ],
      "metadata": {
        "colab": {
          "base_uri": "https://localhost:8080/",
          "height": 140
        },
        "id": "9md8l1-lyuot",
        "outputId": "86cbba78-192c-4f1a-fdf4-f7d5d45725fc"
      },
      "execution_count": null,
      "outputs": [
        {
          "output_type": "execute_result",
          "data": {
            "text/plain": [
              "'Trocaire Rwanda is recruiting three new positions:\\nMonitoring, Inclusion and Learning Advisor\\nAre you the passionate and committed team player that we are looking for?\\nAs the official overseas development agency of the Irish Catholic Church, Trócaire has started to work in Rwanda since 1994. For the period 2023-2027, Trócaire Rwanda will work in 3 Districts with 11 national partners. In Trócaire Rwanda’s new strategic plan (2021-2025) the ambition has been set out to become a key player in capacity strengthening for local organizations in the country. This is in line with\\xa0Trócaire’s global partnership and localization strategy (2021-2025).\\nMonitoring, Inclusion and Learning Advisor will report to Trocaire Rwanda’s Localization and Partnership Manager (LPM). Being a part of the new Localization and Partnership Team, you will play a key role in the roll out of Trócaire Rwanda’s localization and partnership capacity strengthening vision and ambitions.\\nAre you skilled in resource mobilization, organizational development, or monitoring and evaluation?\\nDo you have a genuine passion for supporting local civil society organizations in their organizational development and supporting them in achieving their organizational vision and objectives?\\nWe would love to see your application!\\nApplication deadline is on Wednesday 30 November at 17h00.\\nPlease note that applications are solely accepted through the following online application links:\\nMonitoring, Inclusion and Learning Advisor:\\n\\xa0https://apply.workable.com/trocaire/j/7D43441F87/\\nPlease note that written tests and interviews for shortlisted candidates will take place between 12 and 21 December 2022.\\n'"
            ],
            "application/vnd.google.colaboratory.intrinsic+json": {
              "type": "string"
            }
          },
          "metadata": {},
          "execution_count": 66
        }
      ]
    },
    {
      "cell_type": "code",
      "source": [
        "df"
      ],
      "metadata": {
        "colab": {
          "base_uri": "https://localhost:8080/",
          "height": 763
        },
        "id": "1CGNIms10nkO",
        "outputId": "408005cf-4e08-465e-a9cc-bb53628a40a8"
      },
      "execution_count": null,
      "outputs": [
        {
          "output_type": "execute_result",
          "data": {
            "text/plain": [
              "                                                  link  \\\n",
              "0    https://www.jobinrwanda.com/job/organizational...   \n",
              "1    https://www.jobinrwanda.com/job/monitoring-inc...   \n",
              "2    https://www.jobinrwanda.com/job/resource-mobil...   \n",
              "3    https://www.jobinrwanda.com/job/request-propos...   \n",
              "4    https://www.jobinrwanda.com/job/finance-manage...   \n",
              "..                                                 ...   \n",
              "174   https://www.jobinrwanda.com/job/rwanda-tree-lead   \n",
              "175  https://www.jobinrwanda.com/index.php/job/rwan...   \n",
              "176  https://www.jobinrwanda.com/job/it-operations-...   \n",
              "177  https://www.jobinrwanda.com/job/rwanda-seed-in...   \n",
              "178  https://www.jobinrwanda.com/job/senior-busines...   \n",
              "\n",
              "                                                 title  \\\n",
              "0    ​​​​​​​Organizational Development and Accounta...   \n",
              "1           Monitoring, Inclusion and Learning Advisor   \n",
              "2              Resource Mobilization and Grant Manager   \n",
              "3    Request for Proposals for Electronic Logistics...   \n",
              "4                                      Finance Manager   \n",
              "..                                                 ...   \n",
              "174                                   Rwanda Tree Lead   \n",
              "175                  Rwanda Potato Seed Venture ﻿﻿Lead   \n",
              "176                       IT Operations Senior Manager   \n",
              "177                 Rwanda Seed Innovation Centre Lead   \n",
              "178                            Senior Business Analyst   \n",
              "\n",
              "                        company_link                        company    type  \\\n",
              "0                         [Trócaire]                       Trócaire     Job   \n",
              "1                         [Trócaire]                       Trócaire     Job   \n",
              "2                         [Trócaire]                       Trócaire     Job   \n",
              "3    [Chemonics International Inc. ]  Chemonics International Inc.   Tender   \n",
              "4               [The Women's Bakery]             The Women's Bakery     Job   \n",
              "..                               ...                            ...     ...   \n",
              "174                  [One Acre Fund]                  One Acre Fund     Job   \n",
              "175                  [One Acre Fund]                  One Acre Fund     Job   \n",
              "176                  [One Acre Fund]                  One Acre Fund     Job   \n",
              "177                  [One Acre Fund]                  One Acre Fund     Job   \n",
              "178                  [One Acre Fund]                  One Acre Fund     Job   \n",
              "\n",
              "                                           description  \\\n",
              "0    Trocaire Rwanda is recruiting three new positi...   \n",
              "1    Trocaire Rwanda is recruiting three new positi...   \n",
              "2    Trocaire Rwanda is recruiting for the position...   \n",
              "3    Request for Proposals # PSM-RWA-ELMIS-2023\\nEl...   \n",
              "4    JOB OPPORTUNITY\\nThe Women’s Bakery, Inc. Over...   \n",
              "..                                                 ...   \n",
              "174  About One Acre Fund\\nFounded in 2006, One Acre...   \n",
              "175  About One Acre Fund\\nFounded in 2006, One Acre...   \n",
              "176  About One Acre Fund\\nFounded in 2006, One Acre...   \n",
              "177  About One Acre Fund\\nFounded in 2006, One Acre...   \n",
              "178  ABOUT ONE ACRE FUND\\nFounded in 2006, One Acre...   \n",
              "\n",
              "                                 employeer_description  \n",
              "0    \\nTrócaire is the official overseas developmen...  \n",
              "1    \\nTrócaire is the official overseas developmen...  \n",
              "2    \\nTrócaire is the official overseas developmen...  \n",
              "3                                                       \n",
              "4                                                       \n",
              "..                                                 ...  \n",
              "174  \\nFounded in 2006, One Acre Fund supplies 1 mi...  \n",
              "175  \\nFounded in 2006, One Acre Fund supplies 1 mi...  \n",
              "176  \\nFounded in 2006, One Acre Fund supplies 1 mi...  \n",
              "177  \\nFounded in 2006, One Acre Fund supplies 1 mi...  \n",
              "178  \\nFounded in 2006, One Acre Fund supplies 1 mi...  \n",
              "\n",
              "[179 rows x 7 columns]"
            ],
            "text/html": [
              "\n",
              "  <div id=\"df-0fc34ffe-e168-4677-ae25-c09787acb834\">\n",
              "    <div class=\"colab-df-container\">\n",
              "      <div>\n",
              "<style scoped>\n",
              "    .dataframe tbody tr th:only-of-type {\n",
              "        vertical-align: middle;\n",
              "    }\n",
              "\n",
              "    .dataframe tbody tr th {\n",
              "        vertical-align: top;\n",
              "    }\n",
              "\n",
              "    .dataframe thead th {\n",
              "        text-align: right;\n",
              "    }\n",
              "</style>\n",
              "<table border=\"1\" class=\"dataframe\">\n",
              "  <thead>\n",
              "    <tr style=\"text-align: right;\">\n",
              "      <th></th>\n",
              "      <th>link</th>\n",
              "      <th>title</th>\n",
              "      <th>company_link</th>\n",
              "      <th>company</th>\n",
              "      <th>type</th>\n",
              "      <th>description</th>\n",
              "      <th>employeer_description</th>\n",
              "    </tr>\n",
              "  </thead>\n",
              "  <tbody>\n",
              "    <tr>\n",
              "      <th>0</th>\n",
              "      <td>https://www.jobinrwanda.com/job/organizational...</td>\n",
              "      <td>​​​​​​​Organizational Development and Accounta...</td>\n",
              "      <td>[Trócaire]</td>\n",
              "      <td>Trócaire</td>\n",
              "      <td>Job</td>\n",
              "      <td>Trocaire Rwanda is recruiting three new positi...</td>\n",
              "      <td>\\nTrócaire is the official overseas developmen...</td>\n",
              "    </tr>\n",
              "    <tr>\n",
              "      <th>1</th>\n",
              "      <td>https://www.jobinrwanda.com/job/monitoring-inc...</td>\n",
              "      <td>Monitoring, Inclusion and Learning Advisor</td>\n",
              "      <td>[Trócaire]</td>\n",
              "      <td>Trócaire</td>\n",
              "      <td>Job</td>\n",
              "      <td>Trocaire Rwanda is recruiting three new positi...</td>\n",
              "      <td>\\nTrócaire is the official overseas developmen...</td>\n",
              "    </tr>\n",
              "    <tr>\n",
              "      <th>2</th>\n",
              "      <td>https://www.jobinrwanda.com/job/resource-mobil...</td>\n",
              "      <td>Resource Mobilization and Grant Manager</td>\n",
              "      <td>[Trócaire]</td>\n",
              "      <td>Trócaire</td>\n",
              "      <td>Job</td>\n",
              "      <td>Trocaire Rwanda is recruiting for the position...</td>\n",
              "      <td>\\nTrócaire is the official overseas developmen...</td>\n",
              "    </tr>\n",
              "    <tr>\n",
              "      <th>3</th>\n",
              "      <td>https://www.jobinrwanda.com/job/request-propos...</td>\n",
              "      <td>Request for Proposals for Electronic Logistics...</td>\n",
              "      <td>[Chemonics International Inc. ]</td>\n",
              "      <td>Chemonics International Inc.</td>\n",
              "      <td>Tender</td>\n",
              "      <td>Request for Proposals # PSM-RWA-ELMIS-2023\\nEl...</td>\n",
              "      <td></td>\n",
              "    </tr>\n",
              "    <tr>\n",
              "      <th>4</th>\n",
              "      <td>https://www.jobinrwanda.com/job/finance-manage...</td>\n",
              "      <td>Finance Manager</td>\n",
              "      <td>[The Women's Bakery]</td>\n",
              "      <td>The Women's Bakery</td>\n",
              "      <td>Job</td>\n",
              "      <td>JOB OPPORTUNITY\\nThe Women’s Bakery, Inc. Over...</td>\n",
              "      <td></td>\n",
              "    </tr>\n",
              "    <tr>\n",
              "      <th>...</th>\n",
              "      <td>...</td>\n",
              "      <td>...</td>\n",
              "      <td>...</td>\n",
              "      <td>...</td>\n",
              "      <td>...</td>\n",
              "      <td>...</td>\n",
              "      <td>...</td>\n",
              "    </tr>\n",
              "    <tr>\n",
              "      <th>174</th>\n",
              "      <td>https://www.jobinrwanda.com/job/rwanda-tree-lead</td>\n",
              "      <td>Rwanda Tree Lead</td>\n",
              "      <td>[One Acre Fund]</td>\n",
              "      <td>One Acre Fund</td>\n",
              "      <td>Job</td>\n",
              "      <td>About One Acre Fund\\nFounded in 2006, One Acre...</td>\n",
              "      <td>\\nFounded in 2006, One Acre Fund supplies 1 mi...</td>\n",
              "    </tr>\n",
              "    <tr>\n",
              "      <th>175</th>\n",
              "      <td>https://www.jobinrwanda.com/index.php/job/rwan...</td>\n",
              "      <td>Rwanda Potato Seed Venture ﻿﻿Lead</td>\n",
              "      <td>[One Acre Fund]</td>\n",
              "      <td>One Acre Fund</td>\n",
              "      <td>Job</td>\n",
              "      <td>About One Acre Fund\\nFounded in 2006, One Acre...</td>\n",
              "      <td>\\nFounded in 2006, One Acre Fund supplies 1 mi...</td>\n",
              "    </tr>\n",
              "    <tr>\n",
              "      <th>176</th>\n",
              "      <td>https://www.jobinrwanda.com/job/it-operations-...</td>\n",
              "      <td>IT Operations Senior Manager</td>\n",
              "      <td>[One Acre Fund]</td>\n",
              "      <td>One Acre Fund</td>\n",
              "      <td>Job</td>\n",
              "      <td>About One Acre Fund\\nFounded in 2006, One Acre...</td>\n",
              "      <td>\\nFounded in 2006, One Acre Fund supplies 1 mi...</td>\n",
              "    </tr>\n",
              "    <tr>\n",
              "      <th>177</th>\n",
              "      <td>https://www.jobinrwanda.com/job/rwanda-seed-in...</td>\n",
              "      <td>Rwanda Seed Innovation Centre Lead</td>\n",
              "      <td>[One Acre Fund]</td>\n",
              "      <td>One Acre Fund</td>\n",
              "      <td>Job</td>\n",
              "      <td>About One Acre Fund\\nFounded in 2006, One Acre...</td>\n",
              "      <td>\\nFounded in 2006, One Acre Fund supplies 1 mi...</td>\n",
              "    </tr>\n",
              "    <tr>\n",
              "      <th>178</th>\n",
              "      <td>https://www.jobinrwanda.com/job/senior-busines...</td>\n",
              "      <td>Senior Business Analyst</td>\n",
              "      <td>[One Acre Fund]</td>\n",
              "      <td>One Acre Fund</td>\n",
              "      <td>Job</td>\n",
              "      <td>ABOUT ONE ACRE FUND\\nFounded in 2006, One Acre...</td>\n",
              "      <td>\\nFounded in 2006, One Acre Fund supplies 1 mi...</td>\n",
              "    </tr>\n",
              "  </tbody>\n",
              "</table>\n",
              "<p>179 rows × 7 columns</p>\n",
              "</div>\n",
              "      <button class=\"colab-df-convert\" onclick=\"convertToInteractive('df-0fc34ffe-e168-4677-ae25-c09787acb834')\"\n",
              "              title=\"Convert this dataframe to an interactive table.\"\n",
              "              style=\"display:none;\">\n",
              "        \n",
              "  <svg xmlns=\"http://www.w3.org/2000/svg\" height=\"24px\"viewBox=\"0 0 24 24\"\n",
              "       width=\"24px\">\n",
              "    <path d=\"M0 0h24v24H0V0z\" fill=\"none\"/>\n",
              "    <path d=\"M18.56 5.44l.94 2.06.94-2.06 2.06-.94-2.06-.94-.94-2.06-.94 2.06-2.06.94zm-11 1L8.5 8.5l.94-2.06 2.06-.94-2.06-.94L8.5 2.5l-.94 2.06-2.06.94zm10 10l.94 2.06.94-2.06 2.06-.94-2.06-.94-.94-2.06-.94 2.06-2.06.94z\"/><path d=\"M17.41 7.96l-1.37-1.37c-.4-.4-.92-.59-1.43-.59-.52 0-1.04.2-1.43.59L10.3 9.45l-7.72 7.72c-.78.78-.78 2.05 0 2.83L4 21.41c.39.39.9.59 1.41.59.51 0 1.02-.2 1.41-.59l7.78-7.78 2.81-2.81c.8-.78.8-2.07 0-2.86zM5.41 20L4 18.59l7.72-7.72 1.47 1.35L5.41 20z\"/>\n",
              "  </svg>\n",
              "      </button>\n",
              "      \n",
              "  <style>\n",
              "    .colab-df-container {\n",
              "      display:flex;\n",
              "      flex-wrap:wrap;\n",
              "      gap: 12px;\n",
              "    }\n",
              "\n",
              "    .colab-df-convert {\n",
              "      background-color: #E8F0FE;\n",
              "      border: none;\n",
              "      border-radius: 50%;\n",
              "      cursor: pointer;\n",
              "      display: none;\n",
              "      fill: #1967D2;\n",
              "      height: 32px;\n",
              "      padding: 0 0 0 0;\n",
              "      width: 32px;\n",
              "    }\n",
              "\n",
              "    .colab-df-convert:hover {\n",
              "      background-color: #E2EBFA;\n",
              "      box-shadow: 0px 1px 2px rgba(60, 64, 67, 0.3), 0px 1px 3px 1px rgba(60, 64, 67, 0.15);\n",
              "      fill: #174EA6;\n",
              "    }\n",
              "\n",
              "    [theme=dark] .colab-df-convert {\n",
              "      background-color: #3B4455;\n",
              "      fill: #D2E3FC;\n",
              "    }\n",
              "\n",
              "    [theme=dark] .colab-df-convert:hover {\n",
              "      background-color: #434B5C;\n",
              "      box-shadow: 0px 1px 3px 1px rgba(0, 0, 0, 0.15);\n",
              "      filter: drop-shadow(0px 1px 2px rgba(0, 0, 0, 0.3));\n",
              "      fill: #FFFFFF;\n",
              "    }\n",
              "  </style>\n",
              "\n",
              "      <script>\n",
              "        const buttonEl =\n",
              "          document.querySelector('#df-0fc34ffe-e168-4677-ae25-c09787acb834 button.colab-df-convert');\n",
              "        buttonEl.style.display =\n",
              "          google.colab.kernel.accessAllowed ? 'block' : 'none';\n",
              "\n",
              "        async function convertToInteractive(key) {\n",
              "          const element = document.querySelector('#df-0fc34ffe-e168-4677-ae25-c09787acb834');\n",
              "          const dataTable =\n",
              "            await google.colab.kernel.invokeFunction('convertToInteractive',\n",
              "                                                     [key], {});\n",
              "          if (!dataTable) return;\n",
              "\n",
              "          const docLinkHtml = 'Like what you see? Visit the ' +\n",
              "            '<a target=\"_blank\" href=https://colab.research.google.com/notebooks/data_table.ipynb>data table notebook</a>'\n",
              "            + ' to learn more about interactive tables.';\n",
              "          element.innerHTML = '';\n",
              "          dataTable['output_type'] = 'display_data';\n",
              "          await google.colab.output.renderOutput(dataTable, element);\n",
              "          const docLink = document.createElement('div');\n",
              "          docLink.innerHTML = docLinkHtml;\n",
              "          element.appendChild(docLink);\n",
              "        }\n",
              "      </script>\n",
              "    </div>\n",
              "  </div>\n",
              "  "
            ]
          },
          "metadata": {},
          "execution_count": 67
        }
      ]
    },
    {
      "cell_type": "code",
      "source": [
        "IT_keywords = [\"information technology\", \"technology\", \"computer\", \"IT support\", \"database\", \"programming\", \"cybersecurity\", \"cloud\", \"software\"]\n",
        "IT_pattern = \"|\".join(IT_keywords)"
      ],
      "metadata": {
        "id": "ngiAorEt0y32"
      },
      "execution_count": null,
      "outputs": []
    },
    {
      "cell_type": "code",
      "source": [
        "IT_pattern"
      ],
      "metadata": {
        "colab": {
          "base_uri": "https://localhost:8080/",
          "height": 35
        },
        "id": "ini0pUYJ0ysZ",
        "outputId": "b45e6b14-6b0b-4624-af5b-d5eaecc54b5b"
      },
      "execution_count": null,
      "outputs": [
        {
          "output_type": "execute_result",
          "data": {
            "text/plain": [
              "'information technology|technology|computer|IT support|database|programming|cybersecurity|cloud|software'"
            ],
            "application/vnd.google.colaboratory.intrinsic+json": {
              "type": "string"
            }
          },
          "metadata": {},
          "execution_count": 69
        }
      ]
    },
    {
      "cell_type": "code",
      "source": [
        "# create new column\n",
        "df['is IT'] = False\n",
        "df['found keywords'] = None"
      ],
      "metadata": {
        "id": "npiYIQZB0ylP"
      },
      "execution_count": null,
      "outputs": []
    },
    {
      "cell_type": "code",
      "source": [
        "# change the entire description into lowercase\n",
        "df['description'] = df['description'].str.lower()"
      ],
      "metadata": {
        "id": "K8s_TTqM0yeI"
      },
      "execution_count": null,
      "outputs": []
    },
    {
      "cell_type": "code",
      "source": [
        "desc = df.iloc[2][\"description\"]\n",
        "desc"
      ],
      "metadata": {
        "colab": {
          "base_uri": "https://localhost:8080/",
          "height": 140
        },
        "id": "jyB1_P6m0yZD",
        "outputId": "35bab9c0-e30d-4b85-f6c1-96087b622d7c"
      },
      "execution_count": null,
      "outputs": [
        {
          "output_type": "execute_result",
          "data": {
            "text/plain": [
              "'trocaire rwanda is recruiting for the position of:\\nresource mobilization and grant manager\\nare you the passionate and committed team player that we are looking for?\\nas the official overseas development agency of the irish catholic church, trócaire has started to work in rwanda since 1994. for the period 2023-2027, trócaire rwanda will work in 3 districts with 11 national partners. in trócaire rwanda’s new strategic plan (2021-2025) the ambition has been set out to become a key player in capacity strengthening for local organizations in the country. this is in line with\\xa0trócaire’s global partnership and localization strategy (2021-2025).\\nresource mobilization and grant manager\\xa0will report to trocaire rwanda’s localization and partnership manager (lpm). being a part of the new localization and partnership team, you will play a key role in the roll out of trócaire rwanda’s localization and partnership capacity strengthening vision and ambitions.\\nare you skilled in resource mobilization, organizational development, or monitoring and evaluation?\\ndo you have a genuine passion for supporting local civil society organizations in their organizational development and supporting them in achieving their organizational vision and objectives?\\nwe would love to see your application!\\napplication deadline is on wednesday 30 november at 17h00.\\nplease note that applications are solely accepted through the following online application links:\\nresource mobilization and grant manager:\\nhttps://apply.workable.com/trocaire/j/635b9969c6/\\nplease note that written tests and interviews for shortlisted candidates will take place between 12 and 21 december 2022.\\n'"
            ],
            "application/vnd.google.colaboratory.intrinsic+json": {
              "type": "string"
            }
          },
          "metadata": {},
          "execution_count": 72
        }
      ]
    },
    {
      "cell_type": "code",
      "source": [
        "found = re.findall(IT_pattern, desc)\n",
        "print(\"found IT keywords: \", found)"
      ],
      "metadata": {
        "colab": {
          "base_uri": "https://localhost:8080/"
        },
        "id": "nNgjsBPb0yOJ",
        "outputId": "4461e749-50ef-45a9-b3d0-2924cac80bb9"
      },
      "execution_count": null,
      "outputs": [
        {
          "output_type": "stream",
          "name": "stdout",
          "text": [
            "found IT keywords:  []\n"
          ]
        }
      ]
    },
    {
      "cell_type": "code",
      "source": [
        "for row in range(len(df)):\n",
        "  if len(set(re.findall(IT_pattern, df.iloc[row]['description']))) >= 3:\n",
        "    df['is IT'][row] = True\n",
        "    df['found keywords'][row] = sorted(set(re.findall(IT_pattern, df.iloc[row]['description'])))\n"
      ],
      "metadata": {
        "id": "-xkTjEEn0yBd",
        "colab": {
          "base_uri": "https://localhost:8080/"
        },
        "outputId": "e0177489-6368-4cba-bacf-571778579fd6"
      },
      "execution_count": null,
      "outputs": [
        {
          "output_type": "stream",
          "name": "stderr",
          "text": [
            "/usr/local/lib/python3.7/dist-packages/ipykernel_launcher.py:3: SettingWithCopyWarning: \n",
            "A value is trying to be set on a copy of a slice from a DataFrame\n",
            "\n",
            "See the caveats in the documentation: https://pandas.pydata.org/pandas-docs/stable/user_guide/indexing.html#returning-a-view-versus-a-copy\n",
            "  This is separate from the ipykernel package so we can avoid doing imports until\n",
            "/usr/local/lib/python3.7/dist-packages/ipykernel_launcher.py:4: SettingWithCopyWarning: \n",
            "A value is trying to be set on a copy of a slice from a DataFrame\n",
            "\n",
            "See the caveats in the documentation: https://pandas.pydata.org/pandas-docs/stable/user_guide/indexing.html#returning-a-view-versus-a-copy\n",
            "  after removing the cwd from sys.path.\n"
          ]
        }
      ]
    },
    {
      "cell_type": "code",
      "source": [
        "df.tail(10)"
      ],
      "metadata": {
        "id": "wmB355Tl9J5o",
        "colab": {
          "base_uri": "https://localhost:8080/",
          "height": 789
        },
        "outputId": "a43dcdf4-22b9-4a68-ad8c-17270ca7c7f9"
      },
      "execution_count": null,
      "outputs": [
        {
          "output_type": "execute_result",
          "data": {
            "text/plain": [
              "                                                  link  \\\n",
              "169  https://www.jobinrwanda.com/job/50-sales-repre...   \n",
              "170  https://www.jobinrwanda.com/job/supply-and-del...   \n",
              "171  https://www.jobinrwanda.com/index.php/job/rwan...   \n",
              "172  https://www.jobinrwanda.com/job/rwanda-field-i...   \n",
              "173  https://www.jobinrwanda.com/job/rwanda-electri...   \n",
              "174   https://www.jobinrwanda.com/job/rwanda-tree-lead   \n",
              "175  https://www.jobinrwanda.com/index.php/job/rwan...   \n",
              "176  https://www.jobinrwanda.com/job/it-operations-...   \n",
              "177  https://www.jobinrwanda.com/job/rwanda-seed-in...   \n",
              "178  https://www.jobinrwanda.com/job/senior-busines...   \n",
              "\n",
              "                                                 title  \\\n",
              "169  Sales Representatives Needed at All City Rwand...   \n",
              "170  Supply and Delivery of Laboratory Commodities ...   \n",
              "171         Rwanda Market Access and SRF MEL Associate   \n",
              "172               Rwanda Field Integration Coordinator   \n",
              "173                     Rwanda Electrical Hub Operator   \n",
              "174                                   Rwanda Tree Lead   \n",
              "175                  Rwanda Potato Seed Venture ﻿﻿Lead   \n",
              "176                       IT Operations Senior Manager   \n",
              "177                 Rwanda Seed Innovation Centre Lead   \n",
              "178                            Senior Business Analyst   \n",
              "\n",
              "                    company_link                    company    type  \\\n",
              "169             [ALL CITY GROUP]             ALL CITY GROUP     Job   \n",
              "170  [Rwanda Medical Supply Ltd]  Rwanda Medical Supply Ltd  Tender   \n",
              "171              [One Acre Fund]              One Acre Fund     Job   \n",
              "172              [One Acre Fund]              One Acre Fund     Job   \n",
              "173              [One Acre Fund]              One Acre Fund     Job   \n",
              "174              [One Acre Fund]              One Acre Fund     Job   \n",
              "175              [One Acre Fund]              One Acre Fund     Job   \n",
              "176              [One Acre Fund]              One Acre Fund     Job   \n",
              "177              [One Acre Fund]              One Acre Fund     Job   \n",
              "178              [One Acre Fund]              One Acre Fund     Job   \n",
              "\n",
              "                                           description  \\\n",
              "169  about us:\\nall city group, is a multinational ...   \n",
              "170  invitation for bids\\ntitle:  supply and delive...   \n",
              "171  about one acre fund\\nfounded in 2006, one acre...   \n",
              "172  about one acre fund\\nfounded in 2006, one acre...   \n",
              "173  about one acre fund\\nfounded in 2006, one acre...   \n",
              "174  about one acre fund\\nfounded in 2006, one acre...   \n",
              "175  about one acre fund\\nfounded in 2006, one acre...   \n",
              "176  about one acre fund\\nfounded in 2006, one acre...   \n",
              "177  about one acre fund\\nfounded in 2006, one acre...   \n",
              "178  about one acre fund\\nfounded in 2006, one acre...   \n",
              "\n",
              "                                 employeer_description  is IT found keywords  \n",
              "169  \\nALL CITY GROUP, is a multinational one-stop ...  False           None  \n",
              "170  \\nRwanda Medical Supply Limited is a large sca...  False           None  \n",
              "171  \\nFounded in 2006, One Acre Fund supplies 1 mi...  False           None  \n",
              "172  \\nFounded in 2006, One Acre Fund supplies 1 mi...  False           None  \n",
              "173  \\nFounded in 2006, One Acre Fund supplies 1 mi...  False           None  \n",
              "174  \\nFounded in 2006, One Acre Fund supplies 1 mi...  False           None  \n",
              "175  \\nFounded in 2006, One Acre Fund supplies 1 mi...  False           None  \n",
              "176  \\nFounded in 2006, One Acre Fund supplies 1 mi...  False           None  \n",
              "177  \\nFounded in 2006, One Acre Fund supplies 1 mi...  False           None  \n",
              "178  \\nFounded in 2006, One Acre Fund supplies 1 mi...  False           None  "
            ],
            "text/html": [
              "\n",
              "  <div id=\"df-87f4eea5-2065-4f90-b6fd-4810b7722396\">\n",
              "    <div class=\"colab-df-container\">\n",
              "      <div>\n",
              "<style scoped>\n",
              "    .dataframe tbody tr th:only-of-type {\n",
              "        vertical-align: middle;\n",
              "    }\n",
              "\n",
              "    .dataframe tbody tr th {\n",
              "        vertical-align: top;\n",
              "    }\n",
              "\n",
              "    .dataframe thead th {\n",
              "        text-align: right;\n",
              "    }\n",
              "</style>\n",
              "<table border=\"1\" class=\"dataframe\">\n",
              "  <thead>\n",
              "    <tr style=\"text-align: right;\">\n",
              "      <th></th>\n",
              "      <th>link</th>\n",
              "      <th>title</th>\n",
              "      <th>company_link</th>\n",
              "      <th>company</th>\n",
              "      <th>type</th>\n",
              "      <th>description</th>\n",
              "      <th>employeer_description</th>\n",
              "      <th>is IT</th>\n",
              "      <th>found keywords</th>\n",
              "    </tr>\n",
              "  </thead>\n",
              "  <tbody>\n",
              "    <tr>\n",
              "      <th>169</th>\n",
              "      <td>https://www.jobinrwanda.com/job/50-sales-repre...</td>\n",
              "      <td>Sales Representatives Needed at All City Rwand...</td>\n",
              "      <td>[ALL CITY GROUP]</td>\n",
              "      <td>ALL CITY GROUP</td>\n",
              "      <td>Job</td>\n",
              "      <td>about us:\\nall city group, is a multinational ...</td>\n",
              "      <td>\\nALL CITY GROUP, is a multinational one-stop ...</td>\n",
              "      <td>False</td>\n",
              "      <td>None</td>\n",
              "    </tr>\n",
              "    <tr>\n",
              "      <th>170</th>\n",
              "      <td>https://www.jobinrwanda.com/job/supply-and-del...</td>\n",
              "      <td>Supply and Delivery of Laboratory Commodities ...</td>\n",
              "      <td>[Rwanda Medical Supply Ltd]</td>\n",
              "      <td>Rwanda Medical Supply Ltd</td>\n",
              "      <td>Tender</td>\n",
              "      <td>invitation for bids\\ntitle:  supply and delive...</td>\n",
              "      <td>\\nRwanda Medical Supply Limited is a large sca...</td>\n",
              "      <td>False</td>\n",
              "      <td>None</td>\n",
              "    </tr>\n",
              "    <tr>\n",
              "      <th>171</th>\n",
              "      <td>https://www.jobinrwanda.com/index.php/job/rwan...</td>\n",
              "      <td>Rwanda Market Access and SRF MEL Associate</td>\n",
              "      <td>[One Acre Fund]</td>\n",
              "      <td>One Acre Fund</td>\n",
              "      <td>Job</td>\n",
              "      <td>about one acre fund\\nfounded in 2006, one acre...</td>\n",
              "      <td>\\nFounded in 2006, One Acre Fund supplies 1 mi...</td>\n",
              "      <td>False</td>\n",
              "      <td>None</td>\n",
              "    </tr>\n",
              "    <tr>\n",
              "      <th>172</th>\n",
              "      <td>https://www.jobinrwanda.com/job/rwanda-field-i...</td>\n",
              "      <td>Rwanda Field Integration Coordinator</td>\n",
              "      <td>[One Acre Fund]</td>\n",
              "      <td>One Acre Fund</td>\n",
              "      <td>Job</td>\n",
              "      <td>about one acre fund\\nfounded in 2006, one acre...</td>\n",
              "      <td>\\nFounded in 2006, One Acre Fund supplies 1 mi...</td>\n",
              "      <td>False</td>\n",
              "      <td>None</td>\n",
              "    </tr>\n",
              "    <tr>\n",
              "      <th>173</th>\n",
              "      <td>https://www.jobinrwanda.com/job/rwanda-electri...</td>\n",
              "      <td>Rwanda Electrical Hub Operator</td>\n",
              "      <td>[One Acre Fund]</td>\n",
              "      <td>One Acre Fund</td>\n",
              "      <td>Job</td>\n",
              "      <td>about one acre fund\\nfounded in 2006, one acre...</td>\n",
              "      <td>\\nFounded in 2006, One Acre Fund supplies 1 mi...</td>\n",
              "      <td>False</td>\n",
              "      <td>None</td>\n",
              "    </tr>\n",
              "    <tr>\n",
              "      <th>174</th>\n",
              "      <td>https://www.jobinrwanda.com/job/rwanda-tree-lead</td>\n",
              "      <td>Rwanda Tree Lead</td>\n",
              "      <td>[One Acre Fund]</td>\n",
              "      <td>One Acre Fund</td>\n",
              "      <td>Job</td>\n",
              "      <td>about one acre fund\\nfounded in 2006, one acre...</td>\n",
              "      <td>\\nFounded in 2006, One Acre Fund supplies 1 mi...</td>\n",
              "      <td>False</td>\n",
              "      <td>None</td>\n",
              "    </tr>\n",
              "    <tr>\n",
              "      <th>175</th>\n",
              "      <td>https://www.jobinrwanda.com/index.php/job/rwan...</td>\n",
              "      <td>Rwanda Potato Seed Venture ﻿﻿Lead</td>\n",
              "      <td>[One Acre Fund]</td>\n",
              "      <td>One Acre Fund</td>\n",
              "      <td>Job</td>\n",
              "      <td>about one acre fund\\nfounded in 2006, one acre...</td>\n",
              "      <td>\\nFounded in 2006, One Acre Fund supplies 1 mi...</td>\n",
              "      <td>False</td>\n",
              "      <td>None</td>\n",
              "    </tr>\n",
              "    <tr>\n",
              "      <th>176</th>\n",
              "      <td>https://www.jobinrwanda.com/job/it-operations-...</td>\n",
              "      <td>IT Operations Senior Manager</td>\n",
              "      <td>[One Acre Fund]</td>\n",
              "      <td>One Acre Fund</td>\n",
              "      <td>Job</td>\n",
              "      <td>about one acre fund\\nfounded in 2006, one acre...</td>\n",
              "      <td>\\nFounded in 2006, One Acre Fund supplies 1 mi...</td>\n",
              "      <td>False</td>\n",
              "      <td>None</td>\n",
              "    </tr>\n",
              "    <tr>\n",
              "      <th>177</th>\n",
              "      <td>https://www.jobinrwanda.com/job/rwanda-seed-in...</td>\n",
              "      <td>Rwanda Seed Innovation Centre Lead</td>\n",
              "      <td>[One Acre Fund]</td>\n",
              "      <td>One Acre Fund</td>\n",
              "      <td>Job</td>\n",
              "      <td>about one acre fund\\nfounded in 2006, one acre...</td>\n",
              "      <td>\\nFounded in 2006, One Acre Fund supplies 1 mi...</td>\n",
              "      <td>False</td>\n",
              "      <td>None</td>\n",
              "    </tr>\n",
              "    <tr>\n",
              "      <th>178</th>\n",
              "      <td>https://www.jobinrwanda.com/job/senior-busines...</td>\n",
              "      <td>Senior Business Analyst</td>\n",
              "      <td>[One Acre Fund]</td>\n",
              "      <td>One Acre Fund</td>\n",
              "      <td>Job</td>\n",
              "      <td>about one acre fund\\nfounded in 2006, one acre...</td>\n",
              "      <td>\\nFounded in 2006, One Acre Fund supplies 1 mi...</td>\n",
              "      <td>False</td>\n",
              "      <td>None</td>\n",
              "    </tr>\n",
              "  </tbody>\n",
              "</table>\n",
              "</div>\n",
              "      <button class=\"colab-df-convert\" onclick=\"convertToInteractive('df-87f4eea5-2065-4f90-b6fd-4810b7722396')\"\n",
              "              title=\"Convert this dataframe to an interactive table.\"\n",
              "              style=\"display:none;\">\n",
              "        \n",
              "  <svg xmlns=\"http://www.w3.org/2000/svg\" height=\"24px\"viewBox=\"0 0 24 24\"\n",
              "       width=\"24px\">\n",
              "    <path d=\"M0 0h24v24H0V0z\" fill=\"none\"/>\n",
              "    <path d=\"M18.56 5.44l.94 2.06.94-2.06 2.06-.94-2.06-.94-.94-2.06-.94 2.06-2.06.94zm-11 1L8.5 8.5l.94-2.06 2.06-.94-2.06-.94L8.5 2.5l-.94 2.06-2.06.94zm10 10l.94 2.06.94-2.06 2.06-.94-2.06-.94-.94-2.06-.94 2.06-2.06.94z\"/><path d=\"M17.41 7.96l-1.37-1.37c-.4-.4-.92-.59-1.43-.59-.52 0-1.04.2-1.43.59L10.3 9.45l-7.72 7.72c-.78.78-.78 2.05 0 2.83L4 21.41c.39.39.9.59 1.41.59.51 0 1.02-.2 1.41-.59l7.78-7.78 2.81-2.81c.8-.78.8-2.07 0-2.86zM5.41 20L4 18.59l7.72-7.72 1.47 1.35L5.41 20z\"/>\n",
              "  </svg>\n",
              "      </button>\n",
              "      \n",
              "  <style>\n",
              "    .colab-df-container {\n",
              "      display:flex;\n",
              "      flex-wrap:wrap;\n",
              "      gap: 12px;\n",
              "    }\n",
              "\n",
              "    .colab-df-convert {\n",
              "      background-color: #E8F0FE;\n",
              "      border: none;\n",
              "      border-radius: 50%;\n",
              "      cursor: pointer;\n",
              "      display: none;\n",
              "      fill: #1967D2;\n",
              "      height: 32px;\n",
              "      padding: 0 0 0 0;\n",
              "      width: 32px;\n",
              "    }\n",
              "\n",
              "    .colab-df-convert:hover {\n",
              "      background-color: #E2EBFA;\n",
              "      box-shadow: 0px 1px 2px rgba(60, 64, 67, 0.3), 0px 1px 3px 1px rgba(60, 64, 67, 0.15);\n",
              "      fill: #174EA6;\n",
              "    }\n",
              "\n",
              "    [theme=dark] .colab-df-convert {\n",
              "      background-color: #3B4455;\n",
              "      fill: #D2E3FC;\n",
              "    }\n",
              "\n",
              "    [theme=dark] .colab-df-convert:hover {\n",
              "      background-color: #434B5C;\n",
              "      box-shadow: 0px 1px 3px 1px rgba(0, 0, 0, 0.15);\n",
              "      filter: drop-shadow(0px 1px 2px rgba(0, 0, 0, 0.3));\n",
              "      fill: #FFFFFF;\n",
              "    }\n",
              "  </style>\n",
              "\n",
              "      <script>\n",
              "        const buttonEl =\n",
              "          document.querySelector('#df-87f4eea5-2065-4f90-b6fd-4810b7722396 button.colab-df-convert');\n",
              "        buttonEl.style.display =\n",
              "          google.colab.kernel.accessAllowed ? 'block' : 'none';\n",
              "\n",
              "        async function convertToInteractive(key) {\n",
              "          const element = document.querySelector('#df-87f4eea5-2065-4f90-b6fd-4810b7722396');\n",
              "          const dataTable =\n",
              "            await google.colab.kernel.invokeFunction('convertToInteractive',\n",
              "                                                     [key], {});\n",
              "          if (!dataTable) return;\n",
              "\n",
              "          const docLinkHtml = 'Like what you see? Visit the ' +\n",
              "            '<a target=\"_blank\" href=https://colab.research.google.com/notebooks/data_table.ipynb>data table notebook</a>'\n",
              "            + ' to learn more about interactive tables.';\n",
              "          element.innerHTML = '';\n",
              "          dataTable['output_type'] = 'display_data';\n",
              "          await google.colab.output.renderOutput(dataTable, element);\n",
              "          const docLink = document.createElement('div');\n",
              "          docLink.innerHTML = docLinkHtml;\n",
              "          element.appendChild(docLink);\n",
              "        }\n",
              "      </script>\n",
              "    </div>\n",
              "  </div>\n",
              "  "
            ]
          },
          "metadata": {},
          "execution_count": 75
        }
      ]
    },
    {
      "cell_type": "code",
      "source": [
        "df_it = df[df['is IT'] == True]"
      ],
      "metadata": {
        "id": "lFsIMcCa_Kdp"
      },
      "execution_count": null,
      "outputs": []
    },
    {
      "cell_type": "code",
      "source": [
        "tags = \"#informationtechnology #technology #it #cybersecurity #tech #computerscience #programming #business #coding #innovation #software #python #information #computer #informationsecurity #security #technologynews #java #networking #hacking #programmer #linux #technologyrocks #coder #technologythesedays #cloudcomputing #education #engineering #itservices #newtechnology\""
      ],
      "metadata": {
        "id": "xU0Y5clK6VTd"
      },
      "execution_count": null,
      "outputs": []
    },
    {
      "cell_type": "code",
      "source": [
        "tags.split('#')"
      ],
      "metadata": {
        "id": "Sj5Lt18k6fLk"
      },
      "execution_count": null,
      "outputs": []
    },
    {
      "cell_type": "code",
      "source": [
        "df_it = df[df['is IT'] == True]"
      ],
      "metadata": {
        "id": "57_jckb963_1",
        "colab": {
          "base_uri": "https://localhost:8080/",
          "height": 165
        },
        "outputId": "350e2ced-3043-4abd-bd2c-b94f39d4135d"
      },
      "execution_count": null,
      "outputs": [
        {
          "output_type": "error",
          "ename": "NameError",
          "evalue": "ignored",
          "traceback": [
            "\u001b[0;31m---------------------------------------------------------------------------\u001b[0m",
            "\u001b[0;31mNameError\u001b[0m                                 Traceback (most recent call last)",
            "\u001b[0;32m<ipython-input-2-d7f61ef53574>\u001b[0m in \u001b[0;36m<module>\u001b[0;34m\u001b[0m\n\u001b[0;32m----> 1\u001b[0;31m \u001b[0mdf_it\u001b[0m \u001b[0;34m=\u001b[0m \u001b[0mdf\u001b[0m\u001b[0;34m[\u001b[0m\u001b[0mdf\u001b[0m\u001b[0;34m[\u001b[0m\u001b[0;34m'is IT'\u001b[0m\u001b[0;34m]\u001b[0m \u001b[0;34m==\u001b[0m \u001b[0;32mTrue\u001b[0m\u001b[0;34m]\u001b[0m\u001b[0;34m\u001b[0m\u001b[0;34m\u001b[0m\u001b[0m\n\u001b[0m",
            "\u001b[0;31mNameError\u001b[0m: name 'df' is not defined"
          ]
        }
      ]
    },
    {
      "cell_type": "code",
      "source": [
        "df_it"
      ],
      "metadata": {
        "colab": {
          "base_uri": "https://localhost:8080/",
          "height": 165
        },
        "id": "YDJVPsPjCEl9",
        "outputId": "f259acae-b714-4623-bb74-0a8f5bfd25af"
      },
      "execution_count": null,
      "outputs": [
        {
          "output_type": "error",
          "ename": "NameError",
          "evalue": "ignored",
          "traceback": [
            "\u001b[0;31m---------------------------------------------------------------------------\u001b[0m",
            "\u001b[0;31mNameError\u001b[0m                                 Traceback (most recent call last)",
            "\u001b[0;32m<ipython-input-1-43e6a4131798>\u001b[0m in \u001b[0;36m<module>\u001b[0;34m\u001b[0m\n\u001b[0;32m----> 1\u001b[0;31m \u001b[0mdf_it\u001b[0m\u001b[0;34m\u001b[0m\u001b[0;34m\u001b[0m\u001b[0m\n\u001b[0m",
            "\u001b[0;31mNameError\u001b[0m: name 'df_it' is not defined"
          ]
        }
      ]
    },
    {
      "cell_type": "markdown",
      "source": [],
      "metadata": {
        "id": "OcuEDL6YCfcT"
      }
    },
    {
      "cell_type": "code",
      "source": [
        "!pip install -U easynmt "
      ],
      "metadata": {
        "id": "UgZoviTLCi8y"
      },
      "execution_count": null,
      "outputs": []
    },
    {
      "cell_type": "code",
      "source": [
        "!pip install fastapi pyngrok uvicorn nest-asyncio\n"
      ],
      "metadata": {
        "id": "7fFqJHJZDSQM"
      },
      "execution_count": null,
      "outputs": []
    },
    {
      "cell_type": "code",
      "source": [
        "!ngrok authtoken 1VG7hGOGCl7R9CJANekYvuY3ZZA_5QGcuAoAPW4FUF9jW1LHY"
      ],
      "metadata": {
        "colab": {
          "base_uri": "https://localhost:8080/"
        },
        "id": "o45b7e3vDgPf",
        "outputId": "b9542234-0652-4b8e-cf3c-0a0ce4eadd32"
      },
      "execution_count": null,
      "outputs": [
        {
          "output_type": "stream",
          "name": "stdout",
          "text": [
            "Authtoken saved to configuration file: /root/.ngrok2/ngrok.yml\n"
          ]
        }
      ]
    },
    {
      "cell_type": "code",
      "source": [
        "# importing libraries \n",
        "from fastapi import FastAPI\n",
        "from easynmt import EasyNMT\n",
        "model = EasyNMT('opus-mt')"
      ],
      "metadata": {
        "id": "1UaLv7CNDuxk"
      },
      "execution_count": null,
      "outputs": []
    },
    {
      "cell_type": "code",
      "source": [
        "d = {\"Abkhaz\": \"ab\",\n",
        " \"Afar\": \"aa\",\n",
        " \"Afrikaans\": \"af\",\n",
        " \"Akan\": \"ak\",\n",
        " \"Albanian\": \"sq\",\n",
        " \"Amharic\": \"am\",\n",
        " \"Arabic\": \"ar\",\n",
        " \"Aragonese\": \"an\",\n",
        " \"Armenian\": \"hy\",\n",
        " \"Assamese\": \"as\",\n",
        " \"Avaric\": \"av\",\n",
        " \"Avestan\": \"ae\",\n",
        " \"Aymara\": \"ay\",\n",
        " \"Azerbaijani\": \"az\",\n",
        " \"Bambara\": \"bm\",\n",
        " \"Bashkir\": \"ba\",\n",
        " \"Basque\": \"eu\",\n",
        " \"Belarusian\": \"be\",\n",
        " \"Bengali\": \"bn\",\n",
        " \"Bihari\": \"bh\",\n",
        " \"Bislama\": \"bi\",\n",
        " \"Bosnian\": \"bs\",\n",
        " \"Breton\": \"br\",\n",
        " \"Bulgarian\": \"bg\",\n",
        " \"Burmese\": \"my\",\n",
        " \"Catalan; Valencian\": \"ca\",\n",
        " \"Chamorro\": \"ch\",\n",
        " \"Chechen\": \"ce\",\n",
        " \"Chichewa; Chewa; Nyanja\": \"ny\",\n",
        " \"Chinese\": \"zh\",\n",
        " \"Chuvash\": \"cv\",\n",
        " \"Cornish\": \"kw\",\n",
        " \"Corsican\": \"co\",\n",
        " \"Cree\": \"cr\",\n",
        " \"Croatian\": \"hr\",\n",
        " \"Czech\": \"cs\",\n",
        " \"Danish\": \"da\",\n",
        " \"Divehi; Dhivehi; Maldivian;\": \"dv\",\n",
        " \"Dutch\": \"nl\",\n",
        " \"English\": \"en\",\n",
        " \"Esperanto\": \"eo\",\n",
        " \"Estonian\": \"et\",\n",
        " \"Ewe\": \"ee\",\n",
        " \"Faroese\": \"fo\",\n",
        " \"Fijian\": \"fj\",\n",
        " \"Finnish\": \"fi\",\n",
        " \"French\": \"fr\",\n",
        " \"Fula; Fulah; Pulaar; Pular\": \"ff\",\n",
        " \"Galician\": \"gl\",\n",
        " \"Georgian\": \"ka\",\n",
        " \"German\": \"de\",\n",
        " \"Greek, Modern\": \"el\",\n",
        " \"Guaraní\": \"gn\",\n",
        " \"Gujarati\": \"gu\",\n",
        " \"Haitian; Haitian Creole\": \"ht\",\n",
        " \"Hausa\": \"ha\",\n",
        " \"Hebrew (modern)\": \"he\",\n",
        " \"Herero\": \"hz\",\n",
        " \"Hindi\": \"hi\",\n",
        " \"Hiri Motu\": \"ho\",\n",
        " \"Hungarian\": \"hu\",\n",
        " \"Interlingua\": \"ia\",\n",
        " \"Indonesian\": \"id\",\n",
        " \"Interlingue\": \"ie\",\n",
        " \"Irish\": \"ga\",\n",
        " \"Igbo\": \"ig\",\n",
        " \"Inupiaq\": \"ik\",\n",
        " \"Ido\": \"io\",\n",
        " \"Icelandic\": \"is\",\n",
        " \"Italian\": \"it\",\n",
        " \"Inuktitut\": \"iu\",\n",
        " \"Japanese\": \"ja\",\n",
        " \"Javanese\": \"jv\",\n",
        " \"Kalaallisut, Greenlandic\": \"kl\",\n",
        " \"Kannada\": \"kn\",\n",
        " \"Kanuri\": \"kr\",\n",
        " \"Kashmiri\": \"ks\",\n",
        " \"Kazakh\": \"kk\",\n",
        " \"Khmer\": \"km\",\n",
        " \"Kikuyu, Gikuyu\": \"ki\",\n",
        " \"Kinyarwanda\": \"rw\",\n",
        " \"Kirghiz, Kyrgyz\": \"ky\",\n",
        " \"Komi\": \"kv\",\n",
        " \"Kongo\": \"kg\",\n",
        " \"Korean\": \"ko\",\n",
        " \"Kurdish\": \"ku\",\n",
        " \"Kwanyama, Kuanyama\": \"kj\",\n",
        " \"Latin\": \"la\",\n",
        " \"Luxembourgish, Letzeburgesch\": \"lb\",\n",
        " \"Luganda\": \"lg\",\n",
        " \"Limburgish, Limburgan, Limburger\": \"li\",\n",
        " \"Lingala\": \"ln\",\n",
        " \"Lao\": \"lo\",\n",
        " \"Lithuanian\": \"lt\",\n",
        " \"Luba-Katanga\": \"lu\",\n",
        " \"Latvian\": \"lv\",\n",
        " \"Manx\": \"gv\",\n",
        " \"Macedonian\": \"mk\",\n",
        " \"Malagasy\": \"mg\",\n",
        " \"Malay\": \"ms\",\n",
        " \"Malayalam\": \"ml\",\n",
        " \"Maltese\": \"mt\",\n",
        " \"Māori\": \"mi\",\n",
        " \"Marathi (Marāṭhī)\": \"mr\",\n",
        " \"Marshallese\": \"mh\",\n",
        " \"Mongolian\": \"mn\",\n",
        " \"Nauru\": \"na\",\n",
        " \"Navajo, Navaho\": \"nv\",\n",
        " \"Norwegian Bokmål\": \"nb\",\n",
        " \"North Ndebele\": \"nd\",\n",
        " \"Nepali\": \"ne\",\n",
        " \"Ndonga\": \"ng\",\n",
        " \"Norwegian Nynorsk\": \"nn\",\n",
        " \"Norwegian\": \"no\",\n",
        " \"Nuosu\": \"ii\",\n",
        " \"South Ndebele\": \"nr\",\n",
        " \"Occitan\": \"oc\",\n",
        " \"Ojibwe, Ojibwa\": \"oj\",\n",
        " \"Old Church Slavonic, Church Slavic, Church Slavonic, Old Bulgarian, Old Slavonic\": \"cu\",\n",
        " \"Oromo\": \"om\",\n",
        " \"Oriya\": \"or\",\n",
        " \"Ossetian, Ossetic\": \"os\",\n",
        " \"Panjabi, Punjabi\": \"pa\",\n",
        " \"Pāli\": \"pi\",\n",
        " \"Persian\": \"fa\",\n",
        " \"Polish\": \"pl\",\n",
        " \"Pashto, Pushto\": \"ps\",\n",
        " \"Portuguese\": \"pt\",\n",
        " \"Quechua\": \"qu\",\n",
        " \"Romansh\": \"rm\",\n",
        " \"Kirundi\": \"rn\",\n",
        " \"Romanian, Moldavian, Moldovan\": \"ro\",\n",
        " \"Russian\": \"ru\",\n",
        " \"Sanskrit (Saṁskṛta)\": \"sa\",\n",
        " \"Sardinian\": \"sc\",\n",
        " \"Sindhi\": \"sd\",\n",
        " \"Northern Sami\": \"se\",\n",
        " \"Samoan\": \"sm\",\n",
        " \"Sango\": \"sg\",\n",
        " \"Serbian\": \"sr\",\n",
        " \"Scottish Gaelic; Gaelic\": \"gd\",\n",
        " \"Shona\": \"sn\",\n",
        " \"Sinhala, Sinhalese\": \"si\",\n",
        " \"Slovak\": \"sk\",\n",
        " \"Slovene\": \"sl\",\n",
        " \"Somali\": \"so\",\n",
        " \"Southern Sotho\": \"st\",\n",
        " \"Spanish; Castilian\": \"es\",\n",
        " \"Sundanese\": \"su\",\n",
        " \"Swahili\": \"sw\",\n",
        " \"Swati\": \"ss\",\n",
        " \"Swedish\": \"sv\",\n",
        " \"Tamil\": \"ta\",\n",
        " \"Telugu\": \"te\",\n",
        " \"Tajik\": \"tg\",\n",
        " \"Thai\": \"th\",\n",
        " \"Tigrinya\": \"ti\",\n",
        " \"Tibetan Standard, Tibetan, Central\": \"bo\",\n",
        " \"Turkmen\": \"tk\",\n",
        " \"Tagalog\": \"tl\",\n",
        " \"Tswana\": \"tn\",\n",
        " \"Tonga (Tonga Islands)\": \"to\",\n",
        " \"Turkish\": \"tr\",\n",
        " \"Tsonga\": \"ts\",\n",
        " \"Tatar\": \"tt\",\n",
        " \"Twi\": \"tw\",\n",
        " \"Tahitian\": \"ty\",\n",
        " \"Uighur, Uyghur\": \"ug\",\n",
        " \"Ukrainian\": \"uk\",\n",
        " \"Urdu\": \"ur\",\n",
        " \"Uzbek\": \"uz\",\n",
        " \"Venda\": \"ve\",\n",
        " \"Vietnamese\": \"vi\",\n",
        " \"Volapük\": \"vo\",\n",
        " \"Walloon\": \"wa\",\n",
        " \"Welsh\": \"cy\",\n",
        " \"Wolof\": \"wo\",\n",
        " \"Western Frisian\": \"fy\",\n",
        " \"Xhosa\": \"xh\",\n",
        " \"Yiddish\": \"yi\",\n",
        " \"Yoruba\": \"yo\",\n",
        " \"Zhuang, Chuang\": \"za\"}\n",
        "\n",
        "\n",
        "\n",
        "\n",
        "\n",
        "\n",
        "\n",
        "\n",
        "\n",
        "\n",
        "\n"
      ],
      "metadata": {
        "id": "4lcbPvx3RApJ"
      },
      "execution_count": null,
      "outputs": []
    },
    {
      "cell_type": "code",
      "source": [],
      "metadata": {
        "id": "y96R3EzSQyOt"
      },
      "execution_count": null,
      "outputs": []
    },
    {
      "cell_type": "code",
      "source": [
        "app = FastAPI(title =\"hackathon\")\n",
        "\n",
        "@app.get('/')\n",
        "def index():\n",
        "  return \"message\"\n",
        "\n",
        "@app.get('/data/jobinrwanda')\n",
        "def get_data(language:str = None):\n",
        "  df_copy =  df_it.copy()\n",
        "  try:\n",
        "    if language:\n",
        "      df_copy['title'] = model.translate(df_copy['title'],target_lang = d[language.title()])\n",
        "      return df_copy.to_dict('r')\n",
        "\n",
        "    else:\n",
        "      return df_copy.to_dict('r')\n",
        "\n",
        "  except:\n",
        "    message = f\"language is not available, please use one of the language {list(d.keys())}\"\n",
        "    return message\n",
        "\n",
        "\n",
        "\n"
      ],
      "metadata": {
        "id": "hTpgMcLOEZZE"
      },
      "execution_count": null,
      "outputs": []
    },
    {
      "cell_type": "code",
      "source": [
        "import nest_asyncio\n",
        "from pyngrok import ngrok\n",
        "import uvicorn\n",
        "\n",
        "ngrok_tunnel = ngrok.connect(8000)\n",
        "print(\"REST API started\")\n",
        "print(\"Your public API URL:\", ngrok_tunnel.public_url)\n",
        "print(\"You can for example open the following URL in your browser: {}?target_lang=en&text=Hallo%20Welt\".format(ngrok_tunnel.public_url))\n",
        "\n",
        "nest_asyncio.apply()\n",
        "uvicorn.run(app, port=8000)"
      ],
      "metadata": {
        "colab": {
          "base_uri": "https://localhost:8080/"
        },
        "id": "u65VcsVpRE2s",
        "outputId": "7ef44404-93db-46e7-f38e-eda88b2cd68b"
      },
      "execution_count": null,
      "outputs": [
        {
          "output_type": "stream",
          "name": "stderr",
          "text": [
            "INFO:     Started server process [2155]\n",
            "INFO:     Waiting for application startup.\n",
            "INFO:     Application startup complete.\n",
            "INFO:     Uvicorn running on http://127.0.0.1:8000 (Press CTRL+C to quit)\n"
          ]
        },
        {
          "output_type": "stream",
          "name": "stdout",
          "text": [
            "REST API started\n",
            "Your public API URL: http://ab4f-34-80-77-171.ngrok.io\n",
            "You can for example open the following URL in your browser: http://ab4f-34-80-77-171.ngrok.io?target_lang=en&text=Hallo%20Welt\n",
            "INFO:     102.22.139.156:0 - \"GET / HTTP/1.1\" 200 OK\n",
            "INFO:     102.22.139.156:0 - \"GET /favicon.ico HTTP/1.1\" 404 Not Found\n"
          ]
        }
      ]
    },
    {
      "cell_type": "code",
      "source": [
        "!pkill ngrok"
      ],
      "metadata": {
        "id": "ElVZA0EZSe_-"
      },
      "execution_count": null,
      "outputs": []
    },
    {
      "cell_type": "code",
      "source": [
        "print('bajo afite imyaka {}'.format(19))"
      ],
      "metadata": {
        "id": "UlntDISoNVQr"
      },
      "execution_count": null,
      "outputs": []
    },
    {
      "cell_type": "code",
      "source": [
        "d = {\"Abkhaz\": \"ab\",\n",
        " \"Afar\": \"aa\",\n",
        " \"Afrikaans\": \"af\",\n",
        " \"Akan\": \"ak\",\n",
        " \"Albanian\": \"sq\",\n",
        " \"Amharic\": \"am\",\n",
        " \"Arabic\": \"ar\",\n",
        " \"Aragonese\": \"an\",\n",
        " \"Armenian\": \"hy\",\n",
        " \"Assamese\": \"as\",\n",
        " \"Avaric\": \"av\",\n",
        " \"Avestan\": \"ae\",\n",
        " \"Aymara\": \"ay\",\n",
        " \"Azerbaijani\": \"az\",\n",
        " \"Bambara\": \"bm\",\n",
        " \"Bashkir\": \"ba\",\n",
        " \"Basque\": \"eu\",\n",
        " \"Belarusian\": \"be\",\n",
        " \"Bengali\": \"bn\",\n",
        " \"Bihari\": \"bh\",\n",
        " \"Bislama\": \"bi\",\n",
        " \"Bosnian\": \"bs\",\n",
        " \"Breton\": \"br\",\n",
        " \"Bulgarian\": \"bg\",\n",
        " \"Burmese\": \"my\",\n",
        " \"Catalan; Valencian\": \"ca\",\n",
        " \"Chamorro\": \"ch\",\n",
        " \"Chechen\": \"ce\",\n",
        " \"Chichewa; Chewa; Nyanja\": \"ny\",\n",
        " \"Chinese\": \"zh\",\n",
        " \"Chuvash\": \"cv\",\n",
        " \"Cornish\": \"kw\",\n",
        " \"Corsican\": \"co\",\n",
        " \"Cree\": \"cr\",\n",
        " \"Croatian\": \"hr\",\n",
        " \"Czech\": \"cs\",\n",
        " \"Danish\": \"da\",\n",
        " \"Divehi; Dhivehi; Maldivian;\": \"dv\",\n",
        " \"Dutch\": \"nl\",\n",
        " \"English\": \"en\",\n",
        " \"Esperanto\": \"eo\",\n",
        " \"Estonian\": \"et\",\n",
        " \"Ewe\": \"ee\",\n",
        " \"Faroese\": \"fo\",\n",
        " \"Fijian\": \"fj\",\n",
        " \"Finnish\": \"fi\",\n",
        " \"French\": \"fr\",\n",
        " \"Fula; Fulah; Pulaar; Pular\": \"ff\",\n",
        " \"Galician\": \"gl\",\n",
        " \"Georgian\": \"ka\",\n",
        " \"German\": \"de\",\n",
        " \"Greek, Modern\": \"el\",\n",
        " \"Guaraní\": \"gn\",\n",
        " \"Gujarati\": \"gu\",\n",
        " \"Haitian; Haitian Creole\": \"ht\",\n",
        " \"Hausa\": \"ha\",\n",
        " \"Hebrew (modern)\": \"he\",\n",
        " \"Herero\": \"hz\",\n",
        " \"Hindi\": \"hi\",\n",
        " \"Hiri Motu\": \"ho\",\n",
        " \"Hungarian\": \"hu\",\n",
        " \"Interlingua\": \"ia\",\n",
        " \"Indonesian\": \"id\",\n",
        " \"Interlingue\": \"ie\",\n",
        " \"Irish\": \"ga\",\n",
        " \"Igbo\": \"ig\",\n",
        " \"Inupiaq\": \"ik\",\n",
        " \"Ido\": \"io\",\n",
        " \"Icelandic\": \"is\",\n",
        " \"Italian\": \"it\",\n",
        " \"Inuktitut\": \"iu\",\n",
        " \"Japanese\": \"ja\",\n",
        " \"Javanese\": \"jv\",\n",
        " \"Kalaallisut, Greenlandic\": \"kl\",\n",
        " \"Kannada\": \"kn\",\n",
        " \"Kanuri\": \"kr\",\n",
        " \"Kashmiri\": \"ks\",\n",
        " \"Kazakh\": \"kk\",\n",
        " \"Khmer\": \"km\",\n",
        " \"Kikuyu, Gikuyu\": \"ki\",\n",
        " \"Kinyarwanda\": \"rw\",\n",
        " \"Kirghiz, Kyrgyz\": \"ky\",\n",
        " \"Komi\": \"kv\",\n",
        " \"Kongo\": \"kg\",\n",
        " \"Korean\": \"ko\",\n",
        " \"Kurdish\": \"ku\",\n",
        " \"Kwanyama, Kuanyama\": \"kj\",\n",
        " \"Latin\": \"la\",\n",
        " \"Luxembourgish, Letzeburgesch\": \"lb\",\n",
        " \"Luganda\": \"lg\",\n",
        " \"Limburgish, Limburgan, Limburger\": \"li\",\n",
        " \"Lingala\": \"ln\",\n",
        " \"Lao\": \"lo\",\n",
        " \"Lithuanian\": \"lt\",\n",
        " \"Luba-Katanga\": \"lu\",\n",
        " \"Latvian\": \"lv\",\n",
        " \"Manx\": \"gv\",\n",
        " \"Macedonian\": \"mk\",\n",
        " \"Malagasy\": \"mg\",\n",
        " \"Malay\": \"ms\",\n",
        " \"Malayalam\": \"ml\",\n",
        " \"Maltese\": \"mt\",\n",
        " \"Māori\": \"mi\",\n",
        " \"Marathi (Marāṭhī)\": \"mr\",\n",
        " \"Marshallese\": \"mh\",\n",
        " \"Mongolian\": \"mn\",\n",
        " \"Nauru\": \"na\",\n",
        " \"Navajo, Navaho\": \"nv\",\n",
        " \"Norwegian Bokmål\": \"nb\",\n",
        " \"North Ndebele\": \"nd\",\n",
        " \"Nepali\": \"ne\",\n",
        " \"Ndonga\": \"ng\",\n",
        " \"Norwegian Nynorsk\": \"nn\",\n",
        " \"Norwegian\": \"no\",\n",
        " \"Nuosu\": \"ii\",\n",
        " \"South Ndebele\": \"nr\",\n",
        " \"Occitan\": \"oc\",\n",
        " \"Ojibwe, Ojibwa\": \"oj\",\n",
        " \"Old Church Slavonic, Church Slavic, Church Slavonic, Old Bulgarian, Old Slavonic\": \"cu\",\n",
        " \"Oromo\": \"om\",\n",
        " \"Oriya\": \"or\",\n",
        " \"Ossetian, Ossetic\": \"os\",\n",
        " \"Panjabi, Punjabi\": \"pa\",\n",
        " \"Pāli\": \"pi\",\n",
        " \"Persian\": \"fa\",\n",
        " \"Polish\": \"pl\",\n",
        " \"Pashto, Pushto\": \"ps\",\n",
        " \"Portuguese\": \"pt\",\n",
        " \"Quechua\": \"qu\",\n",
        " \"Romansh\": \"rm\",\n",
        " \"Kirundi\": \"rn\",\n",
        " \"Romanian, Moldavian, Moldovan\": \"ro\",\n",
        " \"Russian\": \"ru\",\n",
        " \"Sanskrit (Saṁskṛta)\": \"sa\",\n",
        " \"Sardinian\": \"sc\",\n",
        " \"Sindhi\": \"sd\",\n",
        " \"Northern Sami\": \"se\",\n",
        " \"Samoan\": \"sm\",\n",
        " \"Sango\": \"sg\",\n",
        " \"Serbian\": \"sr\",\n",
        " \"Scottish Gaelic; Gaelic\": \"gd\",\n",
        " \"Shona\": \"sn\",\n",
        " \"Sinhala, Sinhalese\": \"si\",\n",
        " \"Slovak\": \"sk\",\n",
        " \"Slovene\": \"sl\",\n",
        " \"Somali\": \"so\",\n",
        " \"Southern Sotho\": \"st\",\n",
        " \"Spanish; Castilian\": \"es\",\n",
        " \"Sundanese\": \"su\",\n",
        " \"Swahili\": \"sw\",\n",
        " \"Swati\": \"ss\",\n",
        " \"Swedish\": \"sv\",\n",
        " \"Tamil\": \"ta\",\n",
        " \"Telugu\": \"te\",\n",
        " \"Tajik\": \"tg\",\n",
        " \"Thai\": \"th\",\n",
        " \"Tigrinya\": \"ti\",\n",
        " \"Tibetan Standard, Tibetan, Central\": \"bo\",\n",
        " \"Turkmen\": \"tk\",\n",
        " \"Tagalog\": \"tl\",\n",
        " \"Tswana\": \"tn\",\n",
        " \"Tonga (Tonga Islands)\": \"to\",\n",
        " \"Turkish\": \"tr\",\n",
        " \"Tsonga\": \"ts\",\n",
        " \"Tatar\": \"tt\",\n",
        " \"Twi\": \"tw\",\n",
        " \"Tahitian\": \"ty\",\n",
        " \"Uighur, Uyghur\": \"ug\",\n",
        " \"Ukrainian\": \"uk\",\n",
        " \"Urdu\": \"ur\",\n",
        " \"Uzbek\": \"uz\",\n",
        " \"Venda\": \"ve\",\n",
        " \"Vietnamese\": \"vi\",\n",
        " \"Volapük\": \"vo\",\n",
        " \"Walloon\": \"wa\",\n",
        " \"Welsh\": \"cy\",\n",
        " \"Wolof\": \"wo\",\n",
        " \"Western Frisian\": \"fy\",\n",
        " \"Xhosa\": \"xh\",\n",
        " \"Yiddish\": \"yi\",\n",
        " \"Yoruba\": \"yo\",\n",
        " \"Zhuang, Chuang\": \"za\"}\n",
        "\n",
        "\n",
        "\n",
        "\n",
        "\n",
        "\n",
        "\n",
        "\n",
        "\n",
        "\n",
        "\n"
      ],
      "metadata": {
        "id": "toTzEs7KIQDc"
      },
      "execution_count": null,
      "outputs": []
    },
    {
      "cell_type": "code",
      "source": [
        "list_of_keys = list()\n",
        "for keys,values in d.items():\n",
        "  list_of_keys.append(keys)"
      ],
      "metadata": {
        "id": "tJ62PyjJJinC"
      },
      "execution_count": null,
      "outputs": []
    },
    {
      "cell_type": "code",
      "source": [
        "keys_ = [keys for keys,values in d.items()]"
      ],
      "metadata": {
        "id": "jnluap2SOjAI"
      },
      "execution_count": null,
      "outputs": []
    },
    {
      "cell_type": "code",
      "source": [
        "a = list(d.keys())\n",
        "print(a)"
      ],
      "metadata": {
        "id": "EIjjGJ1DPkcI"
      },
      "execution_count": null,
      "outputs": []
    },
    {
      "cell_type": "code",
      "source": [
        "a = 'KINYARwANdA'\n",
        "B = a.title()\n",
        "print(B)"
      ],
      "metadata": {
        "id": "peQxTk9NJvgD"
      },
      "execution_count": null,
      "outputs": []
    },
    {
      "cell_type": "markdown",
      "source": [
        "# Umucyo.gov.rw Scrapping"
      ],
      "metadata": {
        "id": "_izFPZptBbqy"
      }
    },
    {
      "cell_type": "code",
      "source": [
        "web =  requests.get('https://www.umucyo.gov.rw/eb/bav/selectListAdvertisingListForGU.do').content"
      ],
      "metadata": {
        "id": "2oF5jyVNBfaZ"
      },
      "execution_count": null,
      "outputs": []
    },
    {
      "cell_type": "code",
      "source": [
        "web #test whether the fectch request is successfull"
      ],
      "metadata": {
        "id": "u6CrZ9aEBpFg"
      },
      "execution_count": null,
      "outputs": []
    },
    {
      "cell_type": "code",
      "source": [
        "cont = BeautifulSoup(web, 'html.parser')"
      ],
      "metadata": {
        "id": "M78cCAwTB2C_"
      },
      "execution_count": null,
      "outputs": []
    },
    {
      "cell_type": "code",
      "source": [
        "len(cont.find_all('tr'))"
      ],
      "metadata": {
        "id": "3Z4XkwVbCEO9"
      },
      "execution_count": null,
      "outputs": []
    }
  ]
}