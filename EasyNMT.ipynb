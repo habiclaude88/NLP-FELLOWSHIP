{
  "nbformat": 4,
  "nbformat_minor": 0,
  "metadata": {
    "colab": {
      "provenance": [],
      "collapsed_sections": [],
      "authorship_tag": "ABX9TyMuaKW78/v/QkdDimVwlOag",
      "include_colab_link": true
    },
    "kernelspec": {
      "name": "python3",
      "display_name": "Python 3"
    },
    "language_info": {
      "name": "python"
    },
    "accelerator": "GPU",
    "gpuClass": "standard"
  },
  "cells": [
    {
      "cell_type": "markdown",
      "metadata": {
        "id": "view-in-github",
        "colab_type": "text"
      },
      "source": [
        "<a href=\"https://colab.research.google.com/github/habiclaude88/NLP-FELLOWSHIP/blob/main/EasyNMT.ipynb\" target=\"_parent\"><img src=\"https://colab.research.google.com/assets/colab-badge.svg\" alt=\"Open In Colab\"/></a>"
      ]
    },
    {
      "cell_type": "code",
      "execution_count": 1,
      "metadata": {
        "colab": {
          "base_uri": "https://localhost:8080/"
        },
        "id": "olQ_686bkdVB",
        "outputId": "9b21e8c4-55da-4769-e748-47f5beacf73f"
      },
      "outputs": [
        {
          "output_type": "stream",
          "name": "stdout",
          "text": [
            "Looking in indexes: https://pypi.org/simple, https://us-python.pkg.dev/colab-wheels/public/simple/\n",
            "Requirement already satisfied: easynmt in /usr/local/lib/python3.7/dist-packages (2.0.2)\n",
            "Requirement already satisfied: protobuf in /usr/local/lib/python3.7/dist-packages (from easynmt) (3.17.3)\n",
            "Requirement already satisfied: tqdm in /usr/local/lib/python3.7/dist-packages (from easynmt) (4.64.1)\n",
            "Requirement already satisfied: numpy in /usr/local/lib/python3.7/dist-packages (from easynmt) (1.21.6)\n",
            "Requirement already satisfied: nltk in /usr/local/lib/python3.7/dist-packages (from easynmt) (3.7)\n",
            "Requirement already satisfied: torch>=1.6.0 in /usr/local/lib/python3.7/dist-packages (from easynmt) (1.12.1+cu113)\n",
            "Requirement already satisfied: sentencepiece in /usr/local/lib/python3.7/dist-packages (from easynmt) (0.1.97)\n",
            "Requirement already satisfied: fasttext in /usr/local/lib/python3.7/dist-packages (from easynmt) (0.9.2)\n",
            "Requirement already satisfied: transformers<5,>=4.4 in /usr/local/lib/python3.7/dist-packages (from easynmt) (4.24.0)\n",
            "Requirement already satisfied: typing-extensions in /usr/local/lib/python3.7/dist-packages (from torch>=1.6.0->easynmt) (4.1.1)\n",
            "Requirement already satisfied: huggingface-hub<1.0,>=0.10.0 in /usr/local/lib/python3.7/dist-packages (from transformers<5,>=4.4->easynmt) (0.10.1)\n",
            "Requirement already satisfied: packaging>=20.0 in /usr/local/lib/python3.7/dist-packages (from transformers<5,>=4.4->easynmt) (21.3)\n",
            "Requirement already satisfied: filelock in /usr/local/lib/python3.7/dist-packages (from transformers<5,>=4.4->easynmt) (3.8.0)\n",
            "Requirement already satisfied: tokenizers!=0.11.3,<0.14,>=0.11.1 in /usr/local/lib/python3.7/dist-packages (from transformers<5,>=4.4->easynmt) (0.13.2)\n",
            "Requirement already satisfied: pyyaml>=5.1 in /usr/local/lib/python3.7/dist-packages (from transformers<5,>=4.4->easynmt) (6.0)\n",
            "Requirement already satisfied: regex!=2019.12.17 in /usr/local/lib/python3.7/dist-packages (from transformers<5,>=4.4->easynmt) (2022.6.2)\n",
            "Requirement already satisfied: requests in /usr/local/lib/python3.7/dist-packages (from transformers<5,>=4.4->easynmt) (2.23.0)\n",
            "Requirement already satisfied: importlib-metadata in /usr/local/lib/python3.7/dist-packages (from transformers<5,>=4.4->easynmt) (4.13.0)\n",
            "Requirement already satisfied: pyparsing!=3.0.5,>=2.0.2 in /usr/local/lib/python3.7/dist-packages (from packaging>=20.0->transformers<5,>=4.4->easynmt) (3.0.9)\n",
            "Requirement already satisfied: setuptools>=0.7.0 in /usr/local/lib/python3.7/dist-packages (from fasttext->easynmt) (57.4.0)\n",
            "Requirement already satisfied: pybind11>=2.2 in /usr/local/lib/python3.7/dist-packages (from fasttext->easynmt) (2.10.1)\n",
            "Requirement already satisfied: zipp>=0.5 in /usr/local/lib/python3.7/dist-packages (from importlib-metadata->transformers<5,>=4.4->easynmt) (3.10.0)\n",
            "Requirement already satisfied: joblib in /usr/local/lib/python3.7/dist-packages (from nltk->easynmt) (1.2.0)\n",
            "Requirement already satisfied: click in /usr/local/lib/python3.7/dist-packages (from nltk->easynmt) (7.1.2)\n",
            "Requirement already satisfied: six>=1.9 in /usr/local/lib/python3.7/dist-packages (from protobuf->easynmt) (1.15.0)\n",
            "Requirement already satisfied: chardet<4,>=3.0.2 in /usr/local/lib/python3.7/dist-packages (from requests->transformers<5,>=4.4->easynmt) (3.0.4)\n",
            "Requirement already satisfied: idna<3,>=2.5 in /usr/local/lib/python3.7/dist-packages (from requests->transformers<5,>=4.4->easynmt) (2.10)\n",
            "Requirement already satisfied: urllib3!=1.25.0,!=1.25.1,<1.26,>=1.21.1 in /usr/local/lib/python3.7/dist-packages (from requests->transformers<5,>=4.4->easynmt) (1.24.3)\n",
            "Requirement already satisfied: certifi>=2017.4.17 in /usr/local/lib/python3.7/dist-packages (from requests->transformers<5,>=4.4->easynmt) (2022.9.24)\n"
          ]
        }
      ],
      "source": [
        "!pip install -U easynmt"
      ]
    },
    {
      "cell_type": "code",
      "source": [
        "from easynmt import EasyNMT\n",
        "model = EasyNMT('opus-mt')"
      ],
      "metadata": {
        "id": "dOYRUMBYKqwF"
      },
      "execution_count": 3,
      "outputs": []
    },
    {
      "cell_type": "code",
      "source": [
        "sentences = [\n",
        "    \"Jesus is alive\",\n",
        "    \"Hands on projects is our priority\",\n",
        "    \"I don't have anything\",\n",
        "    \"It is a rainy day\",\n",
        "    \"'It is what it is!': Legend Belise once said.\"\n",
        "]"
      ],
      "metadata": {
        "id": "D-x8jsieLkSy"
      },
      "execution_count": 4,
      "outputs": []
    },
    {
      "cell_type": "code",
      "source": [
        "translations = model.translate(sentences, target_lang='rw')\n"
      ],
      "metadata": {
        "id": "qDhA_9zbOMvS"
      },
      "execution_count": null,
      "outputs": []
    },
    {
      "cell_type": "code",
      "source": [
        "translations"
      ],
      "metadata": {
        "colab": {
          "base_uri": "https://localhost:8080/"
        },
        "id": "dyixGlK4OSq1",
        "outputId": "0a886fa8-5c23-4316-9432-7b2f86631c4f"
      },
      "execution_count": 6,
      "outputs": [
        {
          "output_type": "execute_result",
          "data": {
            "text/plain": [
              "['Yesu ni muzima',\n",
              " 'Ibintu tugomba gushyira mu mwanya wa mbere ni byo dushyira mu mwanya wa mbere',\n",
              " '........',\n",
              " \"Ni umunsi w'imvura\",\n",
              " 'Ni ko biri!Ibyo umuntu agomba kuba yujuje: Nikolaie.']"
            ]
          },
          "metadata": {},
          "execution_count": 6
        }
      ]
    },
    {
      "cell_type": "code",
      "source": [
        "import json\n",
        "import pandas as pd"
      ],
      "metadata": {
        "id": "CHVzUC53OoiU"
      },
      "execution_count": 7,
      "outputs": []
    },
    {
      "cell_type": "code",
      "source": [
        "with open(\"/content/language.json\",'r+') as file_lang:\n",
        "  content = file_lang.read()"
      ],
      "metadata": {
        "id": "1CvlR5OoTPaC"
      },
      "execution_count": 8,
      "outputs": []
    },
    {
      "cell_type": "code",
      "source": [
        "languages_json = json.loads(content)\n",
        "languages_json"
      ],
      "metadata": {
        "id": "VusSQE2lUB6-"
      },
      "execution_count": null,
      "outputs": []
    },
    {
      "cell_type": "code",
      "source": [
        "languages_json[0]"
      ],
      "metadata": {
        "colab": {
          "base_uri": "https://localhost:8080/"
        },
        "id": "68qdUZ2jUQGq",
        "outputId": "d4ffa373-ef72-4c70-cc74-fd62c711081c"
      },
      "execution_count": 10,
      "outputs": [
        {
          "output_type": "execute_result",
          "data": {
            "text/plain": [
              "{'code': 'ab', 'name': 'Abkhaz'}"
            ]
          },
          "metadata": {},
          "execution_count": 10
        }
      ]
    },
    {
      "cell_type": "code",
      "source": [
        "df = pd.DataFrame()"
      ],
      "metadata": {
        "id": "XbnMYmC-aM0N"
      },
      "execution_count": 11,
      "outputs": []
    },
    {
      "cell_type": "code",
      "source": [
        "rw_sentences = [\n",
        "    'Umwana murizi ntakurwa urutozi',\n",
        "    'Serupyipyinyurimpyisi yansyonyoye',\n",
        "    'Sogokuru aryoha aboze'\n",
        "]"
      ],
      "metadata": {
        "id": "IskOKyIpbndc"
      },
      "execution_count": 2,
      "outputs": []
    },
    {
      "cell_type": "code",
      "source": [
        "df['rw'] = rw_sentences\n",
        "df['Kinyarwanda'] = rw_sentences\n",
        "df['en'] = sentences[:3]\n",
        "df"
      ],
      "metadata": {
        "colab": {
          "base_uri": "https://localhost:8080/",
          "height": 143
        },
        "id": "JsseDgumckTn",
        "outputId": "1596aa70-5bda-494b-d804-ec731667e75e"
      },
      "execution_count": 15,
      "outputs": [
        {
          "output_type": "execute_result",
          "data": {
            "text/plain": [
              "                                  rw                        Kinyarwanda  \\\n",
              "0     Umwana murizi ntakurwa urutozi     Umwana murizi ntakurwa urutozi   \n",
              "1  Serupyipyinyurimpyisi yansyonyoye  Serupyipyinyurimpyisi yansyonyoye   \n",
              "2              Sogokuru aryoha aboze              Sogokuru aryoha aboze   \n",
              "\n",
              "                                  en  \n",
              "0                     Jesus is alive  \n",
              "1  Hands on projects is our priority  \n",
              "2              I don't have anything  "
            ],
            "text/html": [
              "\n",
              "  <div id=\"df-5bd6831c-056f-41bd-8010-c6f37098f82b\">\n",
              "    <div class=\"colab-df-container\">\n",
              "      <div>\n",
              "<style scoped>\n",
              "    .dataframe tbody tr th:only-of-type {\n",
              "        vertical-align: middle;\n",
              "    }\n",
              "\n",
              "    .dataframe tbody tr th {\n",
              "        vertical-align: top;\n",
              "    }\n",
              "\n",
              "    .dataframe thead th {\n",
              "        text-align: right;\n",
              "    }\n",
              "</style>\n",
              "<table border=\"1\" class=\"dataframe\">\n",
              "  <thead>\n",
              "    <tr style=\"text-align: right;\">\n",
              "      <th></th>\n",
              "      <th>rw</th>\n",
              "      <th>Kinyarwanda</th>\n",
              "      <th>en</th>\n",
              "    </tr>\n",
              "  </thead>\n",
              "  <tbody>\n",
              "    <tr>\n",
              "      <th>0</th>\n",
              "      <td>Umwana murizi ntakurwa urutozi</td>\n",
              "      <td>Umwana murizi ntakurwa urutozi</td>\n",
              "      <td>Jesus is alive</td>\n",
              "    </tr>\n",
              "    <tr>\n",
              "      <th>1</th>\n",
              "      <td>Serupyipyinyurimpyisi yansyonyoye</td>\n",
              "      <td>Serupyipyinyurimpyisi yansyonyoye</td>\n",
              "      <td>Hands on projects is our priority</td>\n",
              "    </tr>\n",
              "    <tr>\n",
              "      <th>2</th>\n",
              "      <td>Sogokuru aryoha aboze</td>\n",
              "      <td>Sogokuru aryoha aboze</td>\n",
              "      <td>I don't have anything</td>\n",
              "    </tr>\n",
              "  </tbody>\n",
              "</table>\n",
              "</div>\n",
              "      <button class=\"colab-df-convert\" onclick=\"convertToInteractive('df-5bd6831c-056f-41bd-8010-c6f37098f82b')\"\n",
              "              title=\"Convert this dataframe to an interactive table.\"\n",
              "              style=\"display:none;\">\n",
              "        \n",
              "  <svg xmlns=\"http://www.w3.org/2000/svg\" height=\"24px\"viewBox=\"0 0 24 24\"\n",
              "       width=\"24px\">\n",
              "    <path d=\"M0 0h24v24H0V0z\" fill=\"none\"/>\n",
              "    <path d=\"M18.56 5.44l.94 2.06.94-2.06 2.06-.94-2.06-.94-.94-2.06-.94 2.06-2.06.94zm-11 1L8.5 8.5l.94-2.06 2.06-.94-2.06-.94L8.5 2.5l-.94 2.06-2.06.94zm10 10l.94 2.06.94-2.06 2.06-.94-2.06-.94-.94-2.06-.94 2.06-2.06.94z\"/><path d=\"M17.41 7.96l-1.37-1.37c-.4-.4-.92-.59-1.43-.59-.52 0-1.04.2-1.43.59L10.3 9.45l-7.72 7.72c-.78.78-.78 2.05 0 2.83L4 21.41c.39.39.9.59 1.41.59.51 0 1.02-.2 1.41-.59l7.78-7.78 2.81-2.81c.8-.78.8-2.07 0-2.86zM5.41 20L4 18.59l7.72-7.72 1.47 1.35L5.41 20z\"/>\n",
              "  </svg>\n",
              "      </button>\n",
              "      \n",
              "  <style>\n",
              "    .colab-df-container {\n",
              "      display:flex;\n",
              "      flex-wrap:wrap;\n",
              "      gap: 12px;\n",
              "    }\n",
              "\n",
              "    .colab-df-convert {\n",
              "      background-color: #E8F0FE;\n",
              "      border: none;\n",
              "      border-radius: 50%;\n",
              "      cursor: pointer;\n",
              "      display: none;\n",
              "      fill: #1967D2;\n",
              "      height: 32px;\n",
              "      padding: 0 0 0 0;\n",
              "      width: 32px;\n",
              "    }\n",
              "\n",
              "    .colab-df-convert:hover {\n",
              "      background-color: #E2EBFA;\n",
              "      box-shadow: 0px 1px 2px rgba(60, 64, 67, 0.3), 0px 1px 3px 1px rgba(60, 64, 67, 0.15);\n",
              "      fill: #174EA6;\n",
              "    }\n",
              "\n",
              "    [theme=dark] .colab-df-convert {\n",
              "      background-color: #3B4455;\n",
              "      fill: #D2E3FC;\n",
              "    }\n",
              "\n",
              "    [theme=dark] .colab-df-convert:hover {\n",
              "      background-color: #434B5C;\n",
              "      box-shadow: 0px 1px 3px 1px rgba(0, 0, 0, 0.15);\n",
              "      filter: drop-shadow(0px 1px 2px rgba(0, 0, 0, 0.3));\n",
              "      fill: #FFFFFF;\n",
              "    }\n",
              "  </style>\n",
              "\n",
              "      <script>\n",
              "        const buttonEl =\n",
              "          document.querySelector('#df-5bd6831c-056f-41bd-8010-c6f37098f82b button.colab-df-convert');\n",
              "        buttonEl.style.display =\n",
              "          google.colab.kernel.accessAllowed ? 'block' : 'none';\n",
              "\n",
              "        async function convertToInteractive(key) {\n",
              "          const element = document.querySelector('#df-5bd6831c-056f-41bd-8010-c6f37098f82b');\n",
              "          const dataTable =\n",
              "            await google.colab.kernel.invokeFunction('convertToInteractive',\n",
              "                                                     [key], {});\n",
              "          if (!dataTable) return;\n",
              "\n",
              "          const docLinkHtml = 'Like what you see? Visit the ' +\n",
              "            '<a target=\"_blank\" href=https://colab.research.google.com/notebooks/data_table.ipynb>data table notebook</a>'\n",
              "            + ' to learn more about interactive tables.';\n",
              "          element.innerHTML = '';\n",
              "          dataTable['output_type'] = 'display_data';\n",
              "          await google.colab.output.renderOutput(dataTable, element);\n",
              "          const docLink = document.createElement('div');\n",
              "          docLink.innerHTML = docLinkHtml;\n",
              "          element.appendChild(docLink);\n",
              "        }\n",
              "      </script>\n",
              "    </div>\n",
              "  </div>\n",
              "  "
            ]
          },
          "metadata": {},
          "execution_count": 15
        }
      ]
    },
    {
      "cell_type": "code",
      "source": [
        "for language in languages_json[80:100]:\n",
        "  code = language['code']\n",
        "  try: # try means that if it doesnot find model of language, skip\n",
        "    df[code] = model.translate(df['en'], source_lang = 'en', target_lang=code)\n",
        "  except: # dont bring error if language does not have model\n",
        "    pass"
      ],
      "metadata": {
        "id": "6AwyFyKCWKsb"
      },
      "execution_count": null,
      "outputs": []
    },
    {
      "cell_type": "code",
      "source": [
        "df"
      ],
      "metadata": {
        "colab": {
          "base_uri": "https://localhost:8080/",
          "height": 361
        },
        "id": "YXTgGHrVh4CK",
        "outputId": "21b88f2d-3c30-4d62-886d-7b62211c25c1"
      },
      "execution_count": 17,
      "outputs": [
        {
          "output_type": "execute_result",
          "data": {
            "text/plain": [
              "                                                  rw  \\\n",
              "0                                     Yesu ni muzima   \n",
              "1  Ibintu tugomba gushyira mu mwanya wa mbere ni ...   \n",
              "2                                           ........   \n",
              "\n",
              "                         Kinyarwanda                                 en  \\\n",
              "0     Umwana murizi ntakurwa urutozi                     Jesus is alive   \n",
              "1  Serupyipyinyurimpyisi yansyonyoye  Hands on projects is our priority   \n",
              "2              Sogokuru aryoha aboze              I don't have anything   \n",
              "\n",
              "                                                  kg  \\\n",
              "0                               Yezu kele na luzingu   \n",
              "1  Mbongo ya kisalu kele mambu ya kuluta mfunu yi...   \n",
              "2                      Mono kele ve ata ti kima mosi   \n",
              "\n",
              "                                                  kj  \\\n",
              "0                               Jesus oku na omwenyo   \n",
              "1  Ohai tu kwafele tu kale twa pitifa komesho oil...   \n",
              "2                                      Kandi na sha.   \n",
              "\n",
              "                                                  lg  \\\n",
              "0                                        Yesu mulamu   \n",
              "1  Okwenyigira mu mirimu gy'awaka kye kintu kye t...   \n",
              "2                                Sirina kintu kyonna   \n",
              "\n",
              "                                                  ln  \\\n",
              "0                                Yesu azali na bomoi   \n",
              "1  Misala ya mabɔkɔ ezali likambo ya liboso oyo t...   \n",
              "2                                 Nazali na eloko te   \n",
              "\n",
              "                                                  lu  \\\n",
              "0                                        Yesu i mūmi   \n",
              "1  Kutangidija bintu bya kutangidija kumeso i kwi...   \n",
              "2                     Nkikidipo na kintu nansha kimo   \n",
              "\n",
              "                                     gv  \\\n",
              "0      Dooyrt Yeesey r'ee, My firrinagh   \n",
              "1  Mair-chlaa er ny jallooyn bun-chlaa.   \n",
              "2                     Cha nel red erbee   \n",
              "\n",
              "                                      mk  \\\n",
              "0                            Исус е жив.   \n",
              "1  \"Рацете на проектите ни се приоритет\"   \n",
              "2                           Немам ништо.   \n",
              "\n",
              "                                                  mg  \n",
              "0                                    Velona i Jesosy  \n",
              "1  Ny tànana amin'ny tetikasa no laharam-pahamehanay  \n",
              "2                   Tsy manana na inona na inona aho  "
            ],
            "text/html": [
              "\n",
              "  <div id=\"df-e5dd5bf4-8888-406a-8925-0978fcf3bf20\">\n",
              "    <div class=\"colab-df-container\">\n",
              "      <div>\n",
              "<style scoped>\n",
              "    .dataframe tbody tr th:only-of-type {\n",
              "        vertical-align: middle;\n",
              "    }\n",
              "\n",
              "    .dataframe tbody tr th {\n",
              "        vertical-align: top;\n",
              "    }\n",
              "\n",
              "    .dataframe thead th {\n",
              "        text-align: right;\n",
              "    }\n",
              "</style>\n",
              "<table border=\"1\" class=\"dataframe\">\n",
              "  <thead>\n",
              "    <tr style=\"text-align: right;\">\n",
              "      <th></th>\n",
              "      <th>rw</th>\n",
              "      <th>Kinyarwanda</th>\n",
              "      <th>en</th>\n",
              "      <th>kg</th>\n",
              "      <th>kj</th>\n",
              "      <th>lg</th>\n",
              "      <th>ln</th>\n",
              "      <th>lu</th>\n",
              "      <th>gv</th>\n",
              "      <th>mk</th>\n",
              "      <th>mg</th>\n",
              "    </tr>\n",
              "  </thead>\n",
              "  <tbody>\n",
              "    <tr>\n",
              "      <th>0</th>\n",
              "      <td>Yesu ni muzima</td>\n",
              "      <td>Umwana murizi ntakurwa urutozi</td>\n",
              "      <td>Jesus is alive</td>\n",
              "      <td>Yezu kele na luzingu</td>\n",
              "      <td>Jesus oku na omwenyo</td>\n",
              "      <td>Yesu mulamu</td>\n",
              "      <td>Yesu azali na bomoi</td>\n",
              "      <td>Yesu i mūmi</td>\n",
              "      <td>Dooyrt Yeesey r'ee, My firrinagh</td>\n",
              "      <td>Исус е жив.</td>\n",
              "      <td>Velona i Jesosy</td>\n",
              "    </tr>\n",
              "    <tr>\n",
              "      <th>1</th>\n",
              "      <td>Ibintu tugomba gushyira mu mwanya wa mbere ni ...</td>\n",
              "      <td>Serupyipyinyurimpyisi yansyonyoye</td>\n",
              "      <td>Hands on projects is our priority</td>\n",
              "      <td>Mbongo ya kisalu kele mambu ya kuluta mfunu yi...</td>\n",
              "      <td>Ohai tu kwafele tu kale twa pitifa komesho oil...</td>\n",
              "      <td>Okwenyigira mu mirimu gy'awaka kye kintu kye t...</td>\n",
              "      <td>Misala ya mabɔkɔ ezali likambo ya liboso oyo t...</td>\n",
              "      <td>Kutangidija bintu bya kutangidija kumeso i kwi...</td>\n",
              "      <td>Mair-chlaa er ny jallooyn bun-chlaa.</td>\n",
              "      <td>\"Рацете на проектите ни се приоритет\"</td>\n",
              "      <td>Ny tànana amin'ny tetikasa no laharam-pahamehanay</td>\n",
              "    </tr>\n",
              "    <tr>\n",
              "      <th>2</th>\n",
              "      <td>........</td>\n",
              "      <td>Sogokuru aryoha aboze</td>\n",
              "      <td>I don't have anything</td>\n",
              "      <td>Mono kele ve ata ti kima mosi</td>\n",
              "      <td>Kandi na sha.</td>\n",
              "      <td>Sirina kintu kyonna</td>\n",
              "      <td>Nazali na eloko te</td>\n",
              "      <td>Nkikidipo na kintu nansha kimo</td>\n",
              "      <td>Cha nel red erbee</td>\n",
              "      <td>Немам ништо.</td>\n",
              "      <td>Tsy manana na inona na inona aho</td>\n",
              "    </tr>\n",
              "  </tbody>\n",
              "</table>\n",
              "</div>\n",
              "      <button class=\"colab-df-convert\" onclick=\"convertToInteractive('df-e5dd5bf4-8888-406a-8925-0978fcf3bf20')\"\n",
              "              title=\"Convert this dataframe to an interactive table.\"\n",
              "              style=\"display:none;\">\n",
              "        \n",
              "  <svg xmlns=\"http://www.w3.org/2000/svg\" height=\"24px\"viewBox=\"0 0 24 24\"\n",
              "       width=\"24px\">\n",
              "    <path d=\"M0 0h24v24H0V0z\" fill=\"none\"/>\n",
              "    <path d=\"M18.56 5.44l.94 2.06.94-2.06 2.06-.94-2.06-.94-.94-2.06-.94 2.06-2.06.94zm-11 1L8.5 8.5l.94-2.06 2.06-.94-2.06-.94L8.5 2.5l-.94 2.06-2.06.94zm10 10l.94 2.06.94-2.06 2.06-.94-2.06-.94-.94-2.06-.94 2.06-2.06.94z\"/><path d=\"M17.41 7.96l-1.37-1.37c-.4-.4-.92-.59-1.43-.59-.52 0-1.04.2-1.43.59L10.3 9.45l-7.72 7.72c-.78.78-.78 2.05 0 2.83L4 21.41c.39.39.9.59 1.41.59.51 0 1.02-.2 1.41-.59l7.78-7.78 2.81-2.81c.8-.78.8-2.07 0-2.86zM5.41 20L4 18.59l7.72-7.72 1.47 1.35L5.41 20z\"/>\n",
              "  </svg>\n",
              "      </button>\n",
              "      \n",
              "  <style>\n",
              "    .colab-df-container {\n",
              "      display:flex;\n",
              "      flex-wrap:wrap;\n",
              "      gap: 12px;\n",
              "    }\n",
              "\n",
              "    .colab-df-convert {\n",
              "      background-color: #E8F0FE;\n",
              "      border: none;\n",
              "      border-radius: 50%;\n",
              "      cursor: pointer;\n",
              "      display: none;\n",
              "      fill: #1967D2;\n",
              "      height: 32px;\n",
              "      padding: 0 0 0 0;\n",
              "      width: 32px;\n",
              "    }\n",
              "\n",
              "    .colab-df-convert:hover {\n",
              "      background-color: #E2EBFA;\n",
              "      box-shadow: 0px 1px 2px rgba(60, 64, 67, 0.3), 0px 1px 3px 1px rgba(60, 64, 67, 0.15);\n",
              "      fill: #174EA6;\n",
              "    }\n",
              "\n",
              "    [theme=dark] .colab-df-convert {\n",
              "      background-color: #3B4455;\n",
              "      fill: #D2E3FC;\n",
              "    }\n",
              "\n",
              "    [theme=dark] .colab-df-convert:hover {\n",
              "      background-color: #434B5C;\n",
              "      box-shadow: 0px 1px 3px 1px rgba(0, 0, 0, 0.15);\n",
              "      filter: drop-shadow(0px 1px 2px rgba(0, 0, 0, 0.3));\n",
              "      fill: #FFFFFF;\n",
              "    }\n",
              "  </style>\n",
              "\n",
              "      <script>\n",
              "        const buttonEl =\n",
              "          document.querySelector('#df-e5dd5bf4-8888-406a-8925-0978fcf3bf20 button.colab-df-convert');\n",
              "        buttonEl.style.display =\n",
              "          google.colab.kernel.accessAllowed ? 'block' : 'none';\n",
              "\n",
              "        async function convertToInteractive(key) {\n",
              "          const element = document.querySelector('#df-e5dd5bf4-8888-406a-8925-0978fcf3bf20');\n",
              "          const dataTable =\n",
              "            await google.colab.kernel.invokeFunction('convertToInteractive',\n",
              "                                                     [key], {});\n",
              "          if (!dataTable) return;\n",
              "\n",
              "          const docLinkHtml = 'Like what you see? Visit the ' +\n",
              "            '<a target=\"_blank\" href=https://colab.research.google.com/notebooks/data_table.ipynb>data table notebook</a>'\n",
              "            + ' to learn more about interactive tables.';\n",
              "          element.innerHTML = '';\n",
              "          dataTable['output_type'] = 'display_data';\n",
              "          await google.colab.output.renderOutput(dataTable, element);\n",
              "          const docLink = document.createElement('div');\n",
              "          docLink.innerHTML = docLinkHtml;\n",
              "          element.appendChild(docLink);\n",
              "        }\n",
              "      </script>\n",
              "    </div>\n",
              "  </div>\n",
              "  "
            ]
          },
          "metadata": {},
          "execution_count": 17
        }
      ]
    },
    {
      "cell_type": "code",
      "source": [
        "df.shape"
      ],
      "metadata": {
        "colab": {
          "base_uri": "https://localhost:8080/"
        },
        "id": "Sf3pCD2bWh5B",
        "outputId": "8e7f63a5-d673-4b0c-c8c8-7713d8db5a87"
      },
      "execution_count": 18,
      "outputs": [
        {
          "output_type": "execute_result",
          "data": {
            "text/plain": [
              "(3, 11)"
            ]
          },
          "metadata": {},
          "execution_count": 18
        }
      ]
    },
    {
      "cell_type": "code",
      "source": [],
      "metadata": {
        "id": "ujPZIaGXXoN9"
      },
      "execution_count": 18,
      "outputs": []
    }
  ]
}