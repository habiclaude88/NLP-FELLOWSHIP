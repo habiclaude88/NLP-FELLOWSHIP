{
  "nbformat": 4,
  "nbformat_minor": 0,
  "metadata": {
    "colab": {
      "provenance": [],
      "include_colab_link": true
    },
    "kernelspec": {
      "name": "python3",
      "display_name": "Python 3"
    },
    "language_info": {
      "name": "python"
    },
    "accelerator": "GPU",
    "gpuClass": "standard"
  },
  "cells": [
    {
      "cell_type": "markdown",
      "metadata": {
        "id": "view-in-github",
        "colab_type": "text"
      },
      "source": [
        "<a href=\"https://colab.research.google.com/github/habiclaude88/NLP-FELLOWSHIP/blob/main/Habimana1_Jean_Claude1_Hackathon1_File.ipynb\" target=\"_parent\"><img src=\"https://colab.research.google.com/assets/colab-badge.svg\" alt=\"Open In Colab\"/></a>"
      ]
    },
    {
      "cell_type": "markdown",
      "source": [
        "# Jobinrwanda.com Scrapping"
      ],
      "metadata": {
        "id": "rwYJYSRZxoJy"
      }
    },
    {
      "cell_type": "code",
      "source": [
        "import requests #Fetch HTML Pages from the Web\n",
        "from bs4 import BeautifulSoup #Extract information from HTML pages\n",
        "import pandas as pd #organise our data into tabular/tables\n",
        "import re\n",
        "import json"
      ],
      "metadata": {
        "id": "TMfj2T7pxq0A"
      },
      "execution_count": null,
      "outputs": []
    },
    {
      "cell_type": "code",
      "source": [
        "content_featured = requests.get('https://www.jobinrwanda.com').content\n",
        "page_featured = BeautifulSoup(content_featured, 'html.parser')\n",
        "adverts_all = page_featured.find_all('div', class_='card-body p-2')"
      ],
      "metadata": {
        "id": "JG902uM4x6S8"
      },
      "execution_count": null,
      "outputs": []
    },
    {
      "cell_type": "code",
      "source": [
        "adverts_all[0]"
      ],
      "metadata": {
        "colab": {
          "base_uri": "https://localhost:8080/"
        },
        "id": "sSCKuU0NyGME",
        "outputId": "bbf837f2-2fbb-4d7c-cba0-6b81ce052918"
      },
      "execution_count": null,
      "outputs": [
        {
          "output_type": "execute_result",
          "data": {
            "text/plain": [
              "<div class=\"card-body p-2\">\n",
              "<a href=\"/job/hiring-firm-brd-maintenance-assessment\"><h5 class=\"card-title\"><span class=\"field field--name-title field--type-string field--label-hidden\">Hiring a Firm for BRD Maintenance Assessment</span>\n",
              "</h5></a>\n",
              "<p class=\"card-text\">\n",
              "<a href=\"/employer/development-bank-rwanda-brd\">Development Bank of Rwanda (BRD)</a>  |\n",
              "              Published on 10-11-2022 |\n",
              "              Deadline <time class=\"datetime\" datetime=\"2022-11-25T08:00:00Z\">25-11-2022</time>\n",
              "<br/>\n",
              "                              Not specified<br/>\n",
              "<span class=\"badge badge-success\">Consultancy</span>\n",
              "</p>\n",
              "</div>"
            ]
          },
          "metadata": {},
          "execution_count": 3
        }
      ]
    },
    {
      "cell_type": "code",
      "source": [
        "adverts_all[0].find_all('p')[0].find('span').getText()"
      ],
      "metadata": {
        "colab": {
          "base_uri": "https://localhost:8080/",
          "height": 36
        },
        "id": "XuQvWT41yJgf",
        "outputId": "ad4cd936-b270-4e45-cc6c-979f8465f9c4"
      },
      "execution_count": null,
      "outputs": [
        {
          "output_type": "execute_result",
          "data": {
            "text/plain": [
              "'Consultancy'"
            ],
            "application/vnd.google.colaboratory.intrinsic+json": {
              "type": "string"
            }
          },
          "metadata": {},
          "execution_count": 4
        }
      ]
    },
    {
      "cell_type": "code",
      "source": [
        "adverts_all[0].find('span').getText() #Title of Each Job advert\n",
        "adverts_all[0].find('a')['href']  #Link to the content of each job title\n",
        "adverts_all[0].find('p').find('a') #Link to the Institution that has posted the advert\n",
        "adverts_all[0].find('p').find('a').getText() #This is the name of the company"
      ],
      "metadata": {
        "colab": {
          "base_uri": "https://localhost:8080/",
          "height": 36
        },
        "id": "8SWQS2V9yNxK",
        "outputId": "699427d7-47a6-4ce0-eb80-183c640a0a9f"
      },
      "execution_count": null,
      "outputs": [
        {
          "output_type": "execute_result",
          "data": {
            "text/plain": [
              "'Development Bank of Rwanda (BRD)'"
            ],
            "application/vnd.google.colaboratory.intrinsic+json": {
              "type": "string"
            }
          },
          "metadata": {},
          "execution_count": 5
        }
      ]
    },
    {
      "cell_type": "code",
      "source": [
        "df = pd.DataFrame()\n",
        "df['link'] = None\n",
        "df['title'] = None\n",
        "df['company_link'] = None\n",
        "df['company'] = None\n",
        "df['type'] = None"
      ],
      "metadata": {
        "id": "9NEWzmr8yRNO"
      },
      "execution_count": null,
      "outputs": []
    },
    {
      "cell_type": "code",
      "source": [
        "def parse_content(content):\n",
        "  link = []\n",
        "  title = []\n",
        "  company = []\n",
        "  company_link = []\n",
        "  job_type = []\n",
        "  for index, advert in enumerate(content):\n",
        "    link.append(advert.find('a')['href'])\n",
        "    title.append(advert.find('span').getText()) #GEt the title from\n",
        "    company.append(str(advert.find('p').find('a').getText()))\n",
        "    company_link.append(advert.find('p').find('a'))\n",
        "    job_type.append(advert.find_all('p')[0].find('span').getText()) #Whether its a job/consultacy/tender\n",
        "  return link, title, company, company_link, job_type"
      ],
      "metadata": {
        "id": "PVqNsjQ7yT9z"
      },
      "execution_count": null,
      "outputs": []
    },
    {
      "cell_type": "code",
      "source": [
        "#Jobs Advert\n",
        "content_jobs_bs = BeautifulSoup(content_featured, 'html.parser')\n",
        "content_jobs_titles = content_jobs_bs.find_all('div', class_='card-body p-2')\n",
        "df['link'], df['title'], df['company'], df['company_link'], df['type']= parse_content(content_jobs_titles)"
      ],
      "metadata": {
        "id": "f7MXFsLTyXBt"
      },
      "execution_count": null,
      "outputs": []
    },
    {
      "cell_type": "code",
      "source": [
        "df['link']"
      ],
      "metadata": {
        "colab": {
          "base_uri": "https://localhost:8080/"
        },
        "id": "vWJWW2pHyaBK",
        "outputId": "6cbf9255-bc34-4973-c270-d64d5c390021"
      },
      "execution_count": null,
      "outputs": [
        {
          "output_type": "execute_result",
          "data": {
            "text/plain": [
              "0            /job/hiring-firm-brd-maintenance-assessment\n",
              "1                 /job/construction-du-guichet-de-byumba\n",
              "2                /job/consultant-monitoring-evaluation-0\n",
              "3                              /job/operations-manager-6\n",
              "4      /job/terms-reference-production-second-generat...\n",
              "                             ...                        \n",
              "165                                /job/rwanda-tree-lead\n",
              "166       /index.php/job/rwanda-potato-seed-venture-lead\n",
              "167                    /job/it-operations-senior-manager\n",
              "168              /job/rwanda-seed-innovation-centre-lead\n",
              "169                         /job/senior-business-analyst\n",
              "Name: link, Length: 170, dtype: object"
            ]
          },
          "metadata": {},
          "execution_count": 9
        }
      ]
    },
    {
      "cell_type": "code",
      "source": [
        "list_description = []\n",
        "for i in range(len(df)):\n",
        "  link = 'https://www.jobinrwanda.com' + df['link'][i]\n",
        "  print(link, i)"
      ],
      "metadata": {
        "colab": {
          "base_uri": "https://localhost:8080/"
        },
        "id": "iF6VfCdfyezx",
        "outputId": "899a7e71-7e87-4ad5-bb96-3ea0fb8f8210"
      },
      "execution_count": null,
      "outputs": [
        {
          "output_type": "stream",
          "name": "stdout",
          "text": [
            "https://www.jobinrwanda.com/job/hiring-firm-brd-maintenance-assessment 0\n",
            "https://www.jobinrwanda.com/job/construction-du-guichet-de-byumba 1\n",
            "https://www.jobinrwanda.com/job/consultant-monitoring-evaluation-0 2\n",
            "https://www.jobinrwanda.com/job/operations-manager-6 3\n",
            "https://www.jobinrwanda.com/job/terms-reference-production-second-generation-country-gender-status-report-rwanda 4\n",
            "https://www.jobinrwanda.com/job/call-application-professional-training-use-ebm-e-procurement-and-tax-declaration-through-rra-0 5\n",
            "https://www.jobinrwanda.com/job/account-manager-credit 6\n",
            "https://www.jobinrwanda.com/index.php/job/conducting-tripartite-assessment-skills-leading-directly-decent-employment 7\n",
            "https://www.jobinrwanda.com/job/legal-manager 8\n",
            "https://www.jobinrwanda.com/job/development-debit-card-bridge-api 9\n",
            "https://www.jobinrwanda.com/job/itangazo-rya-cyamunara-yimodoka 10\n",
            "https://www.jobinrwanda.com/job/expression-interest-eoi-new-constructionbuilding-works-rwanda-institute-conservation 11\n",
            "https://www.jobinrwanda.com/job/expression-interest-eoi-event-management-pharma-conference-kigali-rwanda 12\n",
            "https://www.jobinrwanda.com/job/supply-ict-equipment 13\n",
            "https://www.jobinrwanda.com/job/supply-laptop-computers 14\n",
            "https://www.jobinrwanda.com/job/district-coordinatorjunior-district-manager 15\n",
            "https://www.jobinrwanda.com/job/recruitment-consultancy-firm-provide-certified-aws-restart-program-instructors 16\n",
            "https://www.jobinrwanda.com/job/consultancy-services-service-provider-digitizing-saving-groups-world-vision-rwanda 17\n",
            "https://www.jobinrwanda.com/job/provision-transport-services-bsc-1-year-framework-contract-0 18\n",
            "https://www.jobinrwanda.com/job/supply-batteries-0 19\n",
            "https://www.jobinrwanda.com/job/supply-and-installation-lan-equipment-bsc-plc-under-framework-contract-0 20\n",
            "https://www.jobinrwanda.com/job/radio-sales-executives 21\n",
            "https://www.jobinrwanda.com/job/radio-presenter-0 22\n",
            "https://www.jobinrwanda.com/job/driver-16 23\n",
            "https://www.jobinrwanda.com/job/procurement-and-logistics-officer 24\n",
            "https://www.jobinrwanda.com/job/request-quotation-rfq-provision-general-insurance-services-handicap-international-federation 25\n",
            "https://www.jobinrwanda.com/job/short-term-national-expert-deliver-training-session-security-health-and-environment-tvet 26\n",
            "https://www.jobinrwanda.com/job/un-dispensary-physician-health-manager-head-service-noc-level 27\n",
            "https://www.jobinrwanda.com/job/implementation-electronic-health-records-management-system 28\n",
            "https://www.jobinrwanda.com/job/product-manager-1 29\n",
            "https://www.jobinrwanda.com/job/aftercare-vehicle-maintenance-manager 30\n",
            "https://www.jobinrwanda.com/job/finance-officer-9 31\n",
            "https://www.jobinrwanda.com/job/communications-officer-8 32\n",
            "https://www.jobinrwanda.com/job/request-quotation-jhpiego-staff-medical-insurance 33\n",
            "https://www.jobinrwanda.com/job/consultant-services-conduct-impact-assessment-project-expanding-safe-spaces-rwandan-girls-and 34\n",
            "https://www.jobinrwanda.com/job/supply-and-installation-ophthalmology-equipment 35\n",
            "https://www.jobinrwanda.com/job/labor-mobility-and-human-development-intern 36\n",
            "https://www.jobinrwanda.com/job/lecturer-communication-and-writing 37\n",
            "https://www.jobinrwanda.com/job/research-associate-ra-0 38\n",
            "https://www.jobinrwanda.com/job/office-assistant-0 39\n",
            "https://www.jobinrwanda.com/job/tor-recruitment-biostatistician-consultant 40\n",
            "https://www.jobinrwanda.com/job/communications-internship-0 41\n",
            "https://www.jobinrwanda.com/job/description-tender-ref-number-submission-fees-supply-and-installation-smoke-detectors-copedu 42\n",
            "https://www.jobinrwanda.com/job/tender-supply-office-stationeries 43\n",
            "https://www.jobinrwanda.com/job/tender-supply-office-consumables 44\n",
            "https://www.jobinrwanda.com/job/head-field-officehuye 45\n",
            "https://www.jobinrwanda.com/job/change-name-send-cow-ripple-effect 46\n",
            "https://www.jobinrwanda.com/job/human-resources-assistant-0 47\n",
            "https://www.jobinrwanda.com/job/rwanda-impact-specialist 48\n",
            "https://www.jobinrwanda.com/job/operations-support-manager-africa 49\n",
            "https://www.jobinrwanda.com/job/accounting-supervisor 50\n",
            "https://www.jobinrwanda.com/job/accounting-manager-1 51\n",
            "https://www.jobinrwanda.com/job/global-client-data-analytics-consultant 52\n",
            "https://www.jobinrwanda.com/job/business-development-officer 53\n",
            "https://www.jobinrwanda.com/job/regional-grants-officer-central-africa 54\n",
            "https://www.jobinrwanda.com/job/purchase-and-supply-home-based-ecd-equipment-and-materials-bwira-area-program-bwira-sector 55\n",
            "https://www.jobinrwanda.com/job/purchase-supply-and-distribute-3000-chicken-sasso-18kg-2kg-aged-4-months-fh-participants-mwendo 56\n",
            "https://www.jobinrwanda.com/job/creation-progressive-terraces-bwira-area-program-communities-bwira-sector-ngororero-district 57\n",
            "https://www.jobinrwanda.com/job/construction-two-playgrounds-one-gs-mukama-and-one-ps-nyarurema-community-gatunda-area-program 58\n",
            "https://www.jobinrwanda.com/job/construction-modern-ecd-3-rooms-kitchen-and-office-nyarurema-community-gatunda-area-program 59\n",
            "https://www.jobinrwanda.com/job/construction-bloc-four-classrooms-and-1-bloc-6-door-latrines-kavumu-community-kavumu-primary 60\n",
            "https://www.jobinrwanda.com/job/construction-1-combined-playground-basketball-and-volleyball-gs-butare-butare-community 61\n",
            "https://www.jobinrwanda.com/job/construction-2-ecd-classrooms-kabuye-primary-school-kabacuzi-area-program-kabacuzi-sector 62\n",
            "https://www.jobinrwanda.com/job/construction-minimarket-gafunzo-community-mwendo-area-program-mwendo-sector-ruhango-district 63\n",
            "https://www.jobinrwanda.com/job/construction-maternity-ward-gishweru-health-center-mwendo-area-program-mwendo-sector-ruhango 64\n",
            "https://www.jobinrwanda.com/job/construction-maternity-ward-nyagihamba-health-center-nyarubaka-area-program-nyarubaka-sector 65\n",
            "https://www.jobinrwanda.com/job/rehabilitation-extension-water-pipeline-kigusa-and-nyagishubi-communities-nyarubaka-area 66\n",
            "https://www.jobinrwanda.com/job/request-quotation-rfq-hiring-vehicles-handicap-international-federation-rwanda 67\n",
            "https://www.jobinrwanda.com/job/quotation-request-supermicro-superserver-4029gp-trt3-rwanda 68\n",
            "https://www.jobinrwanda.com/job/expression-interest-eoi-consultancy-services-providing-management-skills-advisory-least-15-0 69\n",
            "https://www.jobinrwanda.com/job/establishment-framework-contract-supply-and-delivery-conical-long-lasting-insecticidal-treated 70\n",
            "https://www.jobinrwanda.com/job/supply-and-installation-medical-equipments-and-instruments-chus 71\n",
            "https://www.jobinrwanda.com/job/request-consultancy-service-organize-ayute-rwanda-challenge 72\n",
            "https://www.jobinrwanda.com/job/terms-reference-tor-recruitment-national-short-term-consultant-deliver-trainings-compost-making 73\n",
            "https://www.jobinrwanda.com/job/global-head-corporate-communications 74\n",
            "https://www.jobinrwanda.com/index.php/job/public-relations-officer 75\n",
            "https://www.jobinrwanda.com/job/request-quotation-consultationmeasurementssupplyfabricationprovision-orthopedic-devices 76\n",
            "https://www.jobinrwanda.com/job/request-quotation-provision-accommodation-and-event-services 77\n",
            "https://www.jobinrwanda.com/job/request-quotation-supply-office-stationaries-0 78\n",
            "https://www.jobinrwanda.com/job/consultancy-conduct-needs-assessment-study-capacity-rwanda-organic-agriculture-movementroam 79\n",
            "https://www.jobinrwanda.com/job/grants-manager-2 80\n",
            "https://www.jobinrwanda.com/job/health-committee-consultant 81\n",
            "https://www.jobinrwanda.com/job/hvac-lead-technician 82\n",
            "https://www.jobinrwanda.com/job/maintenance-mechanic-appliance-repair-0 83\n",
            "https://www.jobinrwanda.com/job/call-expression-interest-eoi-source-consultant-s-or-firm-develop-training-manualaid-post 84\n",
            "https://www.jobinrwanda.com/job/call-expression-interest-eoi-source-consultant-s-or-firm-develop-training-manualaid-leadership 85\n",
            "https://www.jobinrwanda.com/job/call-expression-interest-eoi-source-consultant-s-or-firm-develop-training-manualaid-good 86\n",
            "https://www.jobinrwanda.com/job/call-expression-interest-eoi-source-consultant-s-or-firm-develop-training-manualaid-financial 87\n",
            "https://www.jobinrwanda.com/job/purchase-and-supply-supplementary-books-community-libraries-nyagihanga-area-program-nyagihanga 88\n",
            "https://www.jobinrwanda.com/job/purchase-supply-and-distribute-agricultural-tools-and-inputs 89\n",
            "https://www.jobinrwanda.com/job/supply-and-distribute-6193-sasso-layer-chicken-having-least-4-5-month-18kg-2kgs-each 90\n",
            "https://www.jobinrwanda.com/job/purchase-and-supply-333-female-goats-local-race-ready-produce-least-25kg-28kgs-each-fh-rwanda 91\n",
            "https://www.jobinrwanda.com/job/purchase-and-supply-children-christmas-celebration-items 92\n",
            "https://www.jobinrwanda.com/job/providing-christmas-gifts-groceries-nyarubaka-mwendo-and-kabacuzi-fh-staff 93\n",
            "https://www.jobinrwanda.com/job/providing-christmas-gifts-groceries-gatunda-fh-staff 94\n",
            "https://www.jobinrwanda.com/job/providing-christmas-gifts-groceries-nyagihanga-fh-staff-located-nyagihanga-sector-gatsibo 95\n",
            "https://www.jobinrwanda.com/job/providing-christmas-gifts-groceries-kigali-fh-staff 96\n",
            "https://www.jobinrwanda.com/job/camp-administrator 97\n",
            "https://www.jobinrwanda.com/job/expression-interest-eoi-one-1-unit-sedan 98\n",
            "https://www.jobinrwanda.com/job/hiring-national-individual-consultant-conducting-study-status-and-challenges-faced-existing 99\n",
            "https://www.jobinrwanda.com/job/rwanda-program-officer 100\n",
            "https://www.jobinrwanda.com/job/sales-representative-0 101\n",
            "https://www.jobinrwanda.com/job/sales-manager-5 102\n",
            "https://www.jobinrwanda.com/job/aquaculture-technician 103\n",
            "https://www.jobinrwanda.com/job/health-systems-strengthening-hss-manager 104\n",
            "https://www.jobinrwanda.com/index.php/job/development-manager 105\n",
            "https://www.jobinrwanda.com/job/training-expert-provide-training-video-production-and-graphic-design 106\n",
            "https://www.jobinrwanda.com/job/terms-reference-conducting-market-landscape-and-business-case-modeling-focused-agriculture 107\n",
            "https://www.jobinrwanda.com/job/retail-partnerships-lead 108\n",
            "https://www.jobinrwanda.com/job/project-officer-7 109\n",
            "https://www.jobinrwanda.com/job/administration-finance-intern 110\n",
            "https://www.jobinrwanda.com/job/kugemura-ibitambaro-byifashishwa-mu-kudoda-imyenda-fabrics-nibikoresho-byifashishwa-mu-kudoda 111\n",
            "https://www.jobinrwanda.com/job/loan-officers-3 112\n",
            "https://www.jobinrwanda.com/job/terms-reference-documentary-film-production-family-strengthening-and-community-based-support 113\n",
            "https://www.jobinrwanda.com/job/terms-reference-programme-brief-writing-family-strengthening-and-community-based-support-care 114\n",
            "https://www.jobinrwanda.com/job/terms-reference-midline-report-writing-family-strengthening-and-community-based-support-care 115\n",
            "https://www.jobinrwanda.com/job/request-proposals-rfp-consultancy-service-conduct-rapid-market-assessment-small-livestock 116\n",
            "https://www.jobinrwanda.com/job/project-manager-14 117\n",
            "https://www.jobinrwanda.com/job/training-manager-0 118\n",
            "https://www.jobinrwanda.com/job/it-and-mis-director 119\n",
            "https://www.jobinrwanda.com/job/consultancy-opportunity-conduct-formative-research-factors-contributing-impairment-children-and 120\n",
            "https://www.jobinrwanda.com/job/learning-design-specialist-rwanda 121\n",
            "https://www.jobinrwanda.com/job/technical-advisor-2 122\n",
            "https://www.jobinrwanda.com/job/front-desk-officer-0 123\n",
            "https://www.jobinrwanda.com/job/global-remote-sensing-manager 124\n",
            "https://www.jobinrwanda.com/job/laborer 125\n",
            "https://www.jobinrwanda.com/job/sale-vehicle-way-public-auction 126\n",
            "https://www.jobinrwanda.com/job/migration-health-physician 127\n",
            "https://www.jobinrwanda.com/index.php/job/migration-health-nurse 128\n",
            "https://www.jobinrwanda.com/job/short-term-consultancy-develop-tailored-loan-products-health-sector-rwanda 129\n",
            "https://www.jobinrwanda.com/job/global-hr-support-specialist 130\n",
            "https://www.jobinrwanda.com/job/rwanda-procurement-specialist-0 131\n",
            "https://www.jobinrwanda.com/job/security-officer 132\n",
            "https://www.jobinrwanda.com/job/security-supervisor 133\n",
            "https://www.jobinrwanda.com/job/instructional-technology-assistant 134\n",
            "https://www.jobinrwanda.com/job/associate-professor-and-head-human-anatomy 135\n",
            "https://www.jobinrwanda.com/job/rwanda-potato-seed-store-manager 136\n",
            "https://www.jobinrwanda.com/job/gutanga-isoko-ryo-kugura-no-gutanga-inkweto-nimyenda-yo-kurimbana 137\n",
            "https://www.jobinrwanda.com/job/agronomist-technician-g-2c 138\n",
            "https://www.jobinrwanda.com/job/dental-doctors-dental-surgeon 139\n",
            "https://www.jobinrwanda.com/job/head-rehabilitation-department 140\n",
            "https://www.jobinrwanda.com/job/garage-vehicles-maintenance-services 141\n",
            "https://www.jobinrwanda.com/job/supply-plaisir-packaging-materials 142\n",
            "https://www.jobinrwanda.com/job/assistant-press-department-administration-and-consular-section 143\n",
            "https://www.jobinrwanda.com/job/provision-fuel-petrol-and-diesel-voluntary-service-overseas-motor-vehicles 144\n",
            "https://www.jobinrwanda.com/job/development-mobile-banking-application-improvement-existing-web-portal-and-provision-clearing 145\n",
            "https://www.jobinrwanda.com/job/rwanda-warehouse-manager 146\n",
            "https://www.jobinrwanda.com/index.php/job/request-expression-interesteoi-prequalification-security-services-2023 147\n",
            "https://www.jobinrwanda.com/job/request-expression-interesteoi-prequalification-car-hirining-services-2023 148\n",
            "https://www.jobinrwanda.com/job/csat-officer-rwanda 149\n",
            "https://www.jobinrwanda.com/job/spm-officer 150\n",
            "https://www.jobinrwanda.com/index.php/job/rwanda-communications-associate 151\n",
            "https://www.jobinrwanda.com/index.php/job/construction-sos-childrens-villages-rwanda-elementary-primary-nursery-school-gisozigasabo 152\n",
            "https://www.jobinrwanda.com/job/framework-contract-hiring-company-provide-customs-clearance-freight-forwarding-flight-booking 153\n",
            "https://www.jobinrwanda.com/job/strategic-advisor-targeted-skills-development 154\n",
            "https://www.jobinrwanda.com/job/strategic-advisor-e-commerce 155\n",
            "https://www.jobinrwanda.com/job/supply-and-installation-medical-equipment 156\n",
            "https://www.jobinrwanda.com/job/50-sales-representatives-needed-all-city-rwanda-ltd-1 157\n",
            "https://www.jobinrwanda.com/job/supply-and-delivery-laboratory-commodities-ncds-products-rms 158\n",
            "https://www.jobinrwanda.com/job/supply-laboratory-reagents-equipments-and-consumables-b-rms 159\n",
            "https://www.jobinrwanda.com/job/store-keeper-1 160\n",
            "https://www.jobinrwanda.com/index.php/job/rwanda-market-access-and-srf-mel-associate 161\n",
            "https://www.jobinrwanda.com/job/rwanda-field-integration-coordinator 162\n",
            "https://www.jobinrwanda.com/job/rwanda-electrical-hub-operator 163\n",
            "https://www.jobinrwanda.com/index.php/job/consultant-conduct-baseline-survey-evaluating-impacts-covid-19-social-economic-status 164\n",
            "https://www.jobinrwanda.com/job/rwanda-tree-lead 165\n",
            "https://www.jobinrwanda.com/index.php/job/rwanda-potato-seed-venture-lead 166\n",
            "https://www.jobinrwanda.com/job/it-operations-senior-manager 167\n",
            "https://www.jobinrwanda.com/job/rwanda-seed-innovation-centre-lead 168\n",
            "https://www.jobinrwanda.com/job/senior-business-analyst 169\n"
          ]
        }
      ]
    },
    {
      "cell_type": "code",
      "source": [
        "df['description'] = None"
      ],
      "metadata": {
        "id": "tUp1If87yjeS"
      },
      "execution_count": null,
      "outputs": []
    },
    {
      "cell_type": "code",
      "source": [
        "def get_description(job_link):\n",
        "  job_description_raw_content = requests.get(f'https://www.jobinrwanda.com/{job_link}').content #request raw content\n",
        "  job_description_bs = BeautifulSoup(job_description_raw_content, 'html.parser')  #pass the html raw content to beautifull soup\n",
        "  job_description_bs.find_all('div', class_='employer-description') #Employer Description\n",
        "  #Get the entire job description\n",
        "  describe = job_description_bs.find_all('div', class_=\"clearfix text-formatted field field--name-field-job-full-description field--type-text-long field--label-hidden field__item\") #Employer Description\n",
        "  description = '' #Construct an empty string to hold the paragraph\n",
        "  for paragraph in describe:\n",
        "    description += paragraph.getText() #Adding each paragraph we find in the job description.\n",
        "  return description"
      ],
      "metadata": {
        "id": "H86OamGhypxN"
      },
      "execution_count": null,
      "outputs": []
    },
    {
      "cell_type": "code",
      "source": [
        "for position, link in enumerate(df['link']):\n",
        "  df.loc[position]['description'] = get_description(job_link=link)"
      ],
      "metadata": {
        "id": "j4vNDEpMyspc"
      },
      "execution_count": null,
      "outputs": []
    },
    {
      "cell_type": "code",
      "source": [
        "df['company_link'][0].getText()\n",
        "df['company_link'] = df[['company_link']].applymap(lambda x: x.getText())"
      ],
      "metadata": {
        "id": "6kauqlYOyvwA"
      },
      "execution_count": null,
      "outputs": []
    },
    {
      "cell_type": "code",
      "source": [
        "df['description'] = df[['description']].applymap(lambda x: re.compile('\\n|\\\\xa0').sub(\"\", x))"
      ],
      "metadata": {
        "id": "uKGba3pszqIu"
      },
      "execution_count": null,
      "outputs": []
    },
    {
      "cell_type": "code",
      "source": [
        "df.head()"
      ],
      "metadata": {
        "colab": {
          "base_uri": "https://localhost:8080/",
          "height": 337
        },
        "id": "QImGQtveztoT",
        "outputId": "7d218ab2-5000-4e29-ba10-bf0d6d7e9ea5"
      },
      "execution_count": null,
      "outputs": [
        {
          "output_type": "execute_result",
          "data": {
            "text/plain": [
              "                                                link  \\\n",
              "0        /job/hiring-firm-brd-maintenance-assessment   \n",
              "1             /job/construction-du-guichet-de-byumba   \n",
              "2            /job/consultant-monitoring-evaluation-0   \n",
              "3                          /job/operations-manager-6   \n",
              "4  /job/terms-reference-production-second-generat...   \n",
              "\n",
              "                                               title  \\\n",
              "0       Hiring a Firm for BRD Maintenance Assessment   \n",
              "1                  Construction du Guichet de Byumba   \n",
              "2                Consultant- Monitoring & Evaluation   \n",
              "3                                 Operations Manager   \n",
              "4  Terms of Reference for Production Of the Secon...   \n",
              "\n",
              "                                      company_link  \\\n",
              "0                 Development Bank of Rwanda (BRD)   \n",
              "1  Reseau Interdiocesain de Microfinance( RIM Ltd)   \n",
              "2                 Development Bank of Rwanda (BRD)   \n",
              "3                                      GardaWorld    \n",
              "4                                  UN Women Rwanda   \n",
              "\n",
              "                                           company         type  \\\n",
              "0                 Development Bank of Rwanda (BRD)  Consultancy   \n",
              "1  Reseau Interdiocesain de Microfinance( RIM Ltd)       Tender   \n",
              "2                 Development Bank of Rwanda (BRD)  Consultancy   \n",
              "3                                      GardaWorld           Job   \n",
              "4                                  UN Women Rwanda  Consultancy   \n",
              "\n",
              "                                         description  \n",
              "0  RE-ADVERTISEMENT OFTENDER : Nº: 022/10/2022/BR...  \n",
              "1  AVIS D’APPEL D’OFFREREFERENCE : No06/RIM LTD/2...  \n",
              "2  RE-ADVERTISEMENT OFTENDER : RFP No.017/08/2022...  \n",
              "3  Job Description– Operations ManagerPosition/Em...  \n",
              "4  TERMS OF REFERENCE FOR PRODUCTION OF THE SECON...  "
            ],
            "text/html": [
              "\n",
              "  <div id=\"df-bb3c6ce9-d22d-4a11-a7d0-adb0c76e9407\">\n",
              "    <div class=\"colab-df-container\">\n",
              "      <div>\n",
              "<style scoped>\n",
              "    .dataframe tbody tr th:only-of-type {\n",
              "        vertical-align: middle;\n",
              "    }\n",
              "\n",
              "    .dataframe tbody tr th {\n",
              "        vertical-align: top;\n",
              "    }\n",
              "\n",
              "    .dataframe thead th {\n",
              "        text-align: right;\n",
              "    }\n",
              "</style>\n",
              "<table border=\"1\" class=\"dataframe\">\n",
              "  <thead>\n",
              "    <tr style=\"text-align: right;\">\n",
              "      <th></th>\n",
              "      <th>link</th>\n",
              "      <th>title</th>\n",
              "      <th>company_link</th>\n",
              "      <th>company</th>\n",
              "      <th>type</th>\n",
              "      <th>description</th>\n",
              "    </tr>\n",
              "  </thead>\n",
              "  <tbody>\n",
              "    <tr>\n",
              "      <th>0</th>\n",
              "      <td>/job/hiring-firm-brd-maintenance-assessment</td>\n",
              "      <td>Hiring a Firm for BRD Maintenance Assessment</td>\n",
              "      <td>Development Bank of Rwanda (BRD)</td>\n",
              "      <td>Development Bank of Rwanda (BRD)</td>\n",
              "      <td>Consultancy</td>\n",
              "      <td>RE-ADVERTISEMENT OFTENDER : Nº: 022/10/2022/BR...</td>\n",
              "    </tr>\n",
              "    <tr>\n",
              "      <th>1</th>\n",
              "      <td>/job/construction-du-guichet-de-byumba</td>\n",
              "      <td>Construction du Guichet de Byumba</td>\n",
              "      <td>Reseau Interdiocesain de Microfinance( RIM Ltd)</td>\n",
              "      <td>Reseau Interdiocesain de Microfinance( RIM Ltd)</td>\n",
              "      <td>Tender</td>\n",
              "      <td>AVIS D’APPEL D’OFFREREFERENCE : No06/RIM LTD/2...</td>\n",
              "    </tr>\n",
              "    <tr>\n",
              "      <th>2</th>\n",
              "      <td>/job/consultant-monitoring-evaluation-0</td>\n",
              "      <td>Consultant- Monitoring &amp; Evaluation</td>\n",
              "      <td>Development Bank of Rwanda (BRD)</td>\n",
              "      <td>Development Bank of Rwanda (BRD)</td>\n",
              "      <td>Consultancy</td>\n",
              "      <td>RE-ADVERTISEMENT OFTENDER : RFP No.017/08/2022...</td>\n",
              "    </tr>\n",
              "    <tr>\n",
              "      <th>3</th>\n",
              "      <td>/job/operations-manager-6</td>\n",
              "      <td>Operations Manager</td>\n",
              "      <td>GardaWorld</td>\n",
              "      <td>GardaWorld</td>\n",
              "      <td>Job</td>\n",
              "      <td>Job Description– Operations ManagerPosition/Em...</td>\n",
              "    </tr>\n",
              "    <tr>\n",
              "      <th>4</th>\n",
              "      <td>/job/terms-reference-production-second-generat...</td>\n",
              "      <td>Terms of Reference for Production Of the Secon...</td>\n",
              "      <td>UN Women Rwanda</td>\n",
              "      <td>UN Women Rwanda</td>\n",
              "      <td>Consultancy</td>\n",
              "      <td>TERMS OF REFERENCE FOR PRODUCTION OF THE SECON...</td>\n",
              "    </tr>\n",
              "  </tbody>\n",
              "</table>\n",
              "</div>\n",
              "      <button class=\"colab-df-convert\" onclick=\"convertToInteractive('df-bb3c6ce9-d22d-4a11-a7d0-adb0c76e9407')\"\n",
              "              title=\"Convert this dataframe to an interactive table.\"\n",
              "              style=\"display:none;\">\n",
              "        \n",
              "  <svg xmlns=\"http://www.w3.org/2000/svg\" height=\"24px\"viewBox=\"0 0 24 24\"\n",
              "       width=\"24px\">\n",
              "    <path d=\"M0 0h24v24H0V0z\" fill=\"none\"/>\n",
              "    <path d=\"M18.56 5.44l.94 2.06.94-2.06 2.06-.94-2.06-.94-.94-2.06-.94 2.06-2.06.94zm-11 1L8.5 8.5l.94-2.06 2.06-.94-2.06-.94L8.5 2.5l-.94 2.06-2.06.94zm10 10l.94 2.06.94-2.06 2.06-.94-2.06-.94-.94-2.06-.94 2.06-2.06.94z\"/><path d=\"M17.41 7.96l-1.37-1.37c-.4-.4-.92-.59-1.43-.59-.52 0-1.04.2-1.43.59L10.3 9.45l-7.72 7.72c-.78.78-.78 2.05 0 2.83L4 21.41c.39.39.9.59 1.41.59.51 0 1.02-.2 1.41-.59l7.78-7.78 2.81-2.81c.8-.78.8-2.07 0-2.86zM5.41 20L4 18.59l7.72-7.72 1.47 1.35L5.41 20z\"/>\n",
              "  </svg>\n",
              "      </button>\n",
              "      \n",
              "  <style>\n",
              "    .colab-df-container {\n",
              "      display:flex;\n",
              "      flex-wrap:wrap;\n",
              "      gap: 12px;\n",
              "    }\n",
              "\n",
              "    .colab-df-convert {\n",
              "      background-color: #E8F0FE;\n",
              "      border: none;\n",
              "      border-radius: 50%;\n",
              "      cursor: pointer;\n",
              "      display: none;\n",
              "      fill: #1967D2;\n",
              "      height: 32px;\n",
              "      padding: 0 0 0 0;\n",
              "      width: 32px;\n",
              "    }\n",
              "\n",
              "    .colab-df-convert:hover {\n",
              "      background-color: #E2EBFA;\n",
              "      box-shadow: 0px 1px 2px rgba(60, 64, 67, 0.3), 0px 1px 3px 1px rgba(60, 64, 67, 0.15);\n",
              "      fill: #174EA6;\n",
              "    }\n",
              "\n",
              "    [theme=dark] .colab-df-convert {\n",
              "      background-color: #3B4455;\n",
              "      fill: #D2E3FC;\n",
              "    }\n",
              "\n",
              "    [theme=dark] .colab-df-convert:hover {\n",
              "      background-color: #434B5C;\n",
              "      box-shadow: 0px 1px 3px 1px rgba(0, 0, 0, 0.15);\n",
              "      filter: drop-shadow(0px 1px 2px rgba(0, 0, 0, 0.3));\n",
              "      fill: #FFFFFF;\n",
              "    }\n",
              "  </style>\n",
              "\n",
              "      <script>\n",
              "        const buttonEl =\n",
              "          document.querySelector('#df-bb3c6ce9-d22d-4a11-a7d0-adb0c76e9407 button.colab-df-convert');\n",
              "        buttonEl.style.display =\n",
              "          google.colab.kernel.accessAllowed ? 'block' : 'none';\n",
              "\n",
              "        async function convertToInteractive(key) {\n",
              "          const element = document.querySelector('#df-bb3c6ce9-d22d-4a11-a7d0-adb0c76e9407');\n",
              "          const dataTable =\n",
              "            await google.colab.kernel.invokeFunction('convertToInteractive',\n",
              "                                                     [key], {});\n",
              "          if (!dataTable) return;\n",
              "\n",
              "          const docLinkHtml = 'Like what you see? Visit the ' +\n",
              "            '<a target=\"_blank\" href=https://colab.research.google.com/notebooks/data_table.ipynb>data table notebook</a>'\n",
              "            + ' to learn more about interactive tables.';\n",
              "          element.innerHTML = '';\n",
              "          dataTable['output_type'] = 'display_data';\n",
              "          await google.colab.output.renderOutput(dataTable, element);\n",
              "          const docLink = document.createElement('div');\n",
              "          docLink.innerHTML = docLinkHtml;\n",
              "          element.appendChild(docLink);\n",
              "        }\n",
              "      </script>\n",
              "    </div>\n",
              "  </div>\n",
              "  "
            ]
          },
          "metadata": {},
          "execution_count": 16
        }
      ]
    },
    {
      "cell_type": "markdown",
      "source": [
        "# 3. Regular expression and key-words to retrieve IT/Software related job/consultancy opportunities(Tenders)."
      ],
      "metadata": {
        "id": "GwcugybYz2Ea"
      }
    },
    {
      "cell_type": "code",
      "source": [
        "keywords = \"\"\"information|technology|IT|cybersecurity|tech|computer science|programming|coding|software|python|computer|information security|technologynews|java|networking|hacking|programmer|linux|coder|cloudcomputing|computer engineering\"\"\""
      ],
      "metadata": {
        "id": "rVwHKKHGz-Ar"
      },
      "execution_count": null,
      "outputs": []
    },
    {
      "cell_type": "code",
      "source": [
        "df['IT Job'] = False\n",
        "df['keywords found'] = None\n",
        "def isIT_Job():\n",
        "  pattern = re.compile(keywords)\n",
        "  for index in range(len(df)):\n",
        "    try:\n",
        "      if len(pattern.findall(df.iloc[index][\"title\"])) >= 1:\n",
        "        df['IT Job'][index] = True\n",
        "        df['keywords found'][index] = set(pattern.findall(df.iloc[index][\"title\"]))\n",
        "        # print(set(pattern.findall(df.iloc[index][\"Job Description\"])), df.iloc[index][\"Job Title\"])\n",
        "    except TypeError:\n",
        "      pass\n",
        "      # print(\"content: \", df.iloc[index][\"Job Description\"])\n",
        "    #\n",
        "isIT_Job()"
      ],
      "metadata": {
        "colab": {
          "base_uri": "https://localhost:8080/"
        },
        "id": "YRzGA_9e0Cvf",
        "outputId": "2768d96c-5eba-4b0b-d932-8c3879a656cc"
      },
      "execution_count": null,
      "outputs": [
        {
          "output_type": "stream",
          "name": "stderr",
          "text": [
            "/usr/local/lib/python3.7/dist-packages/ipykernel_launcher.py:8: SettingWithCopyWarning: \n",
            "A value is trying to be set on a copy of a slice from a DataFrame\n",
            "\n",
            "See the caveats in the documentation: https://pandas.pydata.org/pandas-docs/stable/user_guide/indexing.html#returning-a-view-versus-a-copy\n",
            "  \n",
            "/usr/local/lib/python3.7/dist-packages/ipykernel_launcher.py:9: SettingWithCopyWarning: \n",
            "A value is trying to be set on a copy of a slice from a DataFrame\n",
            "\n",
            "See the caveats in the documentation: https://pandas.pydata.org/pandas-docs/stable/user_guide/indexing.html#returning-a-view-versus-a-copy\n",
            "  if __name__ == '__main__':\n"
          ]
        }
      ]
    },
    {
      "cell_type": "code",
      "source": [
        "df3 = df[df['IT Job'] == True]\n",
        "df3"
      ],
      "metadata": {
        "colab": {
          "base_uri": "https://localhost:8080/",
          "height": 208
        },
        "id": "yrvxnWNf0GAK",
        "outputId": "40b73a2e-e974-45d9-da20-e5c2a1301c2b"
      },
      "execution_count": null,
      "outputs": [
        {
          "output_type": "execute_result",
          "data": {
            "text/plain": [
              "                                  link                         title  \\\n",
              "119           /job/it-and-mis-director           IT and MIS Director   \n",
              "167  /job/it-operations-senior-manager  IT Operations Senior Manager   \n",
              "\n",
              "                     company_link                       company type  \\\n",
              "119  CHANCEN International Rwanda  CHANCEN International Rwanda  Job   \n",
              "167                 One Acre Fund                 One Acre Fund  Job   \n",
              "\n",
              "                                           description  IT Job keywords found  \n",
              "119  CHANCEN International is a non-profit organiza...    True           {IT}  \n",
              "167  About One Acre FundFounded in 2006, One Acre F...    True           {IT}  "
            ],
            "text/html": [
              "\n",
              "  <div id=\"df-c146232c-a25f-4c6f-bad3-dcfdec488bf1\">\n",
              "    <div class=\"colab-df-container\">\n",
              "      <div>\n",
              "<style scoped>\n",
              "    .dataframe tbody tr th:only-of-type {\n",
              "        vertical-align: middle;\n",
              "    }\n",
              "\n",
              "    .dataframe tbody tr th {\n",
              "        vertical-align: top;\n",
              "    }\n",
              "\n",
              "    .dataframe thead th {\n",
              "        text-align: right;\n",
              "    }\n",
              "</style>\n",
              "<table border=\"1\" class=\"dataframe\">\n",
              "  <thead>\n",
              "    <tr style=\"text-align: right;\">\n",
              "      <th></th>\n",
              "      <th>link</th>\n",
              "      <th>title</th>\n",
              "      <th>company_link</th>\n",
              "      <th>company</th>\n",
              "      <th>type</th>\n",
              "      <th>description</th>\n",
              "      <th>IT Job</th>\n",
              "      <th>keywords found</th>\n",
              "    </tr>\n",
              "  </thead>\n",
              "  <tbody>\n",
              "    <tr>\n",
              "      <th>119</th>\n",
              "      <td>/job/it-and-mis-director</td>\n",
              "      <td>IT and MIS Director</td>\n",
              "      <td>CHANCEN International Rwanda</td>\n",
              "      <td>CHANCEN International Rwanda</td>\n",
              "      <td>Job</td>\n",
              "      <td>CHANCEN International is a non-profit organiza...</td>\n",
              "      <td>True</td>\n",
              "      <td>{IT}</td>\n",
              "    </tr>\n",
              "    <tr>\n",
              "      <th>167</th>\n",
              "      <td>/job/it-operations-senior-manager</td>\n",
              "      <td>IT Operations Senior Manager</td>\n",
              "      <td>One Acre Fund</td>\n",
              "      <td>One Acre Fund</td>\n",
              "      <td>Job</td>\n",
              "      <td>About One Acre FundFounded in 2006, One Acre F...</td>\n",
              "      <td>True</td>\n",
              "      <td>{IT}</td>\n",
              "    </tr>\n",
              "  </tbody>\n",
              "</table>\n",
              "</div>\n",
              "      <button class=\"colab-df-convert\" onclick=\"convertToInteractive('df-c146232c-a25f-4c6f-bad3-dcfdec488bf1')\"\n",
              "              title=\"Convert this dataframe to an interactive table.\"\n",
              "              style=\"display:none;\">\n",
              "        \n",
              "  <svg xmlns=\"http://www.w3.org/2000/svg\" height=\"24px\"viewBox=\"0 0 24 24\"\n",
              "       width=\"24px\">\n",
              "    <path d=\"M0 0h24v24H0V0z\" fill=\"none\"/>\n",
              "    <path d=\"M18.56 5.44l.94 2.06.94-2.06 2.06-.94-2.06-.94-.94-2.06-.94 2.06-2.06.94zm-11 1L8.5 8.5l.94-2.06 2.06-.94-2.06-.94L8.5 2.5l-.94 2.06-2.06.94zm10 10l.94 2.06.94-2.06 2.06-.94-2.06-.94-.94-2.06-.94 2.06-2.06.94z\"/><path d=\"M17.41 7.96l-1.37-1.37c-.4-.4-.92-.59-1.43-.59-.52 0-1.04.2-1.43.59L10.3 9.45l-7.72 7.72c-.78.78-.78 2.05 0 2.83L4 21.41c.39.39.9.59 1.41.59.51 0 1.02-.2 1.41-.59l7.78-7.78 2.81-2.81c.8-.78.8-2.07 0-2.86zM5.41 20L4 18.59l7.72-7.72 1.47 1.35L5.41 20z\"/>\n",
              "  </svg>\n",
              "      </button>\n",
              "      \n",
              "  <style>\n",
              "    .colab-df-container {\n",
              "      display:flex;\n",
              "      flex-wrap:wrap;\n",
              "      gap: 12px;\n",
              "    }\n",
              "\n",
              "    .colab-df-convert {\n",
              "      background-color: #E8F0FE;\n",
              "      border: none;\n",
              "      border-radius: 50%;\n",
              "      cursor: pointer;\n",
              "      display: none;\n",
              "      fill: #1967D2;\n",
              "      height: 32px;\n",
              "      padding: 0 0 0 0;\n",
              "      width: 32px;\n",
              "    }\n",
              "\n",
              "    .colab-df-convert:hover {\n",
              "      background-color: #E2EBFA;\n",
              "      box-shadow: 0px 1px 2px rgba(60, 64, 67, 0.3), 0px 1px 3px 1px rgba(60, 64, 67, 0.15);\n",
              "      fill: #174EA6;\n",
              "    }\n",
              "\n",
              "    [theme=dark] .colab-df-convert {\n",
              "      background-color: #3B4455;\n",
              "      fill: #D2E3FC;\n",
              "    }\n",
              "\n",
              "    [theme=dark] .colab-df-convert:hover {\n",
              "      background-color: #434B5C;\n",
              "      box-shadow: 0px 1px 3px 1px rgba(0, 0, 0, 0.15);\n",
              "      filter: drop-shadow(0px 1px 2px rgba(0, 0, 0, 0.3));\n",
              "      fill: #FFFFFF;\n",
              "    }\n",
              "  </style>\n",
              "\n",
              "      <script>\n",
              "        const buttonEl =\n",
              "          document.querySelector('#df-c146232c-a25f-4c6f-bad3-dcfdec488bf1 button.colab-df-convert');\n",
              "        buttonEl.style.display =\n",
              "          google.colab.kernel.accessAllowed ? 'block' : 'none';\n",
              "\n",
              "        async function convertToInteractive(key) {\n",
              "          const element = document.querySelector('#df-c146232c-a25f-4c6f-bad3-dcfdec488bf1');\n",
              "          const dataTable =\n",
              "            await google.colab.kernel.invokeFunction('convertToInteractive',\n",
              "                                                     [key], {});\n",
              "          if (!dataTable) return;\n",
              "\n",
              "          const docLinkHtml = 'Like what you see? Visit the ' +\n",
              "            '<a target=\"_blank\" href=https://colab.research.google.com/notebooks/data_table.ipynb>data table notebook</a>'\n",
              "            + ' to learn more about interactive tables.';\n",
              "          element.innerHTML = '';\n",
              "          dataTable['output_type'] = 'display_data';\n",
              "          await google.colab.output.renderOutput(dataTable, element);\n",
              "          const docLink = document.createElement('div');\n",
              "          docLink.innerHTML = docLinkHtml;\n",
              "          element.appendChild(docLink);\n",
              "        }\n",
              "      </script>\n",
              "    </div>\n",
              "  </div>\n",
              "  "
            ]
          },
          "metadata": {},
          "execution_count": 19
        }
      ]
    },
    {
      "cell_type": "code",
      "source": [
        "type(df3[['description']])"
      ],
      "metadata": {
        "colab": {
          "base_uri": "https://localhost:8080/"
        },
        "id": "RDjxFwS68ftu",
        "outputId": "369679b5-0e01-456f-c5fe-27c837ba9fa3"
      },
      "execution_count": null,
      "outputs": [
        {
          "output_type": "execute_result",
          "data": {
            "text/plain": [
              "pandas.core.frame.DataFrame"
            ]
          },
          "metadata": {},
          "execution_count": 20
        }
      ]
    },
    {
      "cell_type": "code",
      "source": [
        "df_final=df3.to_dict(\"r\")"
      ],
      "metadata": {
        "colab": {
          "base_uri": "https://localhost:8080/"
        },
        "id": "k5z2sS630LRl",
        "outputId": "268d4d12-c8a5-4b48-e3df-bfdb3877e6a9"
      },
      "execution_count": null,
      "outputs": [
        {
          "output_type": "stream",
          "name": "stderr",
          "text": [
            "/usr/local/lib/python3.7/dist-packages/ipykernel_launcher.py:1: FutureWarning: Using short name for 'orient' is deprecated. Only the options: ('dict', list, 'series', 'split', 'records', 'index') will be used in a future version. Use one of the above to silence this warning.\n",
            "  \"\"\"Entry point for launching an IPython kernel.\n"
          ]
        }
      ]
    },
    {
      "cell_type": "markdown",
      "source": [
        "# Umucyo.gov.rw Scrapping"
      ],
      "metadata": {
        "id": "Ngmf0oVO0Y4j"
      }
    },
    {
      "cell_type": "code",
      "source": [
        "url = \"https://www.umucyo.gov.rw/eb/bav/selectListAdvertisingListForGU.do\"\n",
        "sauce = BeautifulSoup(requests.get(url).content, 'html.parser')"
      ],
      "metadata": {
        "id": "eEBEP-ZA0a8f"
      },
      "execution_count": null,
      "outputs": []
    },
    {
      "cell_type": "code",
      "source": [
        "table = sauce.find('table', class_ = \"article_table mb10\")"
      ],
      "metadata": {
        "id": "AhyQMn1R0gxZ"
      },
      "execution_count": null,
      "outputs": []
    },
    {
      "cell_type": "code",
      "source": [
        "titles = table.thead.text\n",
        "heads = [re.compile('[\\r|\\n|\\t]+').sub('#', head.text.strip()) for head in table.find_all('thead')]\n",
        "heads = heads[0].split('#')\n",
        "heads"
      ],
      "metadata": {
        "colab": {
          "base_uri": "https://localhost:8080/"
        },
        "id": "Ql5hZ3tU0lba",
        "outputId": "4d477dbb-01c3-493a-8b40-cf84d06fd7c8"
      },
      "execution_count": null,
      "outputs": [
        {
          "output_type": "execute_result",
          "data": {
            "text/plain": [
              "['Tender Name',\n",
              " 'Tender No',\n",
              " 'Status',\n",
              " 'Advertising Date',\n",
              " 'Deadline of Submitting',\n",
              " 'Planed Open Date',\n",
              " 'Stage Type']"
            ]
          },
          "metadata": {},
          "execution_count": 24
        }
      ]
    },
    {
      "cell_type": "code",
      "source": [
        "rows = table.find_all('tr')"
      ],
      "metadata": {
        "id": "5ykZVfmP0otr"
      },
      "execution_count": null,
      "outputs": []
    },
    {
      "cell_type": "code",
      "source": [
        "full = []\n",
        "for row in rows:\n",
        "  temp = []\n",
        "  for detail in row.find_all('td'):\n",
        "    temp.append(detail.text.strip())\n",
        "  full.append(temp[1:])\n",
        "  "
      ],
      "metadata": {
        "id": "HIeL27Yy0t5w"
      },
      "execution_count": null,
      "outputs": []
    },
    {
      "cell_type": "code",
      "source": [
        "df_umucyo = pd.DataFrame(full, columns = heads)"
      ],
      "metadata": {
        "id": "mxPquDhM0xMq"
      },
      "execution_count": null,
      "outputs": []
    },
    {
      "cell_type": "code",
      "source": [
        "df_umucyo"
      ],
      "metadata": {
        "colab": {
          "base_uri": "https://localhost:8080/",
          "height": 612
        },
        "id": "CqdikwbG04CI",
        "outputId": "48a97b3d-0fd2-4140-c919-cd39334f61ef"
      },
      "execution_count": null,
      "outputs": [
        {
          "output_type": "execute_result",
          "data": {
            "text/plain": [
              "                                          Tender Name  \\\n",
              "0                                                None   \n",
              "1   Hiring consultant Urban Mobility (Public trans...   \n",
              "2   Hiring consultant Transport economist to suppo...   \n",
              "3               science kits and laboratory equipment   \n",
              "4   Hiring an international Expert in Data Process...   \n",
              "5           TENDER FOR OFFICE SUPPLIES AND STATIONARY   \n",
              "6        supply of labo kits reagents and consumables   \n",
              "7   Provision of services of raising awareness on ...   \n",
              "8   Rehabilitation of administration bloc, constru...   \n",
              "9   Hiring a consultant firm for Study review and ...   \n",
              "10  Supply of calibration certified reference mate...   \n",
              "\n",
              "                          Tender No     Status Advertising Date  \\\n",
              "0                              None       None             None   \n",
              "1        000008/C/ICB/2022/2023/CoK  Published       10/11/2022   \n",
              "2        000009/C/ICB/2022/2023/CoK  Published       10/11/2022   \n",
              "3        000001/G/ICB/2022/2023/REB  Published       03/11/2022   \n",
              "4       000008/C/ICB/2022/2023/NISR  Published       02/11/2022   \n",
              "5   000001/G/NCB/2022/2023/Kiziguro  Published       04/11/2022   \n",
              "6        000034/G/NCB/2022/2023/RAB  Published       10/11/2022   \n",
              "7       000010/NC/NCB/2022/2023/RSB  Published       11/11/2022   \n",
              "8       000001/W/NCB/2022/2023/NIDA  Published       09/11/2022   \n",
              "9        000014/C/NCB/2022/2023/CoK  Published       11/11/2022   \n",
              "10       000009/G/NCB/2022/2023/RSB  Published       11/11/2022   \n",
              "\n",
              "   Deadline of Submitting  Planed Open Date Stage Type  \n",
              "0                    None              None       None  \n",
              "1        27/12/2022 10:00  27/12/2022 10:30  one stage  \n",
              "2        27/12/2022 10:00  27/12/2022 10:30  one stage  \n",
              "3        20/12/2022 10:00  20/12/2022 10:30  one stage  \n",
              "4        19/12/2022 10:00  19/12/2022 10:15  one stage  \n",
              "5        16/12/2022 10:00  16/12/2022 10:30  one stage  \n",
              "6        15/12/2022 11:00  15/12/2022 11:30  one stage  \n",
              "7        15/12/2022 10:00  15/12/2022 10:10  one stage  \n",
              "8        15/12/2022 10:00  15/12/2022 10:30  one stage  \n",
              "9        15/12/2022 09:00  15/12/2022 09:10  one stage  \n",
              "10       15/12/2022 09:00  15/12/2022 09:30  one stage  "
            ],
            "text/html": [
              "\n",
              "  <div id=\"df-0d66845c-cc0d-45f3-adf9-e14cb9e4d7d5\">\n",
              "    <div class=\"colab-df-container\">\n",
              "      <div>\n",
              "<style scoped>\n",
              "    .dataframe tbody tr th:only-of-type {\n",
              "        vertical-align: middle;\n",
              "    }\n",
              "\n",
              "    .dataframe tbody tr th {\n",
              "        vertical-align: top;\n",
              "    }\n",
              "\n",
              "    .dataframe thead th {\n",
              "        text-align: right;\n",
              "    }\n",
              "</style>\n",
              "<table border=\"1\" class=\"dataframe\">\n",
              "  <thead>\n",
              "    <tr style=\"text-align: right;\">\n",
              "      <th></th>\n",
              "      <th>Tender Name</th>\n",
              "      <th>Tender No</th>\n",
              "      <th>Status</th>\n",
              "      <th>Advertising Date</th>\n",
              "      <th>Deadline of Submitting</th>\n",
              "      <th>Planed Open Date</th>\n",
              "      <th>Stage Type</th>\n",
              "    </tr>\n",
              "  </thead>\n",
              "  <tbody>\n",
              "    <tr>\n",
              "      <th>0</th>\n",
              "      <td>None</td>\n",
              "      <td>None</td>\n",
              "      <td>None</td>\n",
              "      <td>None</td>\n",
              "      <td>None</td>\n",
              "      <td>None</td>\n",
              "      <td>None</td>\n",
              "    </tr>\n",
              "    <tr>\n",
              "      <th>1</th>\n",
              "      <td>Hiring consultant Urban Mobility (Public trans...</td>\n",
              "      <td>000008/C/ICB/2022/2023/CoK</td>\n",
              "      <td>Published</td>\n",
              "      <td>10/11/2022</td>\n",
              "      <td>27/12/2022 10:00</td>\n",
              "      <td>27/12/2022 10:30</td>\n",
              "      <td>one stage</td>\n",
              "    </tr>\n",
              "    <tr>\n",
              "      <th>2</th>\n",
              "      <td>Hiring consultant Transport economist to suppo...</td>\n",
              "      <td>000009/C/ICB/2022/2023/CoK</td>\n",
              "      <td>Published</td>\n",
              "      <td>10/11/2022</td>\n",
              "      <td>27/12/2022 10:00</td>\n",
              "      <td>27/12/2022 10:30</td>\n",
              "      <td>one stage</td>\n",
              "    </tr>\n",
              "    <tr>\n",
              "      <th>3</th>\n",
              "      <td>science kits and laboratory equipment</td>\n",
              "      <td>000001/G/ICB/2022/2023/REB</td>\n",
              "      <td>Published</td>\n",
              "      <td>03/11/2022</td>\n",
              "      <td>20/12/2022 10:00</td>\n",
              "      <td>20/12/2022 10:30</td>\n",
              "      <td>one stage</td>\n",
              "    </tr>\n",
              "    <tr>\n",
              "      <th>4</th>\n",
              "      <td>Hiring an international Expert in Data Process...</td>\n",
              "      <td>000008/C/ICB/2022/2023/NISR</td>\n",
              "      <td>Published</td>\n",
              "      <td>02/11/2022</td>\n",
              "      <td>19/12/2022 10:00</td>\n",
              "      <td>19/12/2022 10:15</td>\n",
              "      <td>one stage</td>\n",
              "    </tr>\n",
              "    <tr>\n",
              "      <th>5</th>\n",
              "      <td>TENDER FOR OFFICE SUPPLIES AND STATIONARY</td>\n",
              "      <td>000001/G/NCB/2022/2023/Kiziguro</td>\n",
              "      <td>Published</td>\n",
              "      <td>04/11/2022</td>\n",
              "      <td>16/12/2022 10:00</td>\n",
              "      <td>16/12/2022 10:30</td>\n",
              "      <td>one stage</td>\n",
              "    </tr>\n",
              "    <tr>\n",
              "      <th>6</th>\n",
              "      <td>supply of labo kits reagents and consumables</td>\n",
              "      <td>000034/G/NCB/2022/2023/RAB</td>\n",
              "      <td>Published</td>\n",
              "      <td>10/11/2022</td>\n",
              "      <td>15/12/2022 11:00</td>\n",
              "      <td>15/12/2022 11:30</td>\n",
              "      <td>one stage</td>\n",
              "    </tr>\n",
              "    <tr>\n",
              "      <th>7</th>\n",
              "      <td>Provision of services of raising awareness on ...</td>\n",
              "      <td>000010/NC/NCB/2022/2023/RSB</td>\n",
              "      <td>Published</td>\n",
              "      <td>11/11/2022</td>\n",
              "      <td>15/12/2022 10:00</td>\n",
              "      <td>15/12/2022 10:10</td>\n",
              "      <td>one stage</td>\n",
              "    </tr>\n",
              "    <tr>\n",
              "      <th>8</th>\n",
              "      <td>Rehabilitation of administration bloc, constru...</td>\n",
              "      <td>000001/W/NCB/2022/2023/NIDA</td>\n",
              "      <td>Published</td>\n",
              "      <td>09/11/2022</td>\n",
              "      <td>15/12/2022 10:00</td>\n",
              "      <td>15/12/2022 10:30</td>\n",
              "      <td>one stage</td>\n",
              "    </tr>\n",
              "    <tr>\n",
              "      <th>9</th>\n",
              "      <td>Hiring a consultant firm for Study review and ...</td>\n",
              "      <td>000014/C/NCB/2022/2023/CoK</td>\n",
              "      <td>Published</td>\n",
              "      <td>11/11/2022</td>\n",
              "      <td>15/12/2022 09:00</td>\n",
              "      <td>15/12/2022 09:10</td>\n",
              "      <td>one stage</td>\n",
              "    </tr>\n",
              "    <tr>\n",
              "      <th>10</th>\n",
              "      <td>Supply of calibration certified reference mate...</td>\n",
              "      <td>000009/G/NCB/2022/2023/RSB</td>\n",
              "      <td>Published</td>\n",
              "      <td>11/11/2022</td>\n",
              "      <td>15/12/2022 09:00</td>\n",
              "      <td>15/12/2022 09:30</td>\n",
              "      <td>one stage</td>\n",
              "    </tr>\n",
              "  </tbody>\n",
              "</table>\n",
              "</div>\n",
              "      <button class=\"colab-df-convert\" onclick=\"convertToInteractive('df-0d66845c-cc0d-45f3-adf9-e14cb9e4d7d5')\"\n",
              "              title=\"Convert this dataframe to an interactive table.\"\n",
              "              style=\"display:none;\">\n",
              "        \n",
              "  <svg xmlns=\"http://www.w3.org/2000/svg\" height=\"24px\"viewBox=\"0 0 24 24\"\n",
              "       width=\"24px\">\n",
              "    <path d=\"M0 0h24v24H0V0z\" fill=\"none\"/>\n",
              "    <path d=\"M18.56 5.44l.94 2.06.94-2.06 2.06-.94-2.06-.94-.94-2.06-.94 2.06-2.06.94zm-11 1L8.5 8.5l.94-2.06 2.06-.94-2.06-.94L8.5 2.5l-.94 2.06-2.06.94zm10 10l.94 2.06.94-2.06 2.06-.94-2.06-.94-.94-2.06-.94 2.06-2.06.94z\"/><path d=\"M17.41 7.96l-1.37-1.37c-.4-.4-.92-.59-1.43-.59-.52 0-1.04.2-1.43.59L10.3 9.45l-7.72 7.72c-.78.78-.78 2.05 0 2.83L4 21.41c.39.39.9.59 1.41.59.51 0 1.02-.2 1.41-.59l7.78-7.78 2.81-2.81c.8-.78.8-2.07 0-2.86zM5.41 20L4 18.59l7.72-7.72 1.47 1.35L5.41 20z\"/>\n",
              "  </svg>\n",
              "      </button>\n",
              "      \n",
              "  <style>\n",
              "    .colab-df-container {\n",
              "      display:flex;\n",
              "      flex-wrap:wrap;\n",
              "      gap: 12px;\n",
              "    }\n",
              "\n",
              "    .colab-df-convert {\n",
              "      background-color: #E8F0FE;\n",
              "      border: none;\n",
              "      border-radius: 50%;\n",
              "      cursor: pointer;\n",
              "      display: none;\n",
              "      fill: #1967D2;\n",
              "      height: 32px;\n",
              "      padding: 0 0 0 0;\n",
              "      width: 32px;\n",
              "    }\n",
              "\n",
              "    .colab-df-convert:hover {\n",
              "      background-color: #E2EBFA;\n",
              "      box-shadow: 0px 1px 2px rgba(60, 64, 67, 0.3), 0px 1px 3px 1px rgba(60, 64, 67, 0.15);\n",
              "      fill: #174EA6;\n",
              "    }\n",
              "\n",
              "    [theme=dark] .colab-df-convert {\n",
              "      background-color: #3B4455;\n",
              "      fill: #D2E3FC;\n",
              "    }\n",
              "\n",
              "    [theme=dark] .colab-df-convert:hover {\n",
              "      background-color: #434B5C;\n",
              "      box-shadow: 0px 1px 3px 1px rgba(0, 0, 0, 0.15);\n",
              "      filter: drop-shadow(0px 1px 2px rgba(0, 0, 0, 0.3));\n",
              "      fill: #FFFFFF;\n",
              "    }\n",
              "  </style>\n",
              "\n",
              "      <script>\n",
              "        const buttonEl =\n",
              "          document.querySelector('#df-0d66845c-cc0d-45f3-adf9-e14cb9e4d7d5 button.colab-df-convert');\n",
              "        buttonEl.style.display =\n",
              "          google.colab.kernel.accessAllowed ? 'block' : 'none';\n",
              "\n",
              "        async function convertToInteractive(key) {\n",
              "          const element = document.querySelector('#df-0d66845c-cc0d-45f3-adf9-e14cb9e4d7d5');\n",
              "          const dataTable =\n",
              "            await google.colab.kernel.invokeFunction('convertToInteractive',\n",
              "                                                     [key], {});\n",
              "          if (!dataTable) return;\n",
              "\n",
              "          const docLinkHtml = 'Like what you see? Visit the ' +\n",
              "            '<a target=\"_blank\" href=https://colab.research.google.com/notebooks/data_table.ipynb>data table notebook</a>'\n",
              "            + ' to learn more about interactive tables.';\n",
              "          element.innerHTML = '';\n",
              "          dataTable['output_type'] = 'display_data';\n",
              "          await google.colab.output.renderOutput(dataTable, element);\n",
              "          const docLink = document.createElement('div');\n",
              "          docLink.innerHTML = docLinkHtml;\n",
              "          element.appendChild(docLink);\n",
              "        }\n",
              "      </script>\n",
              "    </div>\n",
              "  </div>\n",
              "  "
            ]
          },
          "metadata": {},
          "execution_count": 28
        }
      ]
    },
    {
      "cell_type": "code",
      "source": [
        "df_umucyo.to_dict(\"r\")"
      ],
      "metadata": {
        "colab": {
          "base_uri": "https://localhost:8080/"
        },
        "id": "DQMqnb2l07Pv",
        "outputId": "f93ac717-8a09-447f-e415-a57137204c04"
      },
      "execution_count": null,
      "outputs": [
        {
          "output_type": "stream",
          "name": "stderr",
          "text": [
            "/usr/local/lib/python3.7/dist-packages/ipykernel_launcher.py:1: FutureWarning: Using short name for 'orient' is deprecated. Only the options: ('dict', list, 'series', 'split', 'records', 'index') will be used in a future version. Use one of the above to silence this warning.\n",
            "  \"\"\"Entry point for launching an IPython kernel.\n"
          ]
        },
        {
          "output_type": "execute_result",
          "data": {
            "text/plain": [
              "[{'Tender Name': None,\n",
              "  'Tender No': None,\n",
              "  'Status': None,\n",
              "  'Advertising Date': None,\n",
              "  'Deadline of Submitting': None,\n",
              "  'Planed Open Date': None,\n",
              "  'Stage Type': None},\n",
              " {'Tender Name': 'Hiring consultant Urban Mobility (Public transport) to support Rwanda urban mobility project',\n",
              "  'Tender No': '000008/C/ICB/2022/2023/CoK',\n",
              "  'Status': 'Published',\n",
              "  'Advertising Date': '10/11/2022',\n",
              "  'Deadline of Submitting': '27/12/2022 10:00',\n",
              "  'Planed Open Date': '27/12/2022 10:30',\n",
              "  'Stage Type': 'one stage'},\n",
              " {'Tender Name': 'Hiring consultant Transport economist to support Rwanda urban Mobility Project',\n",
              "  'Tender No': '000009/C/ICB/2022/2023/CoK',\n",
              "  'Status': 'Published',\n",
              "  'Advertising Date': '10/11/2022',\n",
              "  'Deadline of Submitting': '27/12/2022 10:00',\n",
              "  'Planed Open Date': '27/12/2022 10:30',\n",
              "  'Stage Type': 'one stage'},\n",
              " {'Tender Name': 'science kits and laboratory equipment',\n",
              "  'Tender No': '000001/G/ICB/2022/2023/REB',\n",
              "  'Status': 'Published',\n",
              "  'Advertising Date': '03/11/2022',\n",
              "  'Deadline of Submitting': '20/12/2022 10:00',\n",
              "  'Planed Open Date': '20/12/2022 10:30',\n",
              "  'Stage Type': 'one stage'},\n",
              " {'Tender Name': 'Hiring an international Expert in Data Processing to support 2022 population and Housing census.',\n",
              "  'Tender No': '000008/C/ICB/2022/2023/NISR',\n",
              "  'Status': 'Published',\n",
              "  'Advertising Date': '02/11/2022',\n",
              "  'Deadline of Submitting': '19/12/2022 10:00',\n",
              "  'Planed Open Date': '19/12/2022 10:15',\n",
              "  'Stage Type': 'one stage'},\n",
              " {'Tender Name': 'TENDER FOR OFFICE SUPPLIES AND STATIONARY',\n",
              "  'Tender No': '000001/G/NCB/2022/2023/Kiziguro',\n",
              "  'Status': 'Published',\n",
              "  'Advertising Date': '04/11/2022',\n",
              "  'Deadline of Submitting': '16/12/2022 10:00',\n",
              "  'Planed Open Date': '16/12/2022 10:30',\n",
              "  'Stage Type': 'one stage'},\n",
              " {'Tender Name': 'supply of labo kits reagents and consumables',\n",
              "  'Tender No': '000034/G/NCB/2022/2023/RAB',\n",
              "  'Status': 'Published',\n",
              "  'Advertising Date': '10/11/2022',\n",
              "  'Deadline of Submitting': '15/12/2022 11:00',\n",
              "  'Planed Open Date': '15/12/2022 11:30',\n",
              "  'Stage Type': 'one stage'},\n",
              " {'Tender Name': 'Provision of services of raising awareness on standardization, Metrology and Conformity Assessment services through production and airtime of radio serial drama (framework contract)',\n",
              "  'Tender No': '000010/NC/NCB/2022/2023/RSB',\n",
              "  'Status': 'Published',\n",
              "  'Advertising Date': '11/11/2022',\n",
              "  'Deadline of Submitting': '15/12/2022 10:00',\n",
              "  'Planed Open Date': '15/12/2022 10:10',\n",
              "  'Stage Type': 'one stage'},\n",
              " {'Tender Name': 'Rehabilitation of administration bloc, construction of new administration bloc',\n",
              "  'Tender No': '000001/W/NCB/2022/2023/NIDA',\n",
              "  'Status': 'Published',\n",
              "  'Advertising Date': '09/11/2022',\n",
              "  'Deadline of Submitting': '15/12/2022 10:00',\n",
              "  'Planed Open Date': '15/12/2022 10:30',\n",
              "  'Stage Type': 'one stage'},\n",
              " {'Tender Name': 'Hiring a consultant firm for Study review and supervision for construction of Nyenyeri-Zuba ravine',\n",
              "  'Tender No': '000014/C/NCB/2022/2023/CoK',\n",
              "  'Status': 'Published',\n",
              "  'Advertising Date': '11/11/2022',\n",
              "  'Deadline of Submitting': '15/12/2022 09:00',\n",
              "  'Planed Open Date': '15/12/2022 09:10',\n",
              "  'Stage Type': 'one stage'},\n",
              " {'Tender Name': 'Supply of calibration certified reference materials and Metrology laboratories consumables on a framework contract',\n",
              "  'Tender No': '000009/G/NCB/2022/2023/RSB',\n",
              "  'Status': 'Published',\n",
              "  'Advertising Date': '11/11/2022',\n",
              "  'Deadline of Submitting': '15/12/2022 09:00',\n",
              "  'Planed Open Date': '15/12/2022 09:30',\n",
              "  'Stage Type': 'one stage'}]"
            ]
          },
          "metadata": {},
          "execution_count": 29
        }
      ]
    },
    {
      "cell_type": "code",
      "source": [
        "import os"
      ],
      "metadata": {
        "id": "baX-4JTk1EJj"
      },
      "execution_count": null,
      "outputs": []
    },
    {
      "cell_type": "markdown",
      "source": [
        "# Hosting my work"
      ],
      "metadata": {
        "id": "pznp_C0v1Lwc"
      }
    },
    {
      "cell_type": "code",
      "source": [
        "!pip install -U easynmt"
      ],
      "metadata": {
        "colab": {
          "base_uri": "https://localhost:8080/"
        },
        "id": "y8U2Q0Vx1NaQ",
        "outputId": "21c366a4-ddd7-4e0d-8d02-8ab15e58fbbf"
      },
      "execution_count": null,
      "outputs": [
        {
          "output_type": "stream",
          "name": "stdout",
          "text": [
            "Looking in indexes: https://pypi.org/simple, https://us-python.pkg.dev/colab-wheels/public/simple/\n",
            "Collecting easynmt\n",
            "  Downloading EasyNMT-2.0.2.tar.gz (23 kB)\n",
            "Requirement already satisfied: tqdm in /usr/local/lib/python3.7/dist-packages (from easynmt) (4.64.1)\n",
            "Collecting transformers<5,>=4.4\n",
            "  Downloading transformers-4.24.0-py3-none-any.whl (5.5 MB)\n",
            "\u001b[K     |████████████████████████████████| 5.5 MB 39.3 MB/s \n",
            "\u001b[?25hRequirement already satisfied: torch>=1.6.0 in /usr/local/lib/python3.7/dist-packages (from easynmt) (1.12.1+cu113)\n",
            "Requirement already satisfied: numpy in /usr/local/lib/python3.7/dist-packages (from easynmt) (1.21.6)\n",
            "Requirement already satisfied: nltk in /usr/local/lib/python3.7/dist-packages (from easynmt) (3.7)\n",
            "Collecting sentencepiece\n",
            "  Downloading sentencepiece-0.1.97-cp37-cp37m-manylinux_2_17_x86_64.manylinux2014_x86_64.whl (1.3 MB)\n",
            "\u001b[K     |████████████████████████████████| 1.3 MB 54.4 MB/s \n",
            "\u001b[?25hCollecting fasttext\n",
            "  Downloading fasttext-0.9.2.tar.gz (68 kB)\n",
            "\u001b[K     |████████████████████████████████| 68 kB 7.6 MB/s \n",
            "\u001b[?25hRequirement already satisfied: protobuf in /usr/local/lib/python3.7/dist-packages (from easynmt) (3.19.6)\n",
            "Requirement already satisfied: typing-extensions in /usr/local/lib/python3.7/dist-packages (from torch>=1.6.0->easynmt) (4.1.1)\n",
            "Requirement already satisfied: filelock in /usr/local/lib/python3.7/dist-packages (from transformers<5,>=4.4->easynmt) (3.8.0)\n",
            "Requirement already satisfied: pyyaml>=5.1 in /usr/local/lib/python3.7/dist-packages (from transformers<5,>=4.4->easynmt) (6.0)\n",
            "Requirement already satisfied: packaging>=20.0 in /usr/local/lib/python3.7/dist-packages (from transformers<5,>=4.4->easynmt) (21.3)\n",
            "Collecting huggingface-hub<1.0,>=0.10.0\n",
            "  Downloading huggingface_hub-0.10.1-py3-none-any.whl (163 kB)\n",
            "\u001b[K     |████████████████████████████████| 163 kB 64.7 MB/s \n",
            "\u001b[?25hRequirement already satisfied: regex!=2019.12.17 in /usr/local/lib/python3.7/dist-packages (from transformers<5,>=4.4->easynmt) (2022.6.2)\n",
            "Requirement already satisfied: requests in /usr/local/lib/python3.7/dist-packages (from transformers<5,>=4.4->easynmt) (2.23.0)\n",
            "Collecting tokenizers!=0.11.3,<0.14,>=0.11.1\n",
            "  Downloading tokenizers-0.13.2-cp37-cp37m-manylinux_2_17_x86_64.manylinux2014_x86_64.whl (7.6 MB)\n",
            "\u001b[K     |████████████████████████████████| 7.6 MB 60.2 MB/s \n",
            "\u001b[?25hRequirement already satisfied: importlib-metadata in /usr/local/lib/python3.7/dist-packages (from transformers<5,>=4.4->easynmt) (4.13.0)\n",
            "Requirement already satisfied: pyparsing!=3.0.5,>=2.0.2 in /usr/local/lib/python3.7/dist-packages (from packaging>=20.0->transformers<5,>=4.4->easynmt) (3.0.9)\n",
            "Collecting pybind11>=2.2\n",
            "  Using cached pybind11-2.10.1-py3-none-any.whl (216 kB)\n",
            "Requirement already satisfied: setuptools>=0.7.0 in /usr/local/lib/python3.7/dist-packages (from fasttext->easynmt) (57.4.0)\n",
            "Requirement already satisfied: zipp>=0.5 in /usr/local/lib/python3.7/dist-packages (from importlib-metadata->transformers<5,>=4.4->easynmt) (3.10.0)\n",
            "Requirement already satisfied: joblib in /usr/local/lib/python3.7/dist-packages (from nltk->easynmt) (1.2.0)\n",
            "Requirement already satisfied: click in /usr/local/lib/python3.7/dist-packages (from nltk->easynmt) (7.1.2)\n",
            "Requirement already satisfied: urllib3!=1.25.0,!=1.25.1,<1.26,>=1.21.1 in /usr/local/lib/python3.7/dist-packages (from requests->transformers<5,>=4.4->easynmt) (1.24.3)\n",
            "Requirement already satisfied: idna<3,>=2.5 in /usr/local/lib/python3.7/dist-packages (from requests->transformers<5,>=4.4->easynmt) (2.10)\n",
            "Requirement already satisfied: certifi>=2017.4.17 in /usr/local/lib/python3.7/dist-packages (from requests->transformers<5,>=4.4->easynmt) (2022.9.24)\n",
            "Requirement already satisfied: chardet<4,>=3.0.2 in /usr/local/lib/python3.7/dist-packages (from requests->transformers<5,>=4.4->easynmt) (3.0.4)\n",
            "Building wheels for collected packages: easynmt, fasttext\n",
            "  Building wheel for easynmt (setup.py) ... \u001b[?25l\u001b[?25hdone\n",
            "  Created wheel for easynmt: filename=EasyNMT-2.0.2-py3-none-any.whl size=19919 sha256=2555cdc3a977ca9c0c4eee6bebec8773cf99811c49cba2bd732db6b6c8178079\n",
            "  Stored in directory: /root/.cache/pip/wheels/d1/57/06/53ca38645e14d4537a41e5a36da2026e10f54ae88240dd5190\n",
            "  Building wheel for fasttext (setup.py) ... \u001b[?25l\u001b[?25hdone\n",
            "  Created wheel for fasttext: filename=fasttext-0.9.2-cp37-cp37m-linux_x86_64.whl size=3155521 sha256=5f9f6763ba6bda5f1263081e4f7728afa46b964ac26a105635e87a91c1ab58bf\n",
            "  Stored in directory: /root/.cache/pip/wheels/4e/ca/bf/b020d2be95f7641801a6597a29c8f4f19e38f9c02a345bab9b\n",
            "Successfully built easynmt fasttext\n",
            "Installing collected packages: tokenizers, pybind11, huggingface-hub, transformers, sentencepiece, fasttext, easynmt\n",
            "Successfully installed easynmt-2.0.2 fasttext-0.9.2 huggingface-hub-0.10.1 pybind11-2.10.1 sentencepiece-0.1.97 tokenizers-0.13.2 transformers-4.24.0\n"
          ]
        }
      ]
    },
    {
      "cell_type": "code",
      "source": [
        "#FastAPI\n",
        "!pip install fastapi pyngrok  uvicorn nest-asyncio\n",
        "# Flask\n",
        "#!pip install flask pyngrok  gunicorn nest-asyncio"
      ],
      "metadata": {
        "colab": {
          "base_uri": "https://localhost:8080/"
        },
        "id": "ZepiLxH11VWh",
        "outputId": "01da5570-5bb2-4a92-9ffe-5a567a752bf9"
      },
      "execution_count": null,
      "outputs": [
        {
          "output_type": "stream",
          "name": "stdout",
          "text": [
            "Looking in indexes: https://pypi.org/simple, https://us-python.pkg.dev/colab-wheels/public/simple/\n",
            "Collecting fastapi\n",
            "  Downloading fastapi-0.86.0-py3-none-any.whl (55 kB)\n",
            "\u001b[K     |████████████████████████████████| 55 kB 3.7 MB/s \n",
            "\u001b[?25hCollecting pyngrok\n",
            "  Downloading pyngrok-5.1.0.tar.gz (745 kB)\n",
            "\u001b[K     |████████████████████████████████| 745 kB 57.9 MB/s \n",
            "\u001b[?25hCollecting uvicorn\n",
            "  Downloading uvicorn-0.19.0-py3-none-any.whl (56 kB)\n",
            "\u001b[K     |████████████████████████████████| 56 kB 5.6 MB/s \n",
            "\u001b[?25hCollecting nest-asyncio\n",
            "  Downloading nest_asyncio-1.5.6-py3-none-any.whl (5.2 kB)\n",
            "Requirement already satisfied: pydantic!=1.7,!=1.7.1,!=1.7.2,!=1.7.3,!=1.8,!=1.8.1,<2.0.0,>=1.6.2 in /usr/local/lib/python3.7/dist-packages (from fastapi) (1.10.2)\n",
            "Collecting starlette==0.20.4\n",
            "  Downloading starlette-0.20.4-py3-none-any.whl (63 kB)\n",
            "\u001b[K     |████████████████████████████████| 63 kB 2.1 MB/s \n",
            "\u001b[?25hRequirement already satisfied: typing-extensions>=3.10.0 in /usr/local/lib/python3.7/dist-packages (from starlette==0.20.4->fastapi) (4.1.1)\n",
            "Collecting anyio<5,>=3.4.0\n",
            "  Downloading anyio-3.6.2-py3-none-any.whl (80 kB)\n",
            "\u001b[K     |████████████████████████████████| 80 kB 9.4 MB/s \n",
            "\u001b[?25hCollecting sniffio>=1.1\n",
            "  Downloading sniffio-1.3.0-py3-none-any.whl (10 kB)\n",
            "Requirement already satisfied: idna>=2.8 in /usr/local/lib/python3.7/dist-packages (from anyio<5,>=3.4.0->starlette==0.20.4->fastapi) (2.10)\n",
            "Requirement already satisfied: PyYAML in /usr/local/lib/python3.7/dist-packages (from pyngrok) (6.0)\n",
            "Requirement already satisfied: click>=7.0 in /usr/local/lib/python3.7/dist-packages (from uvicorn) (7.1.2)\n",
            "Collecting h11>=0.8\n",
            "  Downloading h11-0.14.0-py3-none-any.whl (58 kB)\n",
            "\u001b[K     |████████████████████████████████| 58 kB 6.1 MB/s \n",
            "\u001b[?25hBuilding wheels for collected packages: pyngrok\n",
            "  Building wheel for pyngrok (setup.py) ... \u001b[?25l\u001b[?25hdone\n",
            "  Created wheel for pyngrok: filename=pyngrok-5.1.0-py3-none-any.whl size=19007 sha256=0b4ad81b6ac817d437bae90c17b3467d8b87b304e0776fd909fb617de416278b\n",
            "  Stored in directory: /root/.cache/pip/wheels/bf/e6/af/ccf6598ecefecd44104069371795cb9b3afbcd16987f6ccfb3\n",
            "Successfully built pyngrok\n",
            "Installing collected packages: sniffio, anyio, starlette, h11, uvicorn, pyngrok, nest-asyncio, fastapi\n",
            "Successfully installed anyio-3.6.2 fastapi-0.86.0 h11-0.14.0 nest-asyncio-1.5.6 pyngrok-5.1.0 sniffio-1.3.0 starlette-0.20.4 uvicorn-0.19.0\n"
          ]
        }
      ]
    },
    {
      "cell_type": "code",
      "source": [
        "!ngrok authtoken 2HJPxGxCEP4kvWWdNAnxrxYcaO7_5ZoRfnsdZZ6BjAKBpzPLA"
      ],
      "metadata": {
        "colab": {
          "base_uri": "https://localhost:8080/"
        },
        "id": "MxrgKXlK1o7q",
        "outputId": "4f90ae48-f97c-463f-bbf8-b465aaa6ffb2"
      },
      "execution_count": null,
      "outputs": [
        {
          "output_type": "stream",
          "name": "stdout",
          "text": [
            "Authtoken saved to configuration file: /root/.ngrok2/ngrok.yml\n"
          ]
        }
      ]
    },
    {
      "cell_type": "code",
      "source": [],
      "metadata": {
        "id": "NWsHNwTJ00eK"
      },
      "execution_count": null,
      "outputs": []
    },
    {
      "cell_type": "code",
      "source": [],
      "metadata": {
        "id": "SrE_bQHvEwDU"
      },
      "execution_count": null,
      "outputs": []
    },
    {
      "cell_type": "code",
      "source": [
        "\n",
        "from fastapi import FastAPI, Request\n",
        "from datetime import datetime\n",
        "from fastapi.responses import HTMLResponse\n",
        "from easynmt import EasyNMT\n",
        "from fastapi import Response\n",
        "\n",
        "model = EasyNMT('opus-mt')#starting the model Instance\n",
        "\n",
        "storage = FastAPI(title='MY FASTAPI') #Starting the FastAPI Instance\n",
        "\n",
        "@storage.get('/')\n",
        "def index():\n",
        "    return \"My name is HABICLAUDE, This is my API\"\n",
        "\n",
        "\n",
        "@storage.get('/data')\n",
        "def show_data():\n",
        "  return df.to_dict(\"r\")\n",
        "\n",
        "@storage.get('/translation')\n",
        "def translate(lang: str=''):\n",
        "  previous_lang = 'en'\n",
        "  for row in range(len(df3)):\n",
        "    try:\n",
        "      df_final.loc[row]['description'] = model.translate(df_final.iloc[row]['description'] , target_lang=lang)\n",
        "      df_final.loc[row]['title'] = model.translate(df_final.iloc[row]['title']   ,target_lang=lang)\n",
        "    except AttributeError:\n",
        "      message = f\"\"\"<html>\n",
        "                    <h1>{lang} is not among the languages supported by easyNMT.<br>Try another language</h1></html>\n",
        "                \"\"\"\n",
        "    return HTMLResponse(message)\n",
        "\n",
        "\n",
        "  "
      ],
      "metadata": {
        "id": "fQ7U5xwJ1tDq"
      },
      "execution_count": null,
      "outputs": []
    },
    {
      "cell_type": "code",
      "source": [
        "import nest_asyncio\n",
        "from pyngrok import ngrok\n",
        "import uvicorn\n",
        "\n",
        "ngrok_tunnel = ngrok.connect(8000)\n",
        "print(\"REST API started\")\n",
        "print(\"Your public API URL:\", ngrok_tunnel.public_url)\n",
        "print(\"You can for example open the following URL in your browser: {}?target_lang=en&text=Hallo%20Welt\".format(ngrok_tunnel.public_url))\n",
        "\n",
        "nest_asyncio.apply()\n",
        "uvicorn.run(storage, port=8000)\n",
        "\n"
      ],
      "metadata": {
        "id": "aNnLv86r1w5Q"
      },
      "execution_count": null,
      "outputs": []
    },
    {
      "cell_type": "code",
      "source": [
        "!pkill ngrok"
      ],
      "metadata": {
        "id": "8rzXECDjvdEs"
      },
      "execution_count": null,
      "outputs": []
    },
    {
      "cell_type": "code",
      "source": [],
      "metadata": {
        "id": "KGv2CNdM6cSN"
      },
      "execution_count": null,
      "outputs": []
    }
  ]
}