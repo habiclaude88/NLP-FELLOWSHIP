{
  "nbformat": 4,
  "nbformat_minor": 0,
  "metadata": {
    "colab": {
      "provenance": [],
      "authorship_tag": "ABX9TyMf1oBwPNdW/zAnWW6ogjnh",
      "include_colab_link": true
    },
    "kernelspec": {
      "name": "python3",
      "display_name": "Python 3"
    },
    "language_info": {
      "name": "python"
    }
  },
  "cells": [
    {
      "cell_type": "markdown",
      "metadata": {
        "id": "view-in-github",
        "colab_type": "text"
      },
      "source": [
        "<a href=\"https://colab.research.google.com/github/habiclaude88/NLP-FELLOWSHIP/blob/main/Inyarwanda_com_.ipynb\" target=\"_parent\"><img src=\"https://colab.research.google.com/assets/colab-badge.svg\" alt=\"Open In Colab\"/></a>"
      ]
    },
    {
      "cell_type": "code",
      "execution_count": 56,
      "metadata": {
        "colab": {
          "base_uri": "https://localhost:8080/"
        },
        "id": "qwd4JtELga6U",
        "outputId": "32fab9ef-88ef-4114-8e64-c790d3095df8"
      },
      "outputs": [
        {
          "output_type": "stream",
          "name": "stdout",
          "text": [
            "Looking in indexes: https://pypi.org/simple, https://us-python.pkg.dev/colab-wheels/public/simple/\n",
            "Requirement already satisfied: beautifulsoup4 in /usr/local/lib/python3.7/dist-packages (4.6.3)\n"
          ]
        }
      ],
      "source": [
        "!pip install beautifulsoup4"
      ]
    },
    {
      "cell_type": "code",
      "source": [
        "from bs4 import BeautifulSoup\n",
        "import pandas as pd\n",
        "import requests\n",
        "import re"
      ],
      "metadata": {
        "id": "bE2K5eFWk_iA"
      },
      "execution_count": 57,
      "outputs": []
    },
    {
      "cell_type": "code",
      "source": [
        "url = requests.get(\"https://inyarwanda.com/amakuru/72/imyidagaduro\").content"
      ],
      "metadata": {
        "id": "hL5Ol-vylFkL"
      },
      "execution_count": 58,
      "outputs": []
    },
    {
      "cell_type": "code",
      "source": [
        "front_page = BeautifulSoup(url, 'html.parser')"
      ],
      "metadata": {
        "id": "pkCrIaA7ljwS"
      },
      "execution_count": 59,
      "outputs": []
    },
    {
      "cell_type": "code",
      "source": [
        "imyidagaduro = front_page.find_all(\"div\", class_=\"col s12 m12 linedown\")"
      ],
      "metadata": {
        "id": "s-PbVQvKm3dt"
      },
      "execution_count": 60,
      "outputs": []
    },
    {
      "cell_type": "code",
      "source": [],
      "metadata": {
        "id": "T-o73ryT2rcP"
      },
      "execution_count": 60,
      "outputs": []
    },
    {
      "cell_type": "code",
      "source": [
        "title = imyidagaduro[6].find(\"h3\").find(\"a\")[\"href\"].split(\"/\")[5]\n",
        "link_title = imyidagaduro[0].find(\"h3\").find(\"a\")[\"href\"]\n",
        "link_title\n"
      ],
      "metadata": {
        "colab": {
          "base_uri": "https://localhost:8080/",
          "height": 36
        },
        "id": "dPPDumo_ogvA",
        "outputId": "b206e65d-9797-4070-f09a-75bf4dcb43b6"
      },
      "execution_count": 61,
      "outputs": [
        {
          "output_type": "execute_result",
          "data": {
            "text/plain": [
              "'https://inyarwanda.com/inkuru/122953/mistaek-uzwi-mu-ndirimbo-kucyaro-yasobanuye-album-yindirimbo-21-yitiriye-icyerekezo-2040-122953.html'"
            ],
            "application/vnd.google.colaboratory.intrinsic+json": {
              "type": "string"
            }
          },
          "metadata": {},
          "execution_count": 61
        }
      ]
    },
    {
      "cell_type": "code",
      "source": [
        "\n",
        "    \n"
      ],
      "metadata": {
        "id": "6rGJkAM0brqF"
      },
      "execution_count": 61,
      "outputs": []
    },
    {
      "cell_type": "code",
      "source": [
        "df = pd.DataFrame()\n",
        "df[\"title\"] = None\n",
        "df[\"link_title\"] = None\n",
        "df[\"description\"] = None\n",
        "df"
      ],
      "metadata": {
        "colab": {
          "base_uri": "https://localhost:8080/",
          "height": 49
        },
        "id": "HRpepu44uLf6",
        "outputId": "71a47381-4f77-4c1d-caa2-53994a4d0176"
      },
      "execution_count": 62,
      "outputs": [
        {
          "output_type": "execute_result",
          "data": {
            "text/plain": [
              "Empty DataFrame\n",
              "Columns: [title, link_title, description]\n",
              "Index: []"
            ],
            "text/html": [
              "\n",
              "  <div id=\"df-f14b8bb5-ff46-45dc-b1be-8f05dfbc07bd\">\n",
              "    <div class=\"colab-df-container\">\n",
              "      <div>\n",
              "<style scoped>\n",
              "    .dataframe tbody tr th:only-of-type {\n",
              "        vertical-align: middle;\n",
              "    }\n",
              "\n",
              "    .dataframe tbody tr th {\n",
              "        vertical-align: top;\n",
              "    }\n",
              "\n",
              "    .dataframe thead th {\n",
              "        text-align: right;\n",
              "    }\n",
              "</style>\n",
              "<table border=\"1\" class=\"dataframe\">\n",
              "  <thead>\n",
              "    <tr style=\"text-align: right;\">\n",
              "      <th></th>\n",
              "      <th>title</th>\n",
              "      <th>link_title</th>\n",
              "      <th>description</th>\n",
              "    </tr>\n",
              "  </thead>\n",
              "  <tbody>\n",
              "  </tbody>\n",
              "</table>\n",
              "</div>\n",
              "      <button class=\"colab-df-convert\" onclick=\"convertToInteractive('df-f14b8bb5-ff46-45dc-b1be-8f05dfbc07bd')\"\n",
              "              title=\"Convert this dataframe to an interactive table.\"\n",
              "              style=\"display:none;\">\n",
              "        \n",
              "  <svg xmlns=\"http://www.w3.org/2000/svg\" height=\"24px\"viewBox=\"0 0 24 24\"\n",
              "       width=\"24px\">\n",
              "    <path d=\"M0 0h24v24H0V0z\" fill=\"none\"/>\n",
              "    <path d=\"M18.56 5.44l.94 2.06.94-2.06 2.06-.94-2.06-.94-.94-2.06-.94 2.06-2.06.94zm-11 1L8.5 8.5l.94-2.06 2.06-.94-2.06-.94L8.5 2.5l-.94 2.06-2.06.94zm10 10l.94 2.06.94-2.06 2.06-.94-2.06-.94-.94-2.06-.94 2.06-2.06.94z\"/><path d=\"M17.41 7.96l-1.37-1.37c-.4-.4-.92-.59-1.43-.59-.52 0-1.04.2-1.43.59L10.3 9.45l-7.72 7.72c-.78.78-.78 2.05 0 2.83L4 21.41c.39.39.9.59 1.41.59.51 0 1.02-.2 1.41-.59l7.78-7.78 2.81-2.81c.8-.78.8-2.07 0-2.86zM5.41 20L4 18.59l7.72-7.72 1.47 1.35L5.41 20z\"/>\n",
              "  </svg>\n",
              "      </button>\n",
              "      \n",
              "  <style>\n",
              "    .colab-df-container {\n",
              "      display:flex;\n",
              "      flex-wrap:wrap;\n",
              "      gap: 12px;\n",
              "    }\n",
              "\n",
              "    .colab-df-convert {\n",
              "      background-color: #E8F0FE;\n",
              "      border: none;\n",
              "      border-radius: 50%;\n",
              "      cursor: pointer;\n",
              "      display: none;\n",
              "      fill: #1967D2;\n",
              "      height: 32px;\n",
              "      padding: 0 0 0 0;\n",
              "      width: 32px;\n",
              "    }\n",
              "\n",
              "    .colab-df-convert:hover {\n",
              "      background-color: #E2EBFA;\n",
              "      box-shadow: 0px 1px 2px rgba(60, 64, 67, 0.3), 0px 1px 3px 1px rgba(60, 64, 67, 0.15);\n",
              "      fill: #174EA6;\n",
              "    }\n",
              "\n",
              "    [theme=dark] .colab-df-convert {\n",
              "      background-color: #3B4455;\n",
              "      fill: #D2E3FC;\n",
              "    }\n",
              "\n",
              "    [theme=dark] .colab-df-convert:hover {\n",
              "      background-color: #434B5C;\n",
              "      box-shadow: 0px 1px 3px 1px rgba(0, 0, 0, 0.15);\n",
              "      filter: drop-shadow(0px 1px 2px rgba(0, 0, 0, 0.3));\n",
              "      fill: #FFFFFF;\n",
              "    }\n",
              "  </style>\n",
              "\n",
              "      <script>\n",
              "        const buttonEl =\n",
              "          document.querySelector('#df-f14b8bb5-ff46-45dc-b1be-8f05dfbc07bd button.colab-df-convert');\n",
              "        buttonEl.style.display =\n",
              "          google.colab.kernel.accessAllowed ? 'block' : 'none';\n",
              "\n",
              "        async function convertToInteractive(key) {\n",
              "          const element = document.querySelector('#df-f14b8bb5-ff46-45dc-b1be-8f05dfbc07bd');\n",
              "          const dataTable =\n",
              "            await google.colab.kernel.invokeFunction('convertToInteractive',\n",
              "                                                     [key], {});\n",
              "          if (!dataTable) return;\n",
              "\n",
              "          const docLinkHtml = 'Like what you see? Visit the ' +\n",
              "            '<a target=\"_blank\" href=https://colab.research.google.com/notebooks/data_table.ipynb>data table notebook</a>'\n",
              "            + ' to learn more about interactive tables.';\n",
              "          element.innerHTML = '';\n",
              "          dataTable['output_type'] = 'display_data';\n",
              "          await google.colab.output.renderOutput(dataTable, element);\n",
              "          const docLink = document.createElement('div');\n",
              "          docLink.innerHTML = docLinkHtml;\n",
              "          element.appendChild(docLink);\n",
              "        }\n",
              "      </script>\n",
              "    </div>\n",
              "  </div>\n",
              "  "
            ]
          },
          "metadata": {},
          "execution_count": 62
        }
      ]
    },
    {
      "cell_type": "code",
      "source": [
        "# Function of Appending data into lists\n",
        "def Appending(content):\n",
        "  title = []\n",
        "  link = []\n",
        "  \n",
        "  for item in content:\n",
        "    title.append(item.find(\"h3\").find(\"a\")[\"href\"].split(\"/\")[5])\n",
        "    link.append(item.find(\"h3\").find(\"a\")[\"href\"])\n",
        "    \n",
        "  return title, link\n",
        "\n"
      ],
      "metadata": {
        "id": "QjJdXRHHvBRD"
      },
      "execution_count": 63,
      "outputs": []
    },
    {
      "cell_type": "code",
      "source": [
        "# making dataframe\n",
        "df[\"title\"], df[\"link_title\"] = Appending(imyidagaduro)"
      ],
      "metadata": {
        "id": "XRdy14Pd_2kC"
      },
      "execution_count": 64,
      "outputs": []
    },
    {
      "cell_type": "code",
      "source": [
        "df[\"title\"]"
      ],
      "metadata": {
        "colab": {
          "base_uri": "https://localhost:8080/"
        },
        "id": "l1fiT2nkA8ki",
        "outputId": "4fdf910d-9d10-4198-ac9e-9e0ca9401705"
      },
      "execution_count": 65,
      "outputs": [
        {
          "output_type": "execute_result",
          "data": {
            "text/plain": [
              "0    mistaek-uzwi-mu-ndirimbo-kucyaro-yasobanuye-al...\n",
              "1    kelly-rowland-yihanije-abamujyereranya-na-beyo...\n",
              "2    vava-wamamaye-nka-dorimbogo-yashyize-hanze-ind...\n",
              "3    filimi-zurukozasoni-zamwinjirije-miliyari-3frw...\n",
              "4    minisitiri-ildephonse-musafiri-yahaye-umugisha...\n",
              "5    yibukije-abantu-inkumi-zarikoroje-moses-wasoho...\n",
              "6    gutanga-awards-ku-bahanzi-ibitaramo-bizenguruk...\n",
              "7    abaye-uwa-kabiri-muri-uganda-eddy-kenzo-mu-bah...\n",
              "8    yanikiriye-umugabo-we-jay-z-beyonce-yaciye-aga...\n",
              "Name: title, dtype: object"
            ]
          },
          "metadata": {},
          "execution_count": 65
        }
      ]
    },
    {
      "cell_type": "code",
      "source": [
        "df"
      ],
      "metadata": {
        "colab": {
          "base_uri": "https://localhost:8080/",
          "height": 331
        },
        "id": "UDf9dg9VeOAl",
        "outputId": "a5e6da3f-57c6-4eb1-e182-0beed509cc67"
      },
      "execution_count": 66,
      "outputs": [
        {
          "output_type": "execute_result",
          "data": {
            "text/plain": [
              "                                               title  \\\n",
              "0  mistaek-uzwi-mu-ndirimbo-kucyaro-yasobanuye-al...   \n",
              "1  kelly-rowland-yihanije-abamujyereranya-na-beyo...   \n",
              "2  vava-wamamaye-nka-dorimbogo-yashyize-hanze-ind...   \n",
              "3  filimi-zurukozasoni-zamwinjirije-miliyari-3frw...   \n",
              "4  minisitiri-ildephonse-musafiri-yahaye-umugisha...   \n",
              "5  yibukije-abantu-inkumi-zarikoroje-moses-wasoho...   \n",
              "6  gutanga-awards-ku-bahanzi-ibitaramo-bizenguruk...   \n",
              "7  abaye-uwa-kabiri-muri-uganda-eddy-kenzo-mu-bah...   \n",
              "8  yanikiriye-umugabo-we-jay-z-beyonce-yaciye-aga...   \n",
              "\n",
              "                                          link_title description  \n",
              "0  https://inyarwanda.com/inkuru/122953/mistaek-u...         NaN  \n",
              "1  https://inyarwanda.com/inkuru/122952/kelly-row...         NaN  \n",
              "2  https://inyarwanda.com/inkuru/122944/vava-wama...         NaN  \n",
              "3  https://inyarwanda.com/inkuru/122926/filimi-zu...         NaN  \n",
              "4  https://inyarwanda.com/inkuru/122933/minisitir...         NaN  \n",
              "5  https://inyarwanda.com/inkuru/122923/yibukije-...         NaN  \n",
              "6  https://inyarwanda.com/inkuru/122928/gutanga-a...         NaN  \n",
              "7  https://inyarwanda.com/inkuru/122922/abaye-uwa...         NaN  \n",
              "8  https://inyarwanda.com/inkuru/122918/yanikiriy...         NaN  "
            ],
            "text/html": [
              "\n",
              "  <div id=\"df-2465564d-530c-4e0c-a6c3-4fc8abe435c5\">\n",
              "    <div class=\"colab-df-container\">\n",
              "      <div>\n",
              "<style scoped>\n",
              "    .dataframe tbody tr th:only-of-type {\n",
              "        vertical-align: middle;\n",
              "    }\n",
              "\n",
              "    .dataframe tbody tr th {\n",
              "        vertical-align: top;\n",
              "    }\n",
              "\n",
              "    .dataframe thead th {\n",
              "        text-align: right;\n",
              "    }\n",
              "</style>\n",
              "<table border=\"1\" class=\"dataframe\">\n",
              "  <thead>\n",
              "    <tr style=\"text-align: right;\">\n",
              "      <th></th>\n",
              "      <th>title</th>\n",
              "      <th>link_title</th>\n",
              "      <th>description</th>\n",
              "    </tr>\n",
              "  </thead>\n",
              "  <tbody>\n",
              "    <tr>\n",
              "      <th>0</th>\n",
              "      <td>mistaek-uzwi-mu-ndirimbo-kucyaro-yasobanuye-al...</td>\n",
              "      <td>https://inyarwanda.com/inkuru/122953/mistaek-u...</td>\n",
              "      <td>NaN</td>\n",
              "    </tr>\n",
              "    <tr>\n",
              "      <th>1</th>\n",
              "      <td>kelly-rowland-yihanije-abamujyereranya-na-beyo...</td>\n",
              "      <td>https://inyarwanda.com/inkuru/122952/kelly-row...</td>\n",
              "      <td>NaN</td>\n",
              "    </tr>\n",
              "    <tr>\n",
              "      <th>2</th>\n",
              "      <td>vava-wamamaye-nka-dorimbogo-yashyize-hanze-ind...</td>\n",
              "      <td>https://inyarwanda.com/inkuru/122944/vava-wama...</td>\n",
              "      <td>NaN</td>\n",
              "    </tr>\n",
              "    <tr>\n",
              "      <th>3</th>\n",
              "      <td>filimi-zurukozasoni-zamwinjirije-miliyari-3frw...</td>\n",
              "      <td>https://inyarwanda.com/inkuru/122926/filimi-zu...</td>\n",
              "      <td>NaN</td>\n",
              "    </tr>\n",
              "    <tr>\n",
              "      <th>4</th>\n",
              "      <td>minisitiri-ildephonse-musafiri-yahaye-umugisha...</td>\n",
              "      <td>https://inyarwanda.com/inkuru/122933/minisitir...</td>\n",
              "      <td>NaN</td>\n",
              "    </tr>\n",
              "    <tr>\n",
              "      <th>5</th>\n",
              "      <td>yibukije-abantu-inkumi-zarikoroje-moses-wasoho...</td>\n",
              "      <td>https://inyarwanda.com/inkuru/122923/yibukije-...</td>\n",
              "      <td>NaN</td>\n",
              "    </tr>\n",
              "    <tr>\n",
              "      <th>6</th>\n",
              "      <td>gutanga-awards-ku-bahanzi-ibitaramo-bizenguruk...</td>\n",
              "      <td>https://inyarwanda.com/inkuru/122928/gutanga-a...</td>\n",
              "      <td>NaN</td>\n",
              "    </tr>\n",
              "    <tr>\n",
              "      <th>7</th>\n",
              "      <td>abaye-uwa-kabiri-muri-uganda-eddy-kenzo-mu-bah...</td>\n",
              "      <td>https://inyarwanda.com/inkuru/122922/abaye-uwa...</td>\n",
              "      <td>NaN</td>\n",
              "    </tr>\n",
              "    <tr>\n",
              "      <th>8</th>\n",
              "      <td>yanikiriye-umugabo-we-jay-z-beyonce-yaciye-aga...</td>\n",
              "      <td>https://inyarwanda.com/inkuru/122918/yanikiriy...</td>\n",
              "      <td>NaN</td>\n",
              "    </tr>\n",
              "  </tbody>\n",
              "</table>\n",
              "</div>\n",
              "      <button class=\"colab-df-convert\" onclick=\"convertToInteractive('df-2465564d-530c-4e0c-a6c3-4fc8abe435c5')\"\n",
              "              title=\"Convert this dataframe to an interactive table.\"\n",
              "              style=\"display:none;\">\n",
              "        \n",
              "  <svg xmlns=\"http://www.w3.org/2000/svg\" height=\"24px\"viewBox=\"0 0 24 24\"\n",
              "       width=\"24px\">\n",
              "    <path d=\"M0 0h24v24H0V0z\" fill=\"none\"/>\n",
              "    <path d=\"M18.56 5.44l.94 2.06.94-2.06 2.06-.94-2.06-.94-.94-2.06-.94 2.06-2.06.94zm-11 1L8.5 8.5l.94-2.06 2.06-.94-2.06-.94L8.5 2.5l-.94 2.06-2.06.94zm10 10l.94 2.06.94-2.06 2.06-.94-2.06-.94-.94-2.06-.94 2.06-2.06.94z\"/><path d=\"M17.41 7.96l-1.37-1.37c-.4-.4-.92-.59-1.43-.59-.52 0-1.04.2-1.43.59L10.3 9.45l-7.72 7.72c-.78.78-.78 2.05 0 2.83L4 21.41c.39.39.9.59 1.41.59.51 0 1.02-.2 1.41-.59l7.78-7.78 2.81-2.81c.8-.78.8-2.07 0-2.86zM5.41 20L4 18.59l7.72-7.72 1.47 1.35L5.41 20z\"/>\n",
              "  </svg>\n",
              "      </button>\n",
              "      \n",
              "  <style>\n",
              "    .colab-df-container {\n",
              "      display:flex;\n",
              "      flex-wrap:wrap;\n",
              "      gap: 12px;\n",
              "    }\n",
              "\n",
              "    .colab-df-convert {\n",
              "      background-color: #E8F0FE;\n",
              "      border: none;\n",
              "      border-radius: 50%;\n",
              "      cursor: pointer;\n",
              "      display: none;\n",
              "      fill: #1967D2;\n",
              "      height: 32px;\n",
              "      padding: 0 0 0 0;\n",
              "      width: 32px;\n",
              "    }\n",
              "\n",
              "    .colab-df-convert:hover {\n",
              "      background-color: #E2EBFA;\n",
              "      box-shadow: 0px 1px 2px rgba(60, 64, 67, 0.3), 0px 1px 3px 1px rgba(60, 64, 67, 0.15);\n",
              "      fill: #174EA6;\n",
              "    }\n",
              "\n",
              "    [theme=dark] .colab-df-convert {\n",
              "      background-color: #3B4455;\n",
              "      fill: #D2E3FC;\n",
              "    }\n",
              "\n",
              "    [theme=dark] .colab-df-convert:hover {\n",
              "      background-color: #434B5C;\n",
              "      box-shadow: 0px 1px 3px 1px rgba(0, 0, 0, 0.15);\n",
              "      filter: drop-shadow(0px 1px 2px rgba(0, 0, 0, 0.3));\n",
              "      fill: #FFFFFF;\n",
              "    }\n",
              "  </style>\n",
              "\n",
              "      <script>\n",
              "        const buttonEl =\n",
              "          document.querySelector('#df-2465564d-530c-4e0c-a6c3-4fc8abe435c5 button.colab-df-convert');\n",
              "        buttonEl.style.display =\n",
              "          google.colab.kernel.accessAllowed ? 'block' : 'none';\n",
              "\n",
              "        async function convertToInteractive(key) {\n",
              "          const element = document.querySelector('#df-2465564d-530c-4e0c-a6c3-4fc8abe435c5');\n",
              "          const dataTable =\n",
              "            await google.colab.kernel.invokeFunction('convertToInteractive',\n",
              "                                                     [key], {});\n",
              "          if (!dataTable) return;\n",
              "\n",
              "          const docLinkHtml = 'Like what you see? Visit the ' +\n",
              "            '<a target=\"_blank\" href=https://colab.research.google.com/notebooks/data_table.ipynb>data table notebook</a>'\n",
              "            + ' to learn more about interactive tables.';\n",
              "          element.innerHTML = '';\n",
              "          dataTable['output_type'] = 'display_data';\n",
              "          await google.colab.output.renderOutput(dataTable, element);\n",
              "          const docLink = document.createElement('div');\n",
              "          docLink.innerHTML = docLinkHtml;\n",
              "          element.appendChild(docLink);\n",
              "        }\n",
              "      </script>\n",
              "    </div>\n",
              "  </div>\n",
              "  "
            ]
          },
          "metadata": {},
          "execution_count": 66
        }
      ]
    },
    {
      "cell_type": "code",
      "source": [
        "imyi_description = requests.get(\"https://inyarwanda.com/inkuru/122952/kelly-rowland-yihanije-abamujyereranya-na-beyonce-bahoranye-mu-itsinda-rimwe-122952.html\").content\n",
        "soup = BeautifulSoup(imyi_description, \"html.parser\")\n",
        "body = soup.find_all(\"div\", class_=\"col s12 m12 l12 nm np artbody\")"
      ],
      "metadata": {
        "id": "nnmq1lw7A_AE"
      },
      "execution_count": 67,
      "outputs": []
    },
    {
      "cell_type": "code",
      "source": [
        "body[0].getText()"
      ],
      "metadata": {
        "colab": {
          "base_uri": "https://localhost:8080/",
          "height": 145
        },
        "id": "h9Ch1dQ0cxyT",
        "outputId": "c60810bd-9826-45ec-95d0-09045d39717f"
      },
      "execution_count": 68,
      "outputs": [
        {
          "output_type": "execute_result",
          "data": {
            "text/plain": [
              "\"\\nAmazina nka Kelly Rowland na Beyonce ni amwe mu akunze kuvugwa ahantu hamwe mu muziki bitewe nuko aba bahanzikazi bombi bakuranye mu itsinda rya Destin's Childs ari naryo ryabazamuye.\\xa0Kuba bombi ari ni inshuti za hafi nabyo bituma bakunze kuvugirwa hamwe gusa by'umwihariko bakunze kugereranywa ubuhanga bwabo aho bamwe bavuga ko Beyonce ari umuhanga kurusha Kelly Rowland.Ibi ni byo Kelly Rowland yagarutseho mu kiganiro yagiranye na Apple Music kinyura kuri murandasi kizwi ku izina rya Ebro In The Morning Show. Uyu muhanzikazi yagarutse ku kuba akunze kugereranywa na Beyonce ndetse yihaniza ababikora, avuga ko bidakwiriye kuko hagati ye na Beyonce nta kintu gihari cyo kubagereranya nubwo bikunze gukorwa ku mbuga nkoranyambaga.Kelly Rowland ntabyumva kimwe n'abamugereranya na BeyonceMu magambo ye Kelly Rowland yagize ati: ''Sindasobanukirwa igituma abantu bumva bangereranya na Beyonce. Sinzi niba ari uko twakuranye mu itsinda rimwe cyangwa biterwa nuko twese dushoboye kuririmba neza. Njye na Beyonce turi nk'abavandimwe, ni umuntu nkunda kandi nubaha gusa mbona njye nawe dutandukanye ku buryo ntawatugereranya''.Yakomeje agira ati: ''Nemera ko afite urumuri kandi najye ndarufite. Imuri zacu zimurika mu buryo butandukanye kandi ni nabyo byiza kuko turi abantu babiri batandukanye. Twese dufite uburyo bwiza dukoramo umuziki gusa buratandukanye. Si byiza ko batugereranya kuko nibyo dukora si bimwe''.Kelly Rowland abona we na Beyonce ari abahanga mu buryo butandukanye ariyo mpamvu abantu batagomba kubagereranyaAbajijwe niba yemeranya n'abavuga ko Beyonce amurusha ubuhanga ari nacyo cyatumye badakomezanya kuba mu itsinda rimwe, Kelly Rowland yasubije agira ati: ''Yego ni byo Beyonce ni umuhanga ntawutabizi gusa nanjye ndi umuhanga. Nk'uko natangiye mbivuga twese turi abahanga mu buryo butandukanye. Nasaba abantu kurekeraho kutugereranya''. Ibi Kelly Rowland abitangaje hashize igihe ku mbuga nkoranyambaga bagereranya ubuhanga bwabo.\\n\""
            ],
            "application/vnd.google.colaboratory.intrinsic+json": {
              "type": "string"
            }
          },
          "metadata": {},
          "execution_count": 68
        }
      ]
    },
    {
      "cell_type": "code",
      "source": [
        "#Alternative way\n",
        "for index, link in enumerate(df['link_title']):\n",
        "  content = requests.get(link).content\n",
        "  soup = BeautifulSoup(content, \"html.parser\")\n",
        "  body = soup.find(\"div\", class_=\"col s12 m12 l12 nm np artbody\")\n",
        "  df.loc[index][\"description\"] = body.text"
      ],
      "metadata": {
        "id": "x_7jTNl6UD3m"
      },
      "execution_count": 79,
      "outputs": []
    },
    {
      "cell_type": "code",
      "source": [
        "# for index in range(len(df['link_title'])):\n",
        "#   content = requests.get(df.iloc[index]['link_title']).content\n",
        "#   soup = BeautifulSoup(content, \"html.parser\")\n",
        "#   body = soup.find(\"div\", class_=\"col s12 m12 l12 nm np artbody\") \n",
        "#   df[\"description\"] = body.text"
      ],
      "metadata": {
        "id": "ugj1bu8LLj9b"
      },
      "execution_count": 80,
      "outputs": []
    },
    {
      "cell_type": "code",
      "source": [
        "df['description'] "
      ],
      "metadata": {
        "id": "nE8OBEukd6vF",
        "colab": {
          "base_uri": "https://localhost:8080/"
        },
        "outputId": "a4820ec3-7674-486b-c40f-742afebb8eae"
      },
      "execution_count": 81,
      "outputs": [
        {
          "output_type": "execute_result",
          "data": {
            "text/plain": [
              "0    \\nU Rwanda rwatangiranye n’icyerekezo ‘Vision ...\n",
              "1    \\nAmazina nka Kelly Rowland na Beyonce ni amwe...\n",
              "2    \\nIzina Dorimbogo ryaramamaye cyane kurenza ir...\n",
              "3    \\nNk'uko abashinjacyaha\\r\\nbabigaragarije uruk...\n",
              "4    \\nKuri uyu wa Gatatu tariki 16 Ugushyingo 2022...\n",
              "5    \\nKu bakoresha\\r\\nimbuga nkoranyambaga n’abaku...\n",
              "6    \\nIbihembo byavuzwe cyane mu Rwanda ni ‘Salax ...\n",
              "7    \\nEdrisa Musuuza wamamaye ku izina rya Eddy Ke...\n",
              "8    \\nBeyonce Knowles Carter umuhanzikazi w'icyama...\n",
              "Name: description, dtype: object"
            ]
          },
          "metadata": {},
          "execution_count": 81
        }
      ]
    },
    {
      "cell_type": "code",
      "source": [
        "df"
      ],
      "metadata": {
        "colab": {
          "base_uri": "https://localhost:8080/",
          "height": 331
        },
        "id": "XDhKJO_YLmQh",
        "outputId": "aaed5e75-5f7f-4206-c9f7-d027c4fd8419"
      },
      "execution_count": 82,
      "outputs": [
        {
          "output_type": "execute_result",
          "data": {
            "text/plain": [
              "                                               title  \\\n",
              "0  mistaek-uzwi-mu-ndirimbo-kucyaro-yasobanuye-al...   \n",
              "1  kelly-rowland-yihanije-abamujyereranya-na-beyo...   \n",
              "2  vava-wamamaye-nka-dorimbogo-yashyize-hanze-ind...   \n",
              "3  filimi-zurukozasoni-zamwinjirije-miliyari-3frw...   \n",
              "4  minisitiri-ildephonse-musafiri-yahaye-umugisha...   \n",
              "5  yibukije-abantu-inkumi-zarikoroje-moses-wasoho...   \n",
              "6  gutanga-awards-ku-bahanzi-ibitaramo-bizenguruk...   \n",
              "7  abaye-uwa-kabiri-muri-uganda-eddy-kenzo-mu-bah...   \n",
              "8  yanikiriye-umugabo-we-jay-z-beyonce-yaciye-aga...   \n",
              "\n",
              "                                          link_title  \\\n",
              "0  https://inyarwanda.com/inkuru/122953/mistaek-u...   \n",
              "1  https://inyarwanda.com/inkuru/122952/kelly-row...   \n",
              "2  https://inyarwanda.com/inkuru/122944/vava-wama...   \n",
              "3  https://inyarwanda.com/inkuru/122926/filimi-zu...   \n",
              "4  https://inyarwanda.com/inkuru/122933/minisitir...   \n",
              "5  https://inyarwanda.com/inkuru/122923/yibukije-...   \n",
              "6  https://inyarwanda.com/inkuru/122928/gutanga-a...   \n",
              "7  https://inyarwanda.com/inkuru/122922/abaye-uwa...   \n",
              "8  https://inyarwanda.com/inkuru/122918/yanikiriy...   \n",
              "\n",
              "                                         description  \n",
              "0  \\nU Rwanda rwatangiranye n’icyerekezo ‘Vision ...  \n",
              "1  \\nAmazina nka Kelly Rowland na Beyonce ni amwe...  \n",
              "2  \\nIzina Dorimbogo ryaramamaye cyane kurenza ir...  \n",
              "3  \\nNk'uko abashinjacyaha\\r\\nbabigaragarije uruk...  \n",
              "4  \\nKuri uyu wa Gatatu tariki 16 Ugushyingo 2022...  \n",
              "5  \\nKu bakoresha\\r\\nimbuga nkoranyambaga n’abaku...  \n",
              "6  \\nIbihembo byavuzwe cyane mu Rwanda ni ‘Salax ...  \n",
              "7  \\nEdrisa Musuuza wamamaye ku izina rya Eddy Ke...  \n",
              "8  \\nBeyonce Knowles Carter umuhanzikazi w'icyama...  "
            ],
            "text/html": [
              "\n",
              "  <div id=\"df-9b1a25db-9f2c-4032-8bc7-cb6f08e62443\">\n",
              "    <div class=\"colab-df-container\">\n",
              "      <div>\n",
              "<style scoped>\n",
              "    .dataframe tbody tr th:only-of-type {\n",
              "        vertical-align: middle;\n",
              "    }\n",
              "\n",
              "    .dataframe tbody tr th {\n",
              "        vertical-align: top;\n",
              "    }\n",
              "\n",
              "    .dataframe thead th {\n",
              "        text-align: right;\n",
              "    }\n",
              "</style>\n",
              "<table border=\"1\" class=\"dataframe\">\n",
              "  <thead>\n",
              "    <tr style=\"text-align: right;\">\n",
              "      <th></th>\n",
              "      <th>title</th>\n",
              "      <th>link_title</th>\n",
              "      <th>description</th>\n",
              "    </tr>\n",
              "  </thead>\n",
              "  <tbody>\n",
              "    <tr>\n",
              "      <th>0</th>\n",
              "      <td>mistaek-uzwi-mu-ndirimbo-kucyaro-yasobanuye-al...</td>\n",
              "      <td>https://inyarwanda.com/inkuru/122953/mistaek-u...</td>\n",
              "      <td>\\nU Rwanda rwatangiranye n’icyerekezo ‘Vision ...</td>\n",
              "    </tr>\n",
              "    <tr>\n",
              "      <th>1</th>\n",
              "      <td>kelly-rowland-yihanije-abamujyereranya-na-beyo...</td>\n",
              "      <td>https://inyarwanda.com/inkuru/122952/kelly-row...</td>\n",
              "      <td>\\nAmazina nka Kelly Rowland na Beyonce ni amwe...</td>\n",
              "    </tr>\n",
              "    <tr>\n",
              "      <th>2</th>\n",
              "      <td>vava-wamamaye-nka-dorimbogo-yashyize-hanze-ind...</td>\n",
              "      <td>https://inyarwanda.com/inkuru/122944/vava-wama...</td>\n",
              "      <td>\\nIzina Dorimbogo ryaramamaye cyane kurenza ir...</td>\n",
              "    </tr>\n",
              "    <tr>\n",
              "      <th>3</th>\n",
              "      <td>filimi-zurukozasoni-zamwinjirije-miliyari-3frw...</td>\n",
              "      <td>https://inyarwanda.com/inkuru/122926/filimi-zu...</td>\n",
              "      <td>\\nNk'uko abashinjacyaha\\r\\nbabigaragarije uruk...</td>\n",
              "    </tr>\n",
              "    <tr>\n",
              "      <th>4</th>\n",
              "      <td>minisitiri-ildephonse-musafiri-yahaye-umugisha...</td>\n",
              "      <td>https://inyarwanda.com/inkuru/122933/minisitir...</td>\n",
              "      <td>\\nKuri uyu wa Gatatu tariki 16 Ugushyingo 2022...</td>\n",
              "    </tr>\n",
              "    <tr>\n",
              "      <th>5</th>\n",
              "      <td>yibukije-abantu-inkumi-zarikoroje-moses-wasoho...</td>\n",
              "      <td>https://inyarwanda.com/inkuru/122923/yibukije-...</td>\n",
              "      <td>\\nKu bakoresha\\r\\nimbuga nkoranyambaga n’abaku...</td>\n",
              "    </tr>\n",
              "    <tr>\n",
              "      <th>6</th>\n",
              "      <td>gutanga-awards-ku-bahanzi-ibitaramo-bizenguruk...</td>\n",
              "      <td>https://inyarwanda.com/inkuru/122928/gutanga-a...</td>\n",
              "      <td>\\nIbihembo byavuzwe cyane mu Rwanda ni ‘Salax ...</td>\n",
              "    </tr>\n",
              "    <tr>\n",
              "      <th>7</th>\n",
              "      <td>abaye-uwa-kabiri-muri-uganda-eddy-kenzo-mu-bah...</td>\n",
              "      <td>https://inyarwanda.com/inkuru/122922/abaye-uwa...</td>\n",
              "      <td>\\nEdrisa Musuuza wamamaye ku izina rya Eddy Ke...</td>\n",
              "    </tr>\n",
              "    <tr>\n",
              "      <th>8</th>\n",
              "      <td>yanikiriye-umugabo-we-jay-z-beyonce-yaciye-aga...</td>\n",
              "      <td>https://inyarwanda.com/inkuru/122918/yanikiriy...</td>\n",
              "      <td>\\nBeyonce Knowles Carter umuhanzikazi w'icyama...</td>\n",
              "    </tr>\n",
              "  </tbody>\n",
              "</table>\n",
              "</div>\n",
              "      <button class=\"colab-df-convert\" onclick=\"convertToInteractive('df-9b1a25db-9f2c-4032-8bc7-cb6f08e62443')\"\n",
              "              title=\"Convert this dataframe to an interactive table.\"\n",
              "              style=\"display:none;\">\n",
              "        \n",
              "  <svg xmlns=\"http://www.w3.org/2000/svg\" height=\"24px\"viewBox=\"0 0 24 24\"\n",
              "       width=\"24px\">\n",
              "    <path d=\"M0 0h24v24H0V0z\" fill=\"none\"/>\n",
              "    <path d=\"M18.56 5.44l.94 2.06.94-2.06 2.06-.94-2.06-.94-.94-2.06-.94 2.06-2.06.94zm-11 1L8.5 8.5l.94-2.06 2.06-.94-2.06-.94L8.5 2.5l-.94 2.06-2.06.94zm10 10l.94 2.06.94-2.06 2.06-.94-2.06-.94-.94-2.06-.94 2.06-2.06.94z\"/><path d=\"M17.41 7.96l-1.37-1.37c-.4-.4-.92-.59-1.43-.59-.52 0-1.04.2-1.43.59L10.3 9.45l-7.72 7.72c-.78.78-.78 2.05 0 2.83L4 21.41c.39.39.9.59 1.41.59.51 0 1.02-.2 1.41-.59l7.78-7.78 2.81-2.81c.8-.78.8-2.07 0-2.86zM5.41 20L4 18.59l7.72-7.72 1.47 1.35L5.41 20z\"/>\n",
              "  </svg>\n",
              "      </button>\n",
              "      \n",
              "  <style>\n",
              "    .colab-df-container {\n",
              "      display:flex;\n",
              "      flex-wrap:wrap;\n",
              "      gap: 12px;\n",
              "    }\n",
              "\n",
              "    .colab-df-convert {\n",
              "      background-color: #E8F0FE;\n",
              "      border: none;\n",
              "      border-radius: 50%;\n",
              "      cursor: pointer;\n",
              "      display: none;\n",
              "      fill: #1967D2;\n",
              "      height: 32px;\n",
              "      padding: 0 0 0 0;\n",
              "      width: 32px;\n",
              "    }\n",
              "\n",
              "    .colab-df-convert:hover {\n",
              "      background-color: #E2EBFA;\n",
              "      box-shadow: 0px 1px 2px rgba(60, 64, 67, 0.3), 0px 1px 3px 1px rgba(60, 64, 67, 0.15);\n",
              "      fill: #174EA6;\n",
              "    }\n",
              "\n",
              "    [theme=dark] .colab-df-convert {\n",
              "      background-color: #3B4455;\n",
              "      fill: #D2E3FC;\n",
              "    }\n",
              "\n",
              "    [theme=dark] .colab-df-convert:hover {\n",
              "      background-color: #434B5C;\n",
              "      box-shadow: 0px 1px 3px 1px rgba(0, 0, 0, 0.15);\n",
              "      filter: drop-shadow(0px 1px 2px rgba(0, 0, 0, 0.3));\n",
              "      fill: #FFFFFF;\n",
              "    }\n",
              "  </style>\n",
              "\n",
              "      <script>\n",
              "        const buttonEl =\n",
              "          document.querySelector('#df-9b1a25db-9f2c-4032-8bc7-cb6f08e62443 button.colab-df-convert');\n",
              "        buttonEl.style.display =\n",
              "          google.colab.kernel.accessAllowed ? 'block' : 'none';\n",
              "\n",
              "        async function convertToInteractive(key) {\n",
              "          const element = document.querySelector('#df-9b1a25db-9f2c-4032-8bc7-cb6f08e62443');\n",
              "          const dataTable =\n",
              "            await google.colab.kernel.invokeFunction('convertToInteractive',\n",
              "                                                     [key], {});\n",
              "          if (!dataTable) return;\n",
              "\n",
              "          const docLinkHtml = 'Like what you see? Visit the ' +\n",
              "            '<a target=\"_blank\" href=https://colab.research.google.com/notebooks/data_table.ipynb>data table notebook</a>'\n",
              "            + ' to learn more about interactive tables.';\n",
              "          element.innerHTML = '';\n",
              "          dataTable['output_type'] = 'display_data';\n",
              "          await google.colab.output.renderOutput(dataTable, element);\n",
              "          const docLink = document.createElement('div');\n",
              "          docLink.innerHTML = docLinkHtml;\n",
              "          element.appendChild(docLink);\n",
              "        }\n",
              "      </script>\n",
              "    </div>\n",
              "  </div>\n",
              "  "
            ]
          },
          "metadata": {},
          "execution_count": 82
        }
      ]
    },
    {
      "cell_type": "code",
      "source": [],
      "metadata": {
        "id": "YFWqVBV9PvZL"
      },
      "execution_count": 83,
      "outputs": []
    },
    {
      "cell_type": "code",
      "source": [
        "data"
      ],
      "metadata": {
        "id": "RCwy9ecYik-8"
      },
      "execution_count": 74,
      "outputs": []
    },
    {
      "cell_type": "code",
      "source": [],
      "metadata": {
        "id": "j5c94yoUiqVf"
      },
      "execution_count": 74,
      "outputs": []
    }
  ]
}